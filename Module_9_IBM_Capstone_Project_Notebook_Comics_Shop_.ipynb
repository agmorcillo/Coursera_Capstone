{
  "nbformat": 4,
  "nbformat_minor": 0,
  "metadata": {
    "colab": {
      "name": "Module-9-IBM-Capstone-Project-Notebook - Comics Shop - .ipynb",
      "provenance": [],
      "authorship_tag": "ABX9TyMi9DSnsHBlAb4KQ71KIfbD",
      "include_colab_link": true
    },
    "kernelspec": {
      "name": "python3",
      "display_name": "Python 3"
    }
  },
  "cells": [
    {
      "cell_type": "markdown",
      "metadata": {
        "id": "view-in-github",
        "colab_type": "text"
      },
      "source": [
        "<a href=\"https://colab.research.google.com/github/agmorcillo/Coursera_Capstone/blob/main/Module_9_IBM_Capstone_Project_Notebook_Comics_Shop_.ipynb\" target=\"_parent\"><img src=\"https://colab.research.google.com/assets/colab-badge.svg\" alt=\"Open In Colab\"/></a>"
      ]
    },
    {
      "cell_type": "markdown",
      "metadata": {
        "id": "pmuqRamVXCx_"
      },
      "source": [
        "# **Module-9-IBM-Capstone-Project-Notebook** - **Comics Shop**"
      ]
    },
    {
      "cell_type": "markdown",
      "metadata": {
        "id": "MhKFIyC3VSI4"
      },
      "source": [
        "\r\n",
        "\r\n",
        "Comic book stores sell comic books and related paraphernalia, such as action figures, models, posters, and more. These comic book shops differ from larger retail bookstores in that they offer a wider and more exclusive selection of comic books and feature rare collectibles. Comic book stores are usually defined by their community business style. Customers browse, engage, and lounge about at comic book stores always hoping to find that rare item that completes a collection.\r\n",
        "\r\n",
        "There are about 2,000 direct market comics shops in the U.S.\r\n",
        "\r\n",
        "Comics and graphic novel sales had their best year ever in 2019, according to the annual report just released by ICv2 and Comichron, with sales topping $1.21 billion [Source](https://icv2.com/articles/markets/view/46094/comics-graphic-novel-sales-top-1-2-billion-2019).\r\n",
        "\r\n",
        "Overall sales were up 11% from 2018 in North America."
      ]
    },
    {
      "cell_type": "markdown",
      "metadata": {
        "id": "5j8qJSSfYIJT"
      },
      "source": [
        "\r\n",
        "\r\n",
        "---\r\n",
        "\r\n"
      ]
    },
    {
      "cell_type": "markdown",
      "metadata": {
        "id": "4s4NHxpAYNtk"
      },
      "source": [
        "# **Business Problem**"
      ]
    },
    {
      "cell_type": "markdown",
      "metadata": {
        "id": "KKU0h3qLaILR"
      },
      "source": [
        "Being successful in your home market does not guarantee that you will have it in other markets, since the culture and habits of potential clients are unknown, if to that we add ignorance in bureaucratic procedures, direct and indirect competitors are enough factors to end this adventure in disaster.\r\n",
        "\r\n",
        "The level of stores already established and with a reputation is high, the business model even leaving handling margins of 30 or 40% on cost price is not to become rich.\r\n",
        "\r\n",
        "Having a decent selection of inventory may require an investment of 10,000 USD to 25,000 USD to get started. [Source](https://howtostartanllc.com/business-ideas/comic-book)\r\n",
        "\r\n",
        "A comic book store makes money by purchasing comic books and and reselling them for a profit. The key to this business is to be a successful trader. You must know the fair market prices for rare comic books and you must buy them for less than the going prices in order to resell them for a profit.\r\n",
        "\r\n",
        "Additionally, a comic book store can also make money by selling online. Two alternatives to the traditional brick-and-mortar store business model include:\r\n",
        "\r\n",
        "    Online sale of physical comics\r\n",
        "    Online sale of digital comics\r\n",
        "\r\n",
        "The 10 Best Competitors in New York:\r\n",
        "\r\n",
        "1. Midtown Comics\r\n",
        "2. Forbidden Planet\r\n",
        "3. Mysterious Time Machine\r\n",
        "4. Midtown Comics\r\n",
        "5. Books Kinokuniya\r\n",
        "6. The Dead Rabbit\r\n",
        "7. Alex's MVP Comics & Cards\r\n",
        "8. Shake Shack\r\n",
        "9. Strand Bookstore\r\n",
        "10. Carmine Street Comics\r\n",
        "\r\n",
        "[Foursquare Source](https://foursquare.com/top-places/new-york-city/best-places-comic-books)\r\n",
        "\r\n",
        "My client is a Spanish businessman who wants to open a comic shop in New York to later expand throughout the rest of the United States and he needs to know which is the best location and which is his competition.\r\n",
        "\r\n"
      ]
    },
    {
      "cell_type": "markdown",
      "metadata": {
        "id": "25s9bshJd__C"
      },
      "source": [
        "### **Problem Statement**\r\n",
        "\r\n",
        "To locate and recommend to the client which neighbourhood in New York City will be best choice to start a Comic Shop.\r\n"
      ]
    },
    {
      "cell_type": "markdown",
      "metadata": {
        "id": "sTpBp42vk_vZ"
      },
      "source": [
        "# **Who is the target Audience?**\r\n",
        "\r\n",
        "Serious ollectors are the lifeblood of this business. The customers who want a rare comic book that is extremely hard to find are good and the ones that maintain more than one type of collection are excellent customers. Disposable income allows customers to pay big prices for the collectibles that they treasure. These are good customers for this business. You hunt for them and they pay good prices to you in order to complete their collection of the comic books they love."
      ]
    },
    {
      "cell_type": "markdown",
      "metadata": {
        "id": "6nsRUI7oeP70"
      },
      "source": [
        "Before opening a new Comic Shop in NYC, I will provide data and insight to:"
      ]
    },
    {
      "cell_type": "markdown",
      "metadata": {
        "id": "04JZp-HfV8sl"
      },
      "source": [
        "### **Data Section:**"
      ]
    },
    {
      "cell_type": "markdown",
      "metadata": {
        "id": "SFMwdaieemph"
      },
      "source": [
        "***NYC Population & Demographic characteristics***"
      ]
    },
    {
      "cell_type": "markdown",
      "metadata": {
        "id": "xAQbclsVUUr9"
      },
      "source": [
        "Data source:https://en.wikipedia.org/wiki/New_York_City ; hhttps://en.wikipedia.org/wiki/Brooklyn. Web scraping techniques was used to get NYC's population density and demographics data from Wikipedia. - [Script in Python](https://github.com/agmorcillo/Coursera_Capstone/blob/main/New_York_city_population_and_demographic_data.ipynb)\r\n",
        "Preliminary finding indicates that Brooklyn being the most populous urban area in New York City (NYC)\r\n",
        "\r\n",
        " After it, we will get the geographical coordinates of the neighborhoods (latitude and longitude) using Python Geocoder package.\r\n",
        "\r\n"
      ]
    },
    {
      "cell_type": "markdown",
      "metadata": {
        "id": "kYwPHbS9ea9N"
      },
      "source": [
        "\r\n",
        "***Who are the competitors in that location?***\r\n",
        "\r\n",
        "Data source:https://cocl.us/new_york_dataset and Foursquare API. These dataset was used to explore various neighbourhoods and each Comic Shop venues in the neighbourhood."
      ]
    },
    {
      "cell_type": "markdown",
      "metadata": {
        "id": "M_xKW0YnkVAN"
      },
      "source": [
        "Finally, we will use Foursquare API to get the venue data for the neighborhoods defined at the previous step. Foursquare has one of the largest databases of 105+ million places and over 125,000 developers use this application. Foursquare API provides many categories of the venue data; we are particularly interested in the restaurant data to solve the business problem defined above.\r\n",
        "\r\n",
        "This project will require using of many data science skills, from web scrapping (open source dataset), working with API (Foursquare), data cleaning, data wrangling, to map visualization (Folium). [Script in Python](https://github.com/agmorcillo/Coursera_Capstone/blob/main/Capstone_Project.ipynb)"
      ]
    },
    {
      "cell_type": "markdown",
      "metadata": {
        "id": "0X6_fi0Ctgr9"
      },
      "source": [
        "## **Recommendations**"
      ]
    },
    {
      "cell_type": "markdown",
      "metadata": {
        "id": "cZ1GxK0ntkyT"
      },
      "source": [
        "***Brooklyn is the best choice to open a Comic Shop:***\r\n",
        "\r\n",
        "*   Brooklyn has a population  of 2.559.903 people\r\n",
        "*   Brooklyn has a population density 13.957 per square km\r\n",
        "*   It has some of the top rated Comic Shop located in that area\r\n",
        "*   Given New York City's role as a crossroads for immigration from around the world, Brooklyn has evolved a globally cosmopolitan ambiance of its own, demonstrating a robust and growing demographic and cultural diversity with respect to metrics including nationality, religion, race, and domiciliary partnership.\r\n",
        "*   The most ethnically is the White ethnic population.\r\n",
        "\r\n",
        "  \r\n"
      ]
    }
  ]
}