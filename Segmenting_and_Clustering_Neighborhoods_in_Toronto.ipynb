{
  "nbformat": 4,
  "nbformat_minor": 0,
  "metadata": {
    "colab": {
      "name": "Segmenting and Clustering Neighborhoods in Toronto.ipynb",
      "provenance": [],
      "toc_visible": true,
      "authorship_tag": "ABX9TyNb8O5tiUC5KOM5X5K4JO2U",
      "include_colab_link": true
    },
    "kernelspec": {
      "name": "python3",
      "display_name": "Python 3"
    }
  },
  "cells": [
    {
      "cell_type": "markdown",
      "metadata": {
        "id": "view-in-github",
        "colab_type": "text"
      },
      "source": [
        "<a href=\"https://colab.research.google.com/github/agmorcillo/Coursera_Capstone/blob/main/Segmenting_and_Clustering_Neighborhoods_in_Toronto.ipynb\" target=\"_parent\"><img src=\"https://colab.research.google.com/assets/colab-badge.svg\" alt=\"Open In Colab\"/></a>"
      ]
    },
    {
      "cell_type": "markdown",
      "metadata": {
        "id": "h2egVRvvie4s"
      },
      "source": [
        "# **Segmenting and Clustering Neighborhoods in Toronto**"
      ]
    },
    {
      "cell_type": "markdown",
      "metadata": {
        "id": "OAvAkmVFkRtX"
      },
      "source": [
        "# **Part1**"
      ]
    },
    {
      "cell_type": "markdown",
      "metadata": {
        "id": "Zrs9TKslB7Rk"
      },
      "source": [
        "### Loading libraries - Part 1"
      ]
    },
    {
      "cell_type": "code",
      "metadata": {
        "id": "dwFa_fBLABo8"
      },
      "source": [
        "import pandas as pd\r\n",
        "from bs4 import BeautifulSoup\r\n",
        "import requests\r\n",
        "import numpy as np"
      ],
      "execution_count": 58,
      "outputs": []
    },
    {
      "cell_type": "markdown",
      "metadata": {
        "id": "WNr_S6IZB5B6"
      },
      "source": [
        "### Scrapping the url using BeautifulSoup"
      ]
    },
    {
      "cell_type": "code",
      "metadata": {
        "colab": {
          "base_uri": "https://localhost:8080/",
          "height": 206
        },
        "id": "-uIGExbyAR5t",
        "outputId": "e3a45ee6-3d20-4caf-fc67-8cf8c4d9225f"
      },
      "source": [
        "# fetching Wikipedia page data using requests\r\n",
        "url = requests.get(\"https://en.wikipedia.org/wiki/List_of_postal_codes_of_Canada:_M\").text\r\n",
        "soup = BeautifulSoup(url, 'lxml')\r\n",
        "\r\n",
        "# looking tables on the Wikipedia page\r\n",
        "table = soup.find(\"table\")\r\n",
        "table_rows = table.tbody.find_all(\"tr\")\r\n",
        "\r\n",
        "\r\n",
        "\r\n",
        "clean = []\r\n",
        "for tr in table_rows:\r\n",
        "    td = tr.find_all(\"td\")\r\n",
        "    row = [tr.text for tr in td]\r\n",
        "    \r\n",
        "    # Only process the cells that have an assigned borough. Ignore cells with a borough that is Not assigned.\r\n",
        "    if row != [] and row[1] != \"Not assigned\\n\":\r\n",
        "        # If a cell has a borough but a \"Not assigned\" neighbourhood, then the neighborhood will be the same as the borough.\r\n",
        "        if \"Not assigned\\n\" in row[2]: \r\n",
        "            row[2] = row[1]\r\n",
        "        clean.append(row)\r\n",
        "\r\n",
        "# Dataframe with the main columns\r\n",
        "df = pd.DataFrame(clean, columns = [\"PostalCode\", \"Borough\", \"Neighbourhood\"])\r\n",
        "\r\n",
        "#Cleaning \"/n\" from de columns Neighbourhood, Borough and PostalCode\r\n",
        "\r\n",
        "df[\"Neighbourhood\"] = df[\"Neighbourhood\"].str.replace(\"\\n\",\"\")\r\n",
        "df[\"Borough\"] = df[\"Borough\"].str.replace(\"\\n\",\"\")\r\n",
        "df[\"PostalCode\"] = df[\"PostalCode\"].str.replace(\"\\n\",\"\")\r\n",
        "\r\n",
        "df.head()"
      ],
      "execution_count": 59,
      "outputs": [
        {
          "output_type": "execute_result",
          "data": {
            "text/html": [
              "<div>\n",
              "<style scoped>\n",
              "    .dataframe tbody tr th:only-of-type {\n",
              "        vertical-align: middle;\n",
              "    }\n",
              "\n",
              "    .dataframe tbody tr th {\n",
              "        vertical-align: top;\n",
              "    }\n",
              "\n",
              "    .dataframe thead th {\n",
              "        text-align: right;\n",
              "    }\n",
              "</style>\n",
              "<table border=\"1\" class=\"dataframe\">\n",
              "  <thead>\n",
              "    <tr style=\"text-align: right;\">\n",
              "      <th></th>\n",
              "      <th>PostalCode</th>\n",
              "      <th>Borough</th>\n",
              "      <th>Neighbourhood</th>\n",
              "    </tr>\n",
              "  </thead>\n",
              "  <tbody>\n",
              "    <tr>\n",
              "      <th>0</th>\n",
              "      <td>M3A</td>\n",
              "      <td>North York</td>\n",
              "      <td>Parkwoods</td>\n",
              "    </tr>\n",
              "    <tr>\n",
              "      <th>1</th>\n",
              "      <td>M4A</td>\n",
              "      <td>North York</td>\n",
              "      <td>Victoria Village</td>\n",
              "    </tr>\n",
              "    <tr>\n",
              "      <th>2</th>\n",
              "      <td>M5A</td>\n",
              "      <td>Downtown Toronto</td>\n",
              "      <td>Regent Park, Harbourfront</td>\n",
              "    </tr>\n",
              "    <tr>\n",
              "      <th>3</th>\n",
              "      <td>M6A</td>\n",
              "      <td>North York</td>\n",
              "      <td>Lawrence Manor, Lawrence Heights</td>\n",
              "    </tr>\n",
              "    <tr>\n",
              "      <th>4</th>\n",
              "      <td>M7A</td>\n",
              "      <td>Downtown Toronto</td>\n",
              "      <td>Queen's Park, Ontario Provincial Government</td>\n",
              "    </tr>\n",
              "  </tbody>\n",
              "</table>\n",
              "</div>"
            ],
            "text/plain": [
              "  PostalCode           Borough                                Neighbourhood\n",
              "0        M3A        North York                                    Parkwoods\n",
              "1        M4A        North York                             Victoria Village\n",
              "2        M5A  Downtown Toronto                    Regent Park, Harbourfront\n",
              "3        M6A        North York             Lawrence Manor, Lawrence Heights\n",
              "4        M7A  Downtown Toronto  Queen's Park, Ontario Provincial Government"
            ]
          },
          "metadata": {
            "tags": []
          },
          "execution_count": 59
        }
      ]
    },
    {
      "cell_type": "markdown",
      "metadata": {
        "id": "_NRtV7InBWkT"
      },
      "source": [
        "**Group all neighborhoods using postal code**"
      ]
    },
    {
      "cell_type": "code",
      "metadata": {
        "colab": {
          "base_uri": "https://localhost:8080/",
          "height": 206
        },
        "id": "ysWYuuFACq8a",
        "outputId": "d2401b49-6aef-4f43-ee6d-4308a70be5e8"
      },
      "source": [
        "df = df.groupby([\"PostalCode\", \"Borough\"])[\"Neighbourhood\"].apply(\", \".join).reset_index()\r\n",
        "df.head()"
      ],
      "execution_count": 60,
      "outputs": [
        {
          "output_type": "execute_result",
          "data": {
            "text/html": [
              "<div>\n",
              "<style scoped>\n",
              "    .dataframe tbody tr th:only-of-type {\n",
              "        vertical-align: middle;\n",
              "    }\n",
              "\n",
              "    .dataframe tbody tr th {\n",
              "        vertical-align: top;\n",
              "    }\n",
              "\n",
              "    .dataframe thead th {\n",
              "        text-align: right;\n",
              "    }\n",
              "</style>\n",
              "<table border=\"1\" class=\"dataframe\">\n",
              "  <thead>\n",
              "    <tr style=\"text-align: right;\">\n",
              "      <th></th>\n",
              "      <th>PostalCode</th>\n",
              "      <th>Borough</th>\n",
              "      <th>Neighbourhood</th>\n",
              "    </tr>\n",
              "  </thead>\n",
              "  <tbody>\n",
              "    <tr>\n",
              "      <th>0</th>\n",
              "      <td>M1B</td>\n",
              "      <td>Scarborough</td>\n",
              "      <td>Malvern, Rouge</td>\n",
              "    </tr>\n",
              "    <tr>\n",
              "      <th>1</th>\n",
              "      <td>M1C</td>\n",
              "      <td>Scarborough</td>\n",
              "      <td>Rouge Hill, Port Union, Highland Creek</td>\n",
              "    </tr>\n",
              "    <tr>\n",
              "      <th>2</th>\n",
              "      <td>M1E</td>\n",
              "      <td>Scarborough</td>\n",
              "      <td>Guildwood, Morningside, West Hill</td>\n",
              "    </tr>\n",
              "    <tr>\n",
              "      <th>3</th>\n",
              "      <td>M1G</td>\n",
              "      <td>Scarborough</td>\n",
              "      <td>Woburn</td>\n",
              "    </tr>\n",
              "    <tr>\n",
              "      <th>4</th>\n",
              "      <td>M1H</td>\n",
              "      <td>Scarborough</td>\n",
              "      <td>Cedarbrae</td>\n",
              "    </tr>\n",
              "  </tbody>\n",
              "</table>\n",
              "</div>"
            ],
            "text/plain": [
              "  PostalCode      Borough                           Neighbourhood\n",
              "0        M1B  Scarborough                          Malvern, Rouge\n",
              "1        M1C  Scarborough  Rouge Hill, Port Union, Highland Creek\n",
              "2        M1E  Scarborough       Guildwood, Morningside, West Hill\n",
              "3        M1G  Scarborough                                  Woburn\n",
              "4        M1H  Scarborough                               Cedarbrae"
            ]
          },
          "metadata": {
            "tags": []
          },
          "execution_count": 60
        }
      ]
    },
    {
      "cell_type": "markdown",
      "metadata": {
        "id": "iXAKg0kvHBDE"
      },
      "source": [
        "## **Question 1 Final Answer:**"
      ]
    },
    {
      "cell_type": "code",
      "metadata": {
        "colab": {
          "base_uri": "https://localhost:8080/"
        },
        "id": "Ry7ly3obC6Ca",
        "outputId": "8fe16daa-2e66-4f64-d598-f1546346814d"
      },
      "source": [
        "print(\"Shape: rows and columns\", df.shape)"
      ],
      "execution_count": 61,
      "outputs": [
        {
          "output_type": "stream",
          "text": [
            "Shape: rows and columns (103, 3)\n"
          ],
          "name": "stdout"
        }
      ]
    },
    {
      "cell_type": "markdown",
      "metadata": {
        "id": "gdCIphujEnJo"
      },
      "source": [
        "# **Part 2**"
      ]
    },
    {
      "cell_type": "markdown",
      "metadata": {
        "id": "6VkHeEqHG49G"
      },
      "source": [
        "Loading libraries - Part 2"
      ]
    },
    {
      "cell_type": "code",
      "metadata": {
        "id": "xPxjAU3cEdTf"
      },
      "source": [
        "from geopy.geocoders import Nominatim # convert an address into latitude and longitude values"
      ],
      "execution_count": 62,
      "outputs": []
    },
    {
      "cell_type": "markdown",
      "metadata": {
        "id": "GpVuX1SQIlcu"
      },
      "source": [
        "**Geocoder package:**"
      ]
    },
    {
      "cell_type": "code",
      "metadata": {
        "colab": {
          "base_uri": "https://localhost:8080/",
          "height": 206
        },
        "id": "W292KsPYFrlO",
        "outputId": "8829afe6-b806-430d-c830-e66617f16d05"
      },
      "source": [
        "df_geo_coor = pd.read_csv(\"sample_data/Geospatial_Coordinates.csv\")\r\n",
        "df_geo_coor.head()"
      ],
      "execution_count": 63,
      "outputs": [
        {
          "output_type": "execute_result",
          "data": {
            "text/html": [
              "<div>\n",
              "<style scoped>\n",
              "    .dataframe tbody tr th:only-of-type {\n",
              "        vertical-align: middle;\n",
              "    }\n",
              "\n",
              "    .dataframe tbody tr th {\n",
              "        vertical-align: top;\n",
              "    }\n",
              "\n",
              "    .dataframe thead th {\n",
              "        text-align: right;\n",
              "    }\n",
              "</style>\n",
              "<table border=\"1\" class=\"dataframe\">\n",
              "  <thead>\n",
              "    <tr style=\"text-align: right;\">\n",
              "      <th></th>\n",
              "      <th>Postal Code</th>\n",
              "      <th>Latitude</th>\n",
              "      <th>Longitude</th>\n",
              "    </tr>\n",
              "  </thead>\n",
              "  <tbody>\n",
              "    <tr>\n",
              "      <th>0</th>\n",
              "      <td>M1B</td>\n",
              "      <td>43.806686</td>\n",
              "      <td>-79.194353</td>\n",
              "    </tr>\n",
              "    <tr>\n",
              "      <th>1</th>\n",
              "      <td>M1C</td>\n",
              "      <td>43.784535</td>\n",
              "      <td>-79.160497</td>\n",
              "    </tr>\n",
              "    <tr>\n",
              "      <th>2</th>\n",
              "      <td>M1E</td>\n",
              "      <td>43.763573</td>\n",
              "      <td>-79.188711</td>\n",
              "    </tr>\n",
              "    <tr>\n",
              "      <th>3</th>\n",
              "      <td>M1G</td>\n",
              "      <td>43.770992</td>\n",
              "      <td>-79.216917</td>\n",
              "    </tr>\n",
              "    <tr>\n",
              "      <th>4</th>\n",
              "      <td>M1H</td>\n",
              "      <td>43.773136</td>\n",
              "      <td>-79.239476</td>\n",
              "    </tr>\n",
              "  </tbody>\n",
              "</table>\n",
              "</div>"
            ],
            "text/plain": [
              "  Postal Code   Latitude  Longitude\n",
              "0         M1B  43.806686 -79.194353\n",
              "1         M1C  43.784535 -79.160497\n",
              "2         M1E  43.763573 -79.188711\n",
              "3         M1G  43.770992 -79.216917\n",
              "4         M1H  43.773136 -79.239476"
            ]
          },
          "metadata": {
            "tags": []
          },
          "execution_count": 63
        }
      ]
    },
    {
      "cell_type": "code",
      "metadata": {
        "colab": {
          "base_uri": "https://localhost:8080/",
          "height": 206
        },
        "id": "0Gye12kZKc0U",
        "outputId": "e9be503a-722a-4986-bf66-dad4ed06fb90"
      },
      "source": [
        "# Merge Latitude and Longitude using PostalCode\r\n",
        "df_toronto = pd.merge(df, df_geo_coor, how='left', left_on = 'PostalCode', right_on = 'Postal Code')\r\n",
        "\r\n",
        "# delete the PostalCode column\r\n",
        "df_toronto.drop(\"Postal Code\", axis=1, inplace=True)\r\n",
        "df_toronto.head()"
      ],
      "execution_count": 64,
      "outputs": [
        {
          "output_type": "execute_result",
          "data": {
            "text/html": [
              "<div>\n",
              "<style scoped>\n",
              "    .dataframe tbody tr th:only-of-type {\n",
              "        vertical-align: middle;\n",
              "    }\n",
              "\n",
              "    .dataframe tbody tr th {\n",
              "        vertical-align: top;\n",
              "    }\n",
              "\n",
              "    .dataframe thead th {\n",
              "        text-align: right;\n",
              "    }\n",
              "</style>\n",
              "<table border=\"1\" class=\"dataframe\">\n",
              "  <thead>\n",
              "    <tr style=\"text-align: right;\">\n",
              "      <th></th>\n",
              "      <th>PostalCode</th>\n",
              "      <th>Borough</th>\n",
              "      <th>Neighbourhood</th>\n",
              "      <th>Latitude</th>\n",
              "      <th>Longitude</th>\n",
              "    </tr>\n",
              "  </thead>\n",
              "  <tbody>\n",
              "    <tr>\n",
              "      <th>0</th>\n",
              "      <td>M1B</td>\n",
              "      <td>Scarborough</td>\n",
              "      <td>Malvern, Rouge</td>\n",
              "      <td>43.806686</td>\n",
              "      <td>-79.194353</td>\n",
              "    </tr>\n",
              "    <tr>\n",
              "      <th>1</th>\n",
              "      <td>M1C</td>\n",
              "      <td>Scarborough</td>\n",
              "      <td>Rouge Hill, Port Union, Highland Creek</td>\n",
              "      <td>43.784535</td>\n",
              "      <td>-79.160497</td>\n",
              "    </tr>\n",
              "    <tr>\n",
              "      <th>2</th>\n",
              "      <td>M1E</td>\n",
              "      <td>Scarborough</td>\n",
              "      <td>Guildwood, Morningside, West Hill</td>\n",
              "      <td>43.763573</td>\n",
              "      <td>-79.188711</td>\n",
              "    </tr>\n",
              "    <tr>\n",
              "      <th>3</th>\n",
              "      <td>M1G</td>\n",
              "      <td>Scarborough</td>\n",
              "      <td>Woburn</td>\n",
              "      <td>43.770992</td>\n",
              "      <td>-79.216917</td>\n",
              "    </tr>\n",
              "    <tr>\n",
              "      <th>4</th>\n",
              "      <td>M1H</td>\n",
              "      <td>Scarborough</td>\n",
              "      <td>Cedarbrae</td>\n",
              "      <td>43.773136</td>\n",
              "      <td>-79.239476</td>\n",
              "    </tr>\n",
              "  </tbody>\n",
              "</table>\n",
              "</div>"
            ],
            "text/plain": [
              "  PostalCode      Borough  ...   Latitude  Longitude\n",
              "0        M1B  Scarborough  ...  43.806686 -79.194353\n",
              "1        M1C  Scarborough  ...  43.784535 -79.160497\n",
              "2        M1E  Scarborough  ...  43.763573 -79.188711\n",
              "3        M1G  Scarborough  ...  43.770992 -79.216917\n",
              "4        M1H  Scarborough  ...  43.773136 -79.239476\n",
              "\n",
              "[5 rows x 5 columns]"
            ]
          },
          "metadata": {
            "tags": []
          },
          "execution_count": 64
        }
      ]
    },
    {
      "cell_type": "markdown",
      "metadata": {
        "id": "zshAdh_QL9g5"
      },
      "source": [
        "**How many neighbourhoods in each borough**"
      ]
    },
    {
      "cell_type": "code",
      "metadata": {
        "colab": {
          "base_uri": "https://localhost:8080/"
        },
        "id": "mC0t4sztL0Nn",
        "outputId": "3229d240-57e5-4ffe-974c-51d5579bd88c"
      },
      "source": [
        "df_toronto.groupby('Borough').count()['Neighbourhood']"
      ],
      "execution_count": 65,
      "outputs": [
        {
          "output_type": "execute_result",
          "data": {
            "text/plain": [
              "Borough\n",
              "Central Toronto      9\n",
              "Downtown Toronto    19\n",
              "East Toronto         5\n",
              "East York            5\n",
              "Etobicoke           12\n",
              "Mississauga          1\n",
              "North York          24\n",
              "Scarborough         17\n",
              "West Toronto         6\n",
              "York                 5\n",
              "Name: Neighbourhood, dtype: int64"
            ]
          },
          "metadata": {
            "tags": []
          },
          "execution_count": 65
        }
      ]
    },
    {
      "cell_type": "markdown",
      "metadata": {
        "id": "PXthjao8PPmg"
      },
      "source": [
        "**Obtain the coordinates from the dataset itself, just averaging Latitude/Longitude**"
      ]
    },
    {
      "cell_type": "code",
      "metadata": {
        "colab": {
          "base_uri": "https://localhost:8080/"
        },
        "id": "ue_vgs84PMBI",
        "outputId": "ac267ef7-ab05-4373-97ea-e5e8673ac357"
      },
      "source": [
        "lat_toronto = df_toronto['Latitude'].mean()\r\n",
        "lon_toronto = df_toronto['Longitude'].mean()\r\n",
        "print('The geographical coordinates of Toronto are {}, {}'.format(lat_toronto, lon_toronto))"
      ],
      "execution_count": 66,
      "outputs": [
        {
          "output_type": "stream",
          "text": [
            "The geographical coordinates of Toronto are 43.70460773398059, -79.39715291165048\n"
          ],
          "name": "stdout"
        }
      ]
    },
    {
      "cell_type": "markdown",
      "metadata": {
        "id": "daQCVTQhLXqi"
      },
      "source": [
        "# **Part 3**"
      ]
    },
    {
      "cell_type": "markdown",
      "metadata": {
        "id": "39tRrRWmMZvG"
      },
      "source": [
        "## Loading libraries - Part 3"
      ]
    },
    {
      "cell_type": "code",
      "metadata": {
        "id": "hgRSlAVqMI1b"
      },
      "source": [
        "from pandas.io.json import json_normalize  # tranform JSON file into a pandas dataframe\r\n",
        "import folium # map rendering library\r\n",
        "\r\n",
        "# import k-means from clustering stage\r\n",
        "from sklearn.cluster import KMeans"
      ],
      "execution_count": 67,
      "outputs": []
    },
    {
      "cell_type": "markdown",
      "metadata": {
        "id": "89QSRQCo277z"
      },
      "source": [
        "**Get the latitude and longitude of Toronto**"
      ]
    },
    {
      "cell_type": "code",
      "metadata": {
        "colab": {
          "base_uri": "https://localhost:8080/"
        },
        "id": "tjumDeV42aTj",
        "outputId": "7bf751a9-9819-4d0a-e233-87592e36aa4c"
      },
      "source": [
        "address = \"Toronto, ON\"\r\n",
        "\r\n",
        "geolocator = Nominatim(user_agent=\"toronto_explorer\")\r\n",
        "location = geolocator.geocode(address)\r\n",
        "latitude = location.latitude\r\n",
        "longitude = location.longitude\r\n",
        "print('The geograpical coordinate of Toronto city are {}, {}.'.format(latitude, longitude))"
      ],
      "execution_count": 68,
      "outputs": [
        {
          "output_type": "stream",
          "text": [
            "The geograpical coordinate of Toronto city are 43.6534817, -79.3839347.\n"
          ],
          "name": "stdout"
        }
      ]
    },
    {
      "cell_type": "markdown",
      "metadata": {
        "id": "Jn2eOLI33PVl"
      },
      "source": [
        "**Create a map of the whole Toronto City with neighborhoods superimposed on top**"
      ]
    },
    {
      "cell_type": "code",
      "metadata": {
        "colab": {
          "base_uri": "https://localhost:8080/",
          "height": 647
        },
        "id": "qHkaYzuw3UaN",
        "outputId": "9830d7da-1a78-45e9-ba3b-74d48a8b6c20"
      },
      "source": [
        "map_toronto = folium.Map(location=[latitude, longitude], zoom_start=10)\r\n",
        "map_toronto"
      ],
      "execution_count": 69,
      "outputs": [
        {
          "output_type": "execute_result",
          "data": {
            "text/html": [
              "<div style=\"width:100%;\"><div style=\"position:relative;width:100%;height:0;padding-bottom:60%;\"><span style=\"color:#565656\">Make this Notebook Trusted to load map: File -> Trust Notebook</span><iframe src=\"about:blank\" style=\"position:absolute;width:100%;height:100%;left:0;top:0;border:none !important;\" data-html=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 onload=\"this.contentDocument.open();this.contentDocument.write(atob(this.getAttribute('data-html')));this.contentDocument.close();\" allowfullscreen webkitallowfullscreen mozallowfullscreen></iframe></div></div>"
            ],
            "text/plain": [
              "<folium.folium.Map at 0x7fdb4bd4e080>"
            ]
          },
          "metadata": {
            "tags": []
          },
          "execution_count": 69
        }
      ]
    },
    {
      "cell_type": "markdown",
      "metadata": {
        "id": "Lf-b8toK_Q5-"
      },
      "source": [
        "# **Using KMeans clustering for the clsutering of the neighbourhoods**"
      ]
    },
    {
      "cell_type": "code",
      "metadata": {
        "id": "ziLu2CXy8HQJ"
      },
      "source": [
        "k=5\r\n",
        "toronto_clustering = df_toronto.drop(['PostalCode', 'Borough', 'Neighbourhood'],1)\r\n",
        "kmeans = KMeans(n_clusters=k, random_state=0).fit(toronto_clustering)\r\n",
        "kmeans.labels_\r\n",
        "df_toronto.insert(0,'Cluster Labels', kmeans.labels_)"
      ],
      "execution_count": 74,
      "outputs": []
    },
    {
      "cell_type": "code",
      "metadata": {
        "colab": {
          "base_uri": "https://localhost:8080/",
          "height": 424
        },
        "id": "J7i_wl4J9Uen",
        "outputId": "3e5726d6-4920-4809-b7ab-90297c81e6f1"
      },
      "source": [
        "df_toronto"
      ],
      "execution_count": 75,
      "outputs": [
        {
          "output_type": "execute_result",
          "data": {
            "text/html": [
              "<div>\n",
              "<style scoped>\n",
              "    .dataframe tbody tr th:only-of-type {\n",
              "        vertical-align: middle;\n",
              "    }\n",
              "\n",
              "    .dataframe tbody tr th {\n",
              "        vertical-align: top;\n",
              "    }\n",
              "\n",
              "    .dataframe thead th {\n",
              "        text-align: right;\n",
              "    }\n",
              "</style>\n",
              "<table border=\"1\" class=\"dataframe\">\n",
              "  <thead>\n",
              "    <tr style=\"text-align: right;\">\n",
              "      <th></th>\n",
              "      <th>Cluster Labels</th>\n",
              "      <th>PostalCode</th>\n",
              "      <th>Borough</th>\n",
              "      <th>Neighbourhood</th>\n",
              "      <th>Latitude</th>\n",
              "      <th>Longitude</th>\n",
              "    </tr>\n",
              "  </thead>\n",
              "  <tbody>\n",
              "    <tr>\n",
              "      <th>0</th>\n",
              "      <td>2</td>\n",
              "      <td>M1B</td>\n",
              "      <td>Scarborough</td>\n",
              "      <td>Malvern, Rouge</td>\n",
              "      <td>43.806686</td>\n",
              "      <td>-79.194353</td>\n",
              "    </tr>\n",
              "    <tr>\n",
              "      <th>1</th>\n",
              "      <td>2</td>\n",
              "      <td>M1C</td>\n",
              "      <td>Scarborough</td>\n",
              "      <td>Rouge Hill, Port Union, Highland Creek</td>\n",
              "      <td>43.784535</td>\n",
              "      <td>-79.160497</td>\n",
              "    </tr>\n",
              "    <tr>\n",
              "      <th>2</th>\n",
              "      <td>2</td>\n",
              "      <td>M1E</td>\n",
              "      <td>Scarborough</td>\n",
              "      <td>Guildwood, Morningside, West Hill</td>\n",
              "      <td>43.763573</td>\n",
              "      <td>-79.188711</td>\n",
              "    </tr>\n",
              "    <tr>\n",
              "      <th>3</th>\n",
              "      <td>2</td>\n",
              "      <td>M1G</td>\n",
              "      <td>Scarborough</td>\n",
              "      <td>Woburn</td>\n",
              "      <td>43.770992</td>\n",
              "      <td>-79.216917</td>\n",
              "    </tr>\n",
              "    <tr>\n",
              "      <th>4</th>\n",
              "      <td>2</td>\n",
              "      <td>M1H</td>\n",
              "      <td>Scarborough</td>\n",
              "      <td>Cedarbrae</td>\n",
              "      <td>43.773136</td>\n",
              "      <td>-79.239476</td>\n",
              "    </tr>\n",
              "    <tr>\n",
              "      <th>...</th>\n",
              "      <td>...</td>\n",
              "      <td>...</td>\n",
              "      <td>...</td>\n",
              "      <td>...</td>\n",
              "      <td>...</td>\n",
              "      <td>...</td>\n",
              "    </tr>\n",
              "    <tr>\n",
              "      <th>98</th>\n",
              "      <td>0</td>\n",
              "      <td>M9N</td>\n",
              "      <td>York</td>\n",
              "      <td>Weston</td>\n",
              "      <td>43.706876</td>\n",
              "      <td>-79.518188</td>\n",
              "    </tr>\n",
              "    <tr>\n",
              "      <th>99</th>\n",
              "      <td>0</td>\n",
              "      <td>M9P</td>\n",
              "      <td>Etobicoke</td>\n",
              "      <td>Westmount</td>\n",
              "      <td>43.696319</td>\n",
              "      <td>-79.532242</td>\n",
              "    </tr>\n",
              "    <tr>\n",
              "      <th>100</th>\n",
              "      <td>0</td>\n",
              "      <td>M9R</td>\n",
              "      <td>Etobicoke</td>\n",
              "      <td>Kingsview Village, St. Phillips, Martin Grove ...</td>\n",
              "      <td>43.688905</td>\n",
              "      <td>-79.554724</td>\n",
              "    </tr>\n",
              "    <tr>\n",
              "      <th>101</th>\n",
              "      <td>0</td>\n",
              "      <td>M9V</td>\n",
              "      <td>Etobicoke</td>\n",
              "      <td>South Steeles, Silverstone, Humbergate, Jamest...</td>\n",
              "      <td>43.739416</td>\n",
              "      <td>-79.588437</td>\n",
              "    </tr>\n",
              "    <tr>\n",
              "      <th>102</th>\n",
              "      <td>0</td>\n",
              "      <td>M9W</td>\n",
              "      <td>Etobicoke</td>\n",
              "      <td>Northwest, West Humber - Clairville</td>\n",
              "      <td>43.706748</td>\n",
              "      <td>-79.594054</td>\n",
              "    </tr>\n",
              "  </tbody>\n",
              "</table>\n",
              "<p>103 rows × 6 columns</p>\n",
              "</div>"
            ],
            "text/plain": [
              "     Cluster Labels PostalCode  ...   Latitude  Longitude\n",
              "0                 2        M1B  ...  43.806686 -79.194353\n",
              "1                 2        M1C  ...  43.784535 -79.160497\n",
              "2                 2        M1E  ...  43.763573 -79.188711\n",
              "3                 2        M1G  ...  43.770992 -79.216917\n",
              "4                 2        M1H  ...  43.773136 -79.239476\n",
              "..              ...        ...  ...        ...        ...\n",
              "98                0        M9N  ...  43.706876 -79.518188\n",
              "99                0        M9P  ...  43.696319 -79.532242\n",
              "100               0        M9R  ...  43.688905 -79.554724\n",
              "101               0        M9V  ...  43.739416 -79.588437\n",
              "102               0        M9W  ...  43.706748 -79.594054\n",
              "\n",
              "[103 rows x 6 columns]"
            ]
          },
          "metadata": {
            "tags": []
          },
          "execution_count": 75
        }
      ]
    },
    {
      "cell_type": "markdown",
      "metadata": {
        "id": "lu8lY9Ho_YFI"
      },
      "source": [
        "# **Create a Map with the clusters**"
      ]
    },
    {
      "cell_type": "code",
      "metadata": {
        "colab": {
          "base_uri": "https://localhost:8080/",
          "height": 647
        },
        "id": "OOu1gRul-SGx",
        "outputId": "d8e951a9-f729-4f92-9e32-2c00b894af1c"
      },
      "source": [
        "# create map\r\n",
        "map_clusters = folium.Map(location=[43.651070,-79.347015],zoom_start=10)\r\n",
        "\r\n",
        "# set color scheme for the clusters\r\n",
        "x = np.arange(k)\r\n",
        "ys = [i + x + (i*x)**2 for i in range(k)]\r\n",
        "colors_array = cm.rainbow(np.linspace(0, 1, len(ys)))\r\n",
        "rainbow = [colors.rgb2hex(i) for i in colors_array]\r\n",
        "\r\n",
        "# add markers to the map\r\n",
        "markers_colors = []\r\n",
        "for lat, lon, neighbourhood, cluster in zip(df_toronto['Latitude'], df_toronto['Longitude'], df_toronto['Neighbourhood'], df_toronto['Cluster Labels']):\r\n",
        "    label = folium.Popup(' Cluster ' + str(cluster), parse_html=True)\r\n",
        "    folium.CircleMarker(\r\n",
        "        [lat, lon],\r\n",
        "        radius=5,\r\n",
        "        popup=label,\r\n",
        "        color=rainbow[cluster-1],\r\n",
        "        fill=True,\r\n",
        "        fill_color=rainbow[cluster-1],\r\n",
        "        fill_opacity=0.7).add_to(map_clusters)\r\n",
        "       \r\n",
        "map_clusters"
      ],
      "execution_count": 76,
      "outputs": [
        {
          "output_type": "execute_result",
          "data": {
            "text/html": [
              "<div style=\"width:100%;\"><div style=\"position:relative;width:100%;height:0;padding-bottom:60%;\"><span style=\"color:#565656\">Make this Notebook Trusted to load map: File -> Trust Notebook</span><iframe src=\"about:blank\" style=\"position:absolute;width:100%;height:100%;left:0;top:0;border:none !important;\" data-html=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 onload=\"this.contentDocument.open();this.contentDocument.write(atob(this.getAttribute('data-html')));this.contentDocument.close();\" allowfullscreen webkitallowfullscreen mozallowfullscreen></iframe></div></div>"
            ],
            "text/plain": [
              "<folium.folium.Map at 0x7fdb441d6748>"
            ]
          },
          "metadata": {
            "tags": []
          },
          "execution_count": 76
        }
      ]
    }
  ]
}