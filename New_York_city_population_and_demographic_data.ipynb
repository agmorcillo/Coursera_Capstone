{
  "nbformat": 4,
  "nbformat_minor": 0,
  "metadata": {
    "colab": {
      "name": "New York city population and demographic data.ipynb",
      "provenance": [],
      "authorship_tag": "ABX9TyNt3p5Oc/U/u5HL75AxvQ0I",
      "include_colab_link": true
    },
    "kernelspec": {
      "name": "python3",
      "display_name": "Python 3"
    }
  },
  "cells": [
    {
      "cell_type": "markdown",
      "metadata": {
        "id": "view-in-github",
        "colab_type": "text"
      },
      "source": [
        "<a href=\"https://colab.research.google.com/github/agmorcillo/Coursera_Capstone/blob/main/New_York_city_population_and_demographic_data.ipynb\" target=\"_parent\"><img src=\"https://colab.research.google.com/assets/colab-badge.svg\" alt=\"Open In Colab\"/></a>"
      ]
    },
    {
      "cell_type": "markdown",
      "metadata": {
        "id": "BN1zns56oCq6"
      },
      "source": [
        "## **Problem Statement**\r\n",
        "\r\n",
        "\r\n"
      ]
    },
    {
      "cell_type": "markdown",
      "metadata": {
        "id": "QyKPT6ySn2hw"
      },
      "source": [
        "\r\n",
        "\r\n",
        "\r\n",
        "The objective is to locate and recommend to the client which neighbourhood in New York City will be best choice to start a Comic Shop.\r\n",
        "\r\n",
        "New York city population and demographic data\r\n",
        "\r\n",
        "Data source : https://en.wikipedia.org/wiki/New_York_City ; https://en.wikipedia.org/wiki/Brooklyn. Web scraping techniques was used to get NYC population density and demographics data from Wikipedia.\r\n"
      ]
    },
    {
      "cell_type": "markdown",
      "metadata": {
        "id": "ZO-zDEUboImK"
      },
      "source": [
        "Web scraping techniques was used to get NYC population density and demographics data from Wikipedia."
      ]
    },
    {
      "cell_type": "code",
      "metadata": {
        "colab": {
          "base_uri": "https://localhost:8080/"
        },
        "id": "Nv_r2e0XbTwM",
        "outputId": "2451f96a-2a66-47a7-9c81-2120b5593fd5"
      },
      "source": [
        "import pandas as pd\r\n",
        "import requests\r\n",
        "from bs4 import BeautifulSoup\r\n",
        "\r\n",
        "print('Libraries imported.')"
      ],
      "execution_count": 2,
      "outputs": [
        {
          "output_type": "stream",
          "text": [
            "Libraries imported.\n"
          ],
          "name": "stdout"
        }
      ]
    },
    {
      "cell_type": "code",
      "metadata": {
        "id": "lCUBK9Oubf4J"
      },
      "source": [
        "response_obj = requests.get('https://en.wikipedia.org/wiki/New_York_City').text\r\n",
        "soup = BeautifulSoup(response_obj,'lxml')\r\n",
        "Neighborhoods_NYC_Table = soup.find('table', {'class':'wikitable sortable'})"
      ],
      "execution_count": 3,
      "outputs": []
    },
    {
      "cell_type": "markdown",
      "metadata": {
        "id": "0meeLPzhh6Pr"
      },
      "source": [
        "# Preparation of the table - https://en.wikipedia.org/wiki/New_York_City "
      ]
    },
    {
      "cell_type": "code",
      "metadata": {
        "colab": {
          "base_uri": "https://localhost:8080/"
        },
        "id": "H8r3kzq1bjPN",
        "outputId": "d73d4508-4c35-4f66-93ac-417411a25ce7"
      },
      "source": [
        "rows = Neighborhoods_NYC_Table.select(\"tbody > tr\")[3:8]\r\n",
        "\r\n",
        "boroughs = []\r\n",
        "for row in rows:\r\n",
        "    borough = {}\r\n",
        "    tds = row.select('td')\r\n",
        "    borough[\"borough\"] = tds[0].text.strip()\r\n",
        "    borough[\"county\"] = tds[1].text.strip()\r\n",
        "    borough[\"population\"] = float(tds[2].text.strip().replace(\",\",\"\"))\r\n",
        "    borough[\"gdp_billions\"] = float(tds[3].text.strip().replace(\",\",\"\"))\r\n",
        "    borough[\"gdp_per_capita\"] = float(tds[4].text.strip().replace(\",\",\"\"))\r\n",
        "    borough[\"land_sqm\"] = float(tds[5].text.strip().replace(\",\",\"\"))\r\n",
        "    borough[\"land_sqkm\"] = float(tds[6].text.strip().replace(\",\",\"\"))\r\n",
        "    borough[\"persons_sqm\"] = float(tds[7].text.strip().replace(\",\",\"\"))\r\n",
        "    borough[\"persons_sqkm\"] = float(tds[8].text.strip().replace(\",\",\"\"))\r\n",
        "    \r\n",
        "    boroughs.append(borough)\r\n",
        "\r\n",
        "print(boroughs)"
      ],
      "execution_count": 4,
      "outputs": [
        {
          "output_type": "stream",
          "text": [
            "[{'borough': 'The Bronx', 'county': 'Bronx', 'population': 1418207.0, 'gdp_billions': 42.695, 'gdp_per_capita': 30100.0, 'land_sqm': 42.1, 'land_sqkm': 109.04, 'persons_sqm': 33867.0, 'persons_sqkm': 13006.0}, {'borough': 'Brooklyn', 'county': 'Kings', 'population': 2559903.0, 'gdp_billions': 91.559, 'gdp_per_capita': 35800.0, 'land_sqm': 70.82, 'land_sqkm': 183.42, 'persons_sqm': 36147.0, 'persons_sqkm': 13957.0}, {'borough': 'Manhattan', 'county': 'New York', 'population': 1628706.0, 'gdp_billions': 600.244, 'gdp_per_capita': 368500.0, 'land_sqm': 22.83, 'land_sqkm': 59.13, 'persons_sqm': 71341.0, 'persons_sqkm': 27544.0}, {'borough': 'Queens', 'county': 'Queens', 'population': 2253858.0, 'gdp_billions': 93.31, 'gdp_per_capita': 41400.0, 'land_sqm': 108.53, 'land_sqkm': 281.09, 'persons_sqm': 20767.0, 'persons_sqkm': 8018.0}, {'borough': 'Staten Island', 'county': 'Richmond', 'population': 476143.0, 'gdp_billions': 14.514, 'gdp_per_capita': 30500.0, 'land_sqm': 58.37, 'land_sqkm': 151.18, 'persons_sqm': 8157.0, 'persons_sqkm': 3150.0}]\n"
          ],
          "name": "stdout"
        }
      ]
    },
    {
      "cell_type": "markdown",
      "metadata": {
        "id": "W6EfIhT1iKBZ"
      },
      "source": [
        "**View of the table**"
      ]
    },
    {
      "cell_type": "code",
      "metadata": {
        "colab": {
          "base_uri": "https://localhost:8080/",
          "height": 206
        },
        "id": "ljvDbpbTbtf0",
        "outputId": "f438240a-fcfe-49cc-cb75-26afe1ff805f"
      },
      "source": [
        "df = pd.DataFrame(boroughs, columns=[\"borough\",\"county\", \"population\", \"gdp_per_capita\", \"persons_sqkm\"])\r\n",
        "df.head()"
      ],
      "execution_count": 5,
      "outputs": [
        {
          "output_type": "execute_result",
          "data": {
            "text/html": [
              "<div>\n",
              "<style scoped>\n",
              "    .dataframe tbody tr th:only-of-type {\n",
              "        vertical-align: middle;\n",
              "    }\n",
              "\n",
              "    .dataframe tbody tr th {\n",
              "        vertical-align: top;\n",
              "    }\n",
              "\n",
              "    .dataframe thead th {\n",
              "        text-align: right;\n",
              "    }\n",
              "</style>\n",
              "<table border=\"1\" class=\"dataframe\">\n",
              "  <thead>\n",
              "    <tr style=\"text-align: right;\">\n",
              "      <th></th>\n",
              "      <th>borough</th>\n",
              "      <th>county</th>\n",
              "      <th>population</th>\n",
              "      <th>gdp_per_capita</th>\n",
              "      <th>persons_sqkm</th>\n",
              "    </tr>\n",
              "  </thead>\n",
              "  <tbody>\n",
              "    <tr>\n",
              "      <th>0</th>\n",
              "      <td>The Bronx</td>\n",
              "      <td>Bronx</td>\n",
              "      <td>1418207.0</td>\n",
              "      <td>30100.0</td>\n",
              "      <td>13006.0</td>\n",
              "    </tr>\n",
              "    <tr>\n",
              "      <th>1</th>\n",
              "      <td>Brooklyn</td>\n",
              "      <td>Kings</td>\n",
              "      <td>2559903.0</td>\n",
              "      <td>35800.0</td>\n",
              "      <td>13957.0</td>\n",
              "    </tr>\n",
              "    <tr>\n",
              "      <th>2</th>\n",
              "      <td>Manhattan</td>\n",
              "      <td>New York</td>\n",
              "      <td>1628706.0</td>\n",
              "      <td>368500.0</td>\n",
              "      <td>27544.0</td>\n",
              "    </tr>\n",
              "    <tr>\n",
              "      <th>3</th>\n",
              "      <td>Queens</td>\n",
              "      <td>Queens</td>\n",
              "      <td>2253858.0</td>\n",
              "      <td>41400.0</td>\n",
              "      <td>8018.0</td>\n",
              "    </tr>\n",
              "    <tr>\n",
              "      <th>4</th>\n",
              "      <td>Staten Island</td>\n",
              "      <td>Richmond</td>\n",
              "      <td>476143.0</td>\n",
              "      <td>30500.0</td>\n",
              "      <td>3150.0</td>\n",
              "    </tr>\n",
              "  </tbody>\n",
              "</table>\n",
              "</div>"
            ],
            "text/plain": [
              "         borough    county  population  gdp_per_capita  persons_sqkm\n",
              "0      The Bronx     Bronx   1418207.0         30100.0       13006.0\n",
              "1       Brooklyn     Kings   2559903.0         35800.0       13957.0\n",
              "2      Manhattan  New York   1628706.0        368500.0       27544.0\n",
              "3         Queens    Queens   2253858.0         41400.0        8018.0\n",
              "4  Staten Island  Richmond    476143.0         30500.0        3150.0"
            ]
          },
          "metadata": {
            "tags": []
          },
          "execution_count": 5
        }
      ]
    },
    {
      "cell_type": "markdown",
      "metadata": {
        "id": "teIThSm7i2T4"
      },
      "source": [
        "# *Preparation of the table - https://en.wikipedia.org/wiki/Brooklyn*"
      ]
    },
    {
      "cell_type": "code",
      "metadata": {
        "id": "SnWuTnPIkW70"
      },
      "source": [
        "table_bro = pd.read_html('https://en.wikipedia.org/wiki/Brooklyn')"
      ],
      "execution_count": 6,
      "outputs": []
    },
    {
      "cell_type": "code",
      "metadata": {
        "colab": {
          "base_uri": "https://localhost:8080/"
        },
        "id": "k9ito0UgmSSl",
        "outputId": "8cd53d79-3938-4f07-daad-928d6ca21c46"
      },
      "source": [
        "print(f'Total tables: {len(table_bro)}')"
      ],
      "execution_count": 7,
      "outputs": [
        {
          "output_type": "stream",
          "text": [
            "Total tables: 26\n"
          ],
          "name": "stdout"
        }
      ]
    },
    {
      "cell_type": "markdown",
      "metadata": {
        "id": "D7hnkqZHnQIr"
      },
      "source": [
        "## **Here we select the table that we want to visualize**"
      ]
    },
    {
      "cell_type": "code",
      "metadata": {
        "colab": {
          "base_uri": "https://localhost:8080/"
        },
        "id": "XAvT3BWdmTdN",
        "outputId": "e960a0a2-f002-4cbc-9d83-88ec6b7c50a7"
      },
      "source": [
        "table_bro = pd.read_html('https://en.wikipedia.org/wiki/Brooklyn', match='Racial composition')\r\n",
        "len(table_bro)"
      ],
      "execution_count": 8,
      "outputs": [
        {
          "output_type": "execute_result",
          "data": {
            "text/plain": [
              "1"
            ]
          },
          "metadata": {
            "tags": []
          },
          "execution_count": 8
        }
      ]
    },
    {
      "cell_type": "markdown",
      "metadata": {
        "id": "k4OIWMSYni7x"
      },
      "source": [
        "### **And we visualize it**"
      ]
    },
    {
      "cell_type": "code",
      "metadata": {
        "colab": {
          "base_uri": "https://localhost:8080/",
          "height": 206
        },
        "id": "1x_pRelVmZwN",
        "outputId": "605e2b1f-a179-4381-eaee-dac783023c13"
      },
      "source": [
        "df = table_bro[0]\r\n",
        "df.head()"
      ],
      "execution_count": 9,
      "outputs": [
        {
          "output_type": "execute_result",
          "data": {
            "text/html": [
              "<div>\n",
              "<style scoped>\n",
              "    .dataframe tbody tr th:only-of-type {\n",
              "        vertical-align: middle;\n",
              "    }\n",
              "\n",
              "    .dataframe tbody tr th {\n",
              "        vertical-align: top;\n",
              "    }\n",
              "\n",
              "    .dataframe thead th {\n",
              "        text-align: right;\n",
              "    }\n",
              "</style>\n",
              "<table border=\"1\" class=\"dataframe\">\n",
              "  <thead>\n",
              "    <tr style=\"text-align: right;\">\n",
              "      <th></th>\n",
              "      <th>Racial composition</th>\n",
              "      <th>2018[65]</th>\n",
              "      <th>2010[66]</th>\n",
              "      <th>1990[67]</th>\n",
              "      <th>1950[67]</th>\n",
              "      <th>1900[67]</th>\n",
              "    </tr>\n",
              "  </thead>\n",
              "  <tbody>\n",
              "    <tr>\n",
              "      <th>0</th>\n",
              "      <td>White</td>\n",
              "      <td>49.5%</td>\n",
              "      <td>42.8%</td>\n",
              "      <td>46.9%</td>\n",
              "      <td>92.2%</td>\n",
              "      <td>98.3%</td>\n",
              "    </tr>\n",
              "    <tr>\n",
              "      <th>1</th>\n",
              "      <td>—Non-Hispanic</td>\n",
              "      <td>30.4%</td>\n",
              "      <td>35.7%</td>\n",
              "      <td>40.1%</td>\n",
              "      <td>NaN</td>\n",
              "      <td>NaN</td>\n",
              "    </tr>\n",
              "    <tr>\n",
              "      <th>2</th>\n",
              "      <td>Black or African American</td>\n",
              "      <td>40.1%</td>\n",
              "      <td>34.3%</td>\n",
              "      <td>37.9%</td>\n",
              "      <td>7.6%</td>\n",
              "      <td>1.6%</td>\n",
              "    </tr>\n",
              "    <tr>\n",
              "      <th>3</th>\n",
              "      <td>Hispanic or Latino (of any race)</td>\n",
              "      <td>19.1%</td>\n",
              "      <td>19.8%</td>\n",
              "      <td>20.1%</td>\n",
              "      <td>NaN</td>\n",
              "      <td>NaN</td>\n",
              "    </tr>\n",
              "    <tr>\n",
              "      <th>4</th>\n",
              "      <td>Asian</td>\n",
              "      <td>12.7%</td>\n",
              "      <td>10.5%</td>\n",
              "      <td>4.8%</td>\n",
              "      <td>0.1%</td>\n",
              "      <td>0.1%</td>\n",
              "    </tr>\n",
              "  </tbody>\n",
              "</table>\n",
              "</div>"
            ],
            "text/plain": [
              "                 Racial composition 2018[65]  ... 1950[67] 1900[67]\n",
              "0                             White    49.5%  ...    92.2%    98.3%\n",
              "1                     —Non-Hispanic    30.4%  ...      NaN      NaN\n",
              "2         Black or African American    40.1%  ...     7.6%     1.6%\n",
              "3  Hispanic or Latino (of any race)    19.1%  ...      NaN      NaN\n",
              "4                             Asian    12.7%  ...     0.1%     0.1%\n",
              "\n",
              "[5 rows x 6 columns]"
            ]
          },
          "metadata": {
            "tags": []
          },
          "execution_count": 9
        }
      ]
    },
    {
      "cell_type": "markdown",
      "metadata": {
        "id": "v1V2ZM49pqwL"
      },
      "source": [
        "### **Preliminary finding indicates that**"
      ]
    },
    {
      "cell_type": "markdown",
      "metadata": {
        "id": "sxzzTXb4o1eI"
      },
      "source": [
        " - Brooklyn is the  most populous urban area in New York City (NYC)\r\n",
        " - However, with that being said, it is the most ethnically diverse urban area in NYC with the highest White ethnic population.\r\n",
        " - Brookly has a population density of 2559903 people per square km."
      ]
    }
  ]
}