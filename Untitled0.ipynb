{
  "nbformat": 4,
  "nbformat_minor": 0,
  "metadata": {
    "colab": {
      "name": "Untitled0.ipynb",
      "provenance": [],
      "collapsed_sections": [],
      "authorship_tag": "ABX9TyN/0UZILBW5Rnqt9ypD2eO4",
      "include_colab_link": true
    },
    "kernelspec": {
      "name": "python3",
      "display_name": "Python 3"
    }
  },
  "cells": [
    {
      "cell_type": "markdown",
      "metadata": {
        "id": "view-in-github",
        "colab_type": "text"
      },
      "source": [
        "<a href=\"https://colab.research.google.com/github/agmorcillo/Coursera_Capstone/blob/main/Untitled0.ipynb\" target=\"_parent\"><img src=\"https://colab.research.google.com/assets/colab-badge.svg\" alt=\"Open In Colab\"/></a>"
      ]
    },
    {
      "cell_type": "markdown",
      "metadata": {
        "id": "H8wo6SHE642f"
      },
      "source": [
        "## **Problem Statement**"
      ]
    },
    {
      "cell_type": "markdown",
      "metadata": {
        "id": "0tSL5xQt7Gmg"
      },
      "source": [
        "The objective is to locate and recommend to the client which neighbourhood in New York City will be best choice to start a Comic Shop."
      ]
    },
    {
      "cell_type": "code",
      "metadata": {
        "colab": {
          "base_uri": "https://localhost:8080/"
        },
        "id": "4SN94Q4lEjp6",
        "outputId": "0a28bbbb-bd00-40ce-d7a1-722d22bd6f24"
      },
      "source": [
        "import pandas as pd\r\n",
        "import numpy as np\r\n",
        "\r\n",
        "pd.set_option('display.max_columns', None)\r\n",
        "pd.set_option('display.max_rows', None)\r\n",
        "\r\n",
        "import requests\r\n",
        "from bs4 import BeautifulSoup\r\n",
        "from geopy.geocoders import Nominatim # convert an address into latitude and longitude values\r\n",
        "\r\n",
        "#!conda install -c conda-forge folium\r\n",
        "import os\r\n",
        "import folium # map rendering library\r\n",
        "\r\n",
        "# Matplotlib and associated plotting modules\r\n",
        "\r\n",
        "import matplotlib.pyplot as plt\r\n",
        "import matplotlib.cm as cm\r\n",
        "import matplotlib.colors as colors\r\n",
        "import matplotlib as mp\r\n",
        "import re\r\n",
        "import csv\r\n",
        "%matplotlib inline\r\n",
        "\r\n",
        "alternative_account = True\r\n",
        "\r\n",
        "if alternative_account:\r\n",
        "  CLIENT_ID = 'E1G51XZKFBXTMU5WNTKJV3VYLHJYC0A4XJIC4MKGVA01QDKV' #Cuenta dos\r\n",
        "  CLIENT_SECRET ='XF2SGQQCAK3JCRT0313OPYS5NADLQ0OGVWL551SYBOXG4YIY' # Cuenta dos\r\n",
        "else:\r\n",
        "  CLIENT_ID = 'FG1MSH1RPBTL4V3BKNUMQN0EDUBL2YEXLHTLKDF13JVW0CFFG'# Foursquare ID, note there is a daily call quota limit \r\n",
        "  CLIENT_SECRET ='4RVAIXX4XSSLUZFUXELJW2XH4DUZCL5NKNOZKQBHMAIDY120' # Foursquare Secret, note there is a daily call quota it it\r\n",
        "\r\n",
        "print('Libraries imported.')\r\n",
        "\r\n"
      ],
      "execution_count": 2,
      "outputs": [
        {
          "output_type": "stream",
          "text": [
            "Libraries imported.\n"
          ],
          "name": "stdout"
        }
      ]
    },
    {
      "cell_type": "markdown",
      "metadata": {
        "id": "SrochhwPE4EI"
      },
      "source": [
        "**Neighborhoods using FourSquare API & New York City data that contains list Boroughs, Neighbourhoods with their latitude and longitude**"
      ]
    },
    {
      "cell_type": "code",
      "metadata": {
        "id": "0GzHJ6SKE3q8"
      },
      "source": [
        "def geo_location(address):\r\n",
        "    # get geo location of address\r\n",
        "    geolocator = Nominatim(user_agent=\"ny_explorer\")\r\n",
        "    locatidn = geolocator.geocode(address)\r\n",
        "    latitude = location.latitude\r\n",
        "    longitude = location.longitude\r\n",
        "    return latitude,longitude"
      ],
      "execution_count": 3,
      "outputs": []
    },
    {
      "cell_type": "markdown",
      "metadata": {
        "id": "QmWYLkV2FQRN"
      },
      "source": [
        "**Define a function to intract with FourSquare API and get top 100 venues within a radius of 2000 metres for a given latitude and longitude.**"
      ]
    },
    {
      "cell_type": "code",
      "metadata": {
        "id": "40kapJE2FXWa"
      },
      "source": [
        "def get_venues(lat,lng):\r\n",
        "    \r\n",
        "    #set variables\r\n",
        "    radius=2000\r\n",
        "    LIMIT=100\r\n",
        "    VERSION = '20180605' # Foursquare API version\r\n",
        "    \r\n",
        "    #url to fetch data from foursquare api\r\n",
        "    url = 'https://api.foursquare.com/v2/venues/explore?&client_id={}&client_secret={}&v={}&ll={},{}&radius={}&limit={}'.format(\r\n",
        "            CLIENT_ID, \r\n",
        "            CLIENT_SECRET, \r\n",
        "            VERSION, \r\n",
        "            lat, \r\n",
        "            lng, \r\n",
        "            radius, \r\n",
        "            LIMIT)\r\n",
        "    \r\n",
        "    # get all the data\r\n",
        "    results = requests.get(url).json()\r\n",
        "    venue_data=results[\"response\"]['groups'][0]['items']\r\n",
        "    venue_details=[]\r\n",
        "    for row in venue_data:\r\n",
        "        try:\r\n",
        "            venue_id=row['venue']['id']\r\n",
        "            venue_name=row['venue']['name']\r\n",
        "            venue_category=row['venue']['categories'][0]['name']\r\n",
        "            venue_details.append([venue_id,venue_name,venue_category])\r\n",
        "        except KeyError:\r\n",
        "            pass\r\n",
        "        \r\n",
        "    column_names=['ID','Name','Category']\r\n",
        "    df = pd.DataFrame(venue_details,columns=column_names)\r\n",
        "    return df"
      ],
      "execution_count": 4,
      "outputs": []
    },
    {
      "cell_type": "markdown",
      "metadata": {
        "id": "BiPJ9K-DFzWE"
      },
      "source": [
        "\r\n",
        "**Define a function to get venue details like like count , rating , tip counts for a given venue id. to be used for ranking.**\r\n"
      ]
    },
    {
      "cell_type": "code",
      "metadata": {
        "id": "j5AdWL5rF0CV"
      },
      "source": [
        "def get_venue_details(venue_id):\r\n",
        "        \r\n",
        "    VERSION = '20180605' # Foursquare API version\r\n",
        "    \r\n",
        "    #url to fetch data from foursquare api\r\n",
        "    url = 'https://api.foursquare.com/v2/venues/{}?&client_id={}&client_secret={}&v={}'.format(\r\n",
        "            venue_id,\r\n",
        "            CLIENT_ID, \r\n",
        "            CLIENT_SECRET, \r\n",
        "            VERSION)\r\n",
        "    \r\n",
        "    # get all the data\r\n",
        "    results = requests.get(url).json()\r\n",
        "    venue_data=results['response']['venue']\r\n",
        "    venue_details=[]\r\n",
        "    try:\r\n",
        "        venue_id=venue_data['id']\r\n",
        "        venue_name=venue_data['name']\r\n",
        "        venue_likes=venue_data['likes']['count']\r\n",
        "        venue_rating=venue_data['rating']\r\n",
        "        venue_tips=venue_data['tips']['count']\r\n",
        "        venue_details.append([venue_id,venue_name,venue_likes,venue_rating,venue_tips])\r\n",
        "    except KeyError:\r\n",
        "        pass\r\n",
        "        \r\n",
        "    column_names=['ID','Name','Likes','Rating','Tips']\r\n",
        "    df = pd.DataFrame(venue_details,columns=column_names)\r\n",
        "    return df"
      ],
      "execution_count": 5,
      "outputs": []
    },
    {
      "cell_type": "markdown",
      "metadata": {
        "id": "1d6RZsEaGHTt"
      },
      "source": [
        "**Define a funtion to get the New York city data such as Boroughs, Neighborhoods along with their latitude and longitude.**"
      ]
    },
    {
      "cell_type": "code",
      "metadata": {
        "id": "1yFYqYgbGH22"
      },
      "source": [
        "def get_new_york_data():\r\n",
        "    url='https://cocl.us/new_york_dataset'\r\n",
        "    resp=requests.get(url).json()\r\n",
        "    # all data is present in features label\r\n",
        "    features=resp['features']\r\n",
        "    \r\n",
        "    # define the dataframe columns\r\n",
        "    column_names = ['Borough', 'Neighborhood', 'Latitude', 'Longitude'] \r\n",
        "    # instantiate the dataframe\r\n",
        "    new_york_data = pd.DataFrame(columns=column_names)\r\n",
        "    \r\n",
        "    for data in features:\r\n",
        "        borough = data['properties']['borough'] \r\n",
        "        neighborhood_name = data['properties']['name']\r\n",
        "        \r\n",
        "        neighborhood_latlon = data['geometry']['coordinates']\r\n",
        "        neighborhood_lat = neighborhood_latlon[1]\r\n",
        "        neighborhood_lon = neighborhood_latlon[0]\r\n",
        "    \r\n",
        "        new_york_data = new_york_data.append({'Borough': borough,\r\n",
        "                                          'Neighborhood': neighborhood_name,\r\n",
        "                                          'Latitude': neighborhood_lat,\r\n",
        "                                          'Longitude': neighborhood_lon}, ignore_index=True)\r\n",
        "    \r\n",
        "    return new_york_data"
      ],
      "execution_count": 6,
      "outputs": []
    },
    {
      "cell_type": "code",
      "metadata": {
        "id": "lJERrS2OG9aV"
      },
      "source": [
        "# get new york data\r\n",
        "new_york_data=get_new_york_data()"
      ],
      "execution_count": 7,
      "outputs": []
    },
    {
      "cell_type": "code",
      "metadata": {
        "colab": {
          "base_uri": "https://localhost:8080/",
          "height": 363
        },
        "id": "cTLVcMKkHDHc",
        "outputId": "33d03fe7-f1dd-4b4a-c869-c6d0243de862"
      },
      "source": [
        "new_york_data.head(10)"
      ],
      "execution_count": 8,
      "outputs": [
        {
          "output_type": "execute_result",
          "data": {
            "text/html": [
              "<div>\n",
              "<style scoped>\n",
              "    .dataframe tbody tr th:only-of-type {\n",
              "        vertical-align: middle;\n",
              "    }\n",
              "\n",
              "    .dataframe tbody tr th {\n",
              "        vertical-align: top;\n",
              "    }\n",
              "\n",
              "    .dataframe thead th {\n",
              "        text-align: right;\n",
              "    }\n",
              "</style>\n",
              "<table border=\"1\" class=\"dataframe\">\n",
              "  <thead>\n",
              "    <tr style=\"text-align: right;\">\n",
              "      <th></th>\n",
              "      <th>Borough</th>\n",
              "      <th>Neighborhood</th>\n",
              "      <th>Latitude</th>\n",
              "      <th>Longitude</th>\n",
              "    </tr>\n",
              "  </thead>\n",
              "  <tbody>\n",
              "    <tr>\n",
              "      <th>0</th>\n",
              "      <td>Bronx</td>\n",
              "      <td>Wakefield</td>\n",
              "      <td>40.894705</td>\n",
              "      <td>-73.847201</td>\n",
              "    </tr>\n",
              "    <tr>\n",
              "      <th>1</th>\n",
              "      <td>Bronx</td>\n",
              "      <td>Co-op City</td>\n",
              "      <td>40.874294</td>\n",
              "      <td>-73.829939</td>\n",
              "    </tr>\n",
              "    <tr>\n",
              "      <th>2</th>\n",
              "      <td>Bronx</td>\n",
              "      <td>Eastchester</td>\n",
              "      <td>40.887556</td>\n",
              "      <td>-73.827806</td>\n",
              "    </tr>\n",
              "    <tr>\n",
              "      <th>3</th>\n",
              "      <td>Bronx</td>\n",
              "      <td>Fieldston</td>\n",
              "      <td>40.895437</td>\n",
              "      <td>-73.905643</td>\n",
              "    </tr>\n",
              "    <tr>\n",
              "      <th>4</th>\n",
              "      <td>Bronx</td>\n",
              "      <td>Riverdale</td>\n",
              "      <td>40.890834</td>\n",
              "      <td>-73.912585</td>\n",
              "    </tr>\n",
              "    <tr>\n",
              "      <th>5</th>\n",
              "      <td>Bronx</td>\n",
              "      <td>Kingsbridge</td>\n",
              "      <td>40.881687</td>\n",
              "      <td>-73.902818</td>\n",
              "    </tr>\n",
              "    <tr>\n",
              "      <th>6</th>\n",
              "      <td>Manhattan</td>\n",
              "      <td>Marble Hill</td>\n",
              "      <td>40.876551</td>\n",
              "      <td>-73.910660</td>\n",
              "    </tr>\n",
              "    <tr>\n",
              "      <th>7</th>\n",
              "      <td>Bronx</td>\n",
              "      <td>Woodlawn</td>\n",
              "      <td>40.898273</td>\n",
              "      <td>-73.867315</td>\n",
              "    </tr>\n",
              "    <tr>\n",
              "      <th>8</th>\n",
              "      <td>Bronx</td>\n",
              "      <td>Norwood</td>\n",
              "      <td>40.877224</td>\n",
              "      <td>-73.879391</td>\n",
              "    </tr>\n",
              "    <tr>\n",
              "      <th>9</th>\n",
              "      <td>Bronx</td>\n",
              "      <td>Williamsbridge</td>\n",
              "      <td>40.881039</td>\n",
              "      <td>-73.857446</td>\n",
              "    </tr>\n",
              "  </tbody>\n",
              "</table>\n",
              "</div>"
            ],
            "text/plain": [
              "     Borough    Neighborhood   Latitude  Longitude\n",
              "0      Bronx       Wakefield  40.894705 -73.847201\n",
              "1      Bronx      Co-op City  40.874294 -73.829939\n",
              "2      Bronx     Eastchester  40.887556 -73.827806\n",
              "3      Bronx       Fieldston  40.895437 -73.905643\n",
              "4      Bronx       Riverdale  40.890834 -73.912585\n",
              "5      Bronx     Kingsbridge  40.881687 -73.902818\n",
              "6  Manhattan     Marble Hill  40.876551 -73.910660\n",
              "7      Bronx        Woodlawn  40.898273 -73.867315\n",
              "8      Bronx         Norwood  40.877224 -73.879391\n",
              "9      Bronx  Williamsbridge  40.881039 -73.857446"
            ]
          },
          "metadata": {
            "tags": []
          },
          "execution_count": 8
        }
      ]
    },
    {
      "cell_type": "code",
      "metadata": {
        "colab": {
          "base_uri": "https://localhost:8080/"
        },
        "id": "Gl-Ftu_BHI9U",
        "outputId": "2a41f836-2a8a-4113-ab85-af3c3a6131e1"
      },
      "source": [
        "new_york_data.shape"
      ],
      "execution_count": 13,
      "outputs": [
        {
          "output_type": "execute_result",
          "data": {
            "text/plain": [
              "(306, 4)"
            ]
          },
          "metadata": {
            "tags": []
          },
          "execution_count": 13
        }
      ]
    },
    {
      "cell_type": "markdown",
      "metadata": {
        "id": "0mKeCKGlHR6V"
      },
      "source": [
        "**Based on the dataset, there are a total of 306 different Neighborhoods in New York to select from**"
      ]
    },
    {
      "cell_type": "code",
      "metadata": {
        "colab": {
          "base_uri": "https://localhost:8080/",
          "height": 457
        },
        "id": "tkW_ynsjHRgT",
        "outputId": "468143f5-3157-408d-9196-6160a4e7fd7b"
      },
      "source": [
        "from matplotlib import pyplot as plt\r\n",
        "plt.style.use('ggplot')\r\n",
        "\r\n",
        "plt.figure(figsize=(9,5), dpi = 80)\r\n",
        "# title\r\n",
        "plt.title('Number of Neighbourhood in NYC by Borough')\r\n",
        "#On x-axis\r\n",
        "plt.xlabel('Borough', fontsize = 15)\r\n",
        "#On y-axis\r\n",
        "plt.ylabel('No.of Neighborhood', fontsize=15)\r\n",
        "#giving a bar plot\r\n",
        "new_york_data.groupby('Borough')['Neighborhood'].count().plot(kind='bar')\r\n",
        "#legend\r\n",
        "plt.legend()\r\n",
        "plt.show()"
      ],
      "execution_count": 9,
      "outputs": [
        {
          "output_type": "display_data",
          "data": {
            "image/png": "[encoded data removed]",
            "text/plain": [
              "<Figure size 720x400 with 1 Axes>"
            ]
          },
          "metadata": {
            "tags": []
          }
        }
      ]
    },
    {
      "cell_type": "code",
      "metadata": {
        "colab": {
          "base_uri": "https://localhost:8080/"
        },
        "id": "A7ccpy5bHmdZ",
        "outputId": "65fcff2b-8933-42a6-c542-304780575a43"
      },
      "source": [
        "# prepare neighborhood list that contains Comic Shops\r\n",
        "column_names=['Borough', 'Neighborhood', 'ID','Name']\r\n",
        "comic_shop_ny=pd.DataFrame(columns=column_names)\r\n",
        "count=1\r\n",
        "for row in new_york_data.values.tolist():\r\n",
        "    Borough, Neighborhood, Latitude, Longitude=row\r\n",
        "    venues = get_venues(Latitude,Longitude)\r\n",
        "    comic_shop=venues[venues['Category']=='Comic Shop']   \r\n",
        "    print('(',count,'/',len(new_york_data),')','Comic Shop in '+Neighborhood+', '+Borough+':'+str(len(comic_shop)))\r\n",
        "    for comic_shop_detail in comic_shop.values.tolist():\r\n",
        "        id, name , category=comic_shop_detail\r\n",
        "        comic_shop_ny = comic_shop_ny.append({'Borough': Borough,\r\n",
        "                                                'Neighborhood': Neighborhood, \r\n",
        "                                                'ID': id,\r\n",
        "                                                'Name' : name\r\n",
        "                                               }, ignore_index=True)\r\n",
        "    count+=1"
      ],
      "execution_count": 10,
      "outputs": [
        {
          "output_type": "stream",
          "text": [
            "( 1 / 306 ) Comic Shop in Wakefield, Bronx:0\n",
            "( 2 / 306 ) Comic Shop in Co-op City, Bronx:0\n",
            "( 3 / 306 ) Comic Shop in Eastchester, Bronx:0\n",
            "( 4 / 306 ) Comic Shop in Fieldston, Bronx:0\n",
            "( 5 / 306 ) Comic Shop in Riverdale, Bronx:0\n",
            "( 6 / 306 ) Comic Shop in Kingsbridge, Bronx:0\n",
            "( 7 / 306 ) Comic Shop in Marble Hill, Manhattan:0\n",
            "( 8 / 306 ) Comic Shop in Woodlawn, Bronx:0\n",
            "( 9 / 306 ) Comic Shop in Norwood, Bronx:0\n",
            "( 10 / 306 ) Comic Shop in Williamsbridge, Bronx:0\n",
            "( 11 / 306 ) Comic Shop in Baychester, Bronx:0\n",
            "( 12 / 306 ) Comic Shop in Pelham Parkway, Bronx:0\n",
            "( 13 / 306 ) Comic Shop in City Island, Bronx:0\n",
            "( 14 / 306 ) Comic Shop in Bedford Park, Bronx:0\n",
            "( 15 / 306 ) Comic Shop in University Heights, Bronx:0\n",
            "( 16 / 306 ) Comic Shop in Morris Heights, Bronx:0\n",
            "( 17 / 306 ) Comic Shop in Fordham, Bronx:0\n",
            "( 18 / 306 ) Comic Shop in East Tremont, Bronx:0\n",
            "( 19 / 306 ) Comic Shop in West Farms, Bronx:0\n",
            "( 20 / 306 ) Comic Shop in High  Bridge, Bronx:0\n",
            "( 21 / 306 ) Comic Shop in Melrose, Bronx:0\n",
            "( 22 / 306 ) Comic Shop in Mott Haven, Bronx:0\n",
            "( 23 / 306 ) Comic Shop in Port Morris, Bronx:0\n",
            "( 24 / 306 ) Comic Shop in Longwood, Bronx:0\n",
            "( 25 / 306 ) Comic Shop in Hunts Point, Bronx:0\n",
            "( 26 / 306 ) Comic Shop in Morrisania, Bronx:0\n",
            "( 27 / 306 ) Comic Shop in Soundview, Bronx:0\n",
            "( 28 / 306 ) Comic Shop in Clason Point, Bronx:0\n",
            "( 29 / 306 ) Comic Shop in Throgs Neck, Bronx:0\n",
            "( 30 / 306 ) Comic Shop in Country Club, Bronx:0\n",
            "( 31 / 306 ) Comic Shop in Parkchester, Bronx:0\n",
            "( 32 / 306 ) Comic Shop in Westchester Square, Bronx:0\n",
            "( 33 / 306 ) Comic Shop in Van Nest, Bronx:0\n",
            "( 34 / 306 ) Comic Shop in Morris Park, Bronx:0\n",
            "( 35 / 306 ) Comic Shop in Belmont, Bronx:0\n",
            "( 36 / 306 ) Comic Shop in Spuyten Duyvil, Bronx:0\n",
            "( 37 / 306 ) Comic Shop in North Riverdale, Bronx:0\n",
            "( 38 / 306 ) Comic Shop in Pelham Bay, Bronx:0\n",
            "( 39 / 306 ) Comic Shop in Schuylerville, Bronx:0\n",
            "( 40 / 306 ) Comic Shop in Edgewater Park, Bronx:0\n",
            "( 41 / 306 ) Comic Shop in Castle Hill, Bronx:0\n",
            "( 42 / 306 ) Comic Shop in Olinville, Bronx:0\n",
            "( 43 / 306 ) Comic Shop in Pelham Gardens, Bronx:0\n",
            "( 44 / 306 ) Comic Shop in Concourse, Bronx:0\n",
            "( 45 / 306 ) Comic Shop in Unionport, Bronx:0\n",
            "( 46 / 306 ) Comic Shop in Edenwald, Bronx:0\n",
            "( 47 / 306 ) Comic Shop in Bay Ridge, Brooklyn:0\n",
            "( 48 / 306 ) Comic Shop in Bensonhurst, Brooklyn:0\n",
            "( 49 / 306 ) Comic Shop in Sunset Park, Brooklyn:0\n",
            "( 50 / 306 ) Comic Shop in Greenpoint, Brooklyn:0\n",
            "( 51 / 306 ) Comic Shop in Gravesend, Brooklyn:0\n",
            "( 52 / 306 ) Comic Shop in Brighton Beach, Brooklyn:0\n",
            "( 53 / 306 ) Comic Shop in Sheepshead Bay, Brooklyn:0\n",
            "( 54 / 306 ) Comic Shop in Manhattan Terrace, Brooklyn:0\n",
            "( 55 / 306 ) Comic Shop in Flatbush, Brooklyn:0\n",
            "( 56 / 306 ) Comic Shop in Crown Heights, Brooklyn:1\n",
            "( 57 / 306 ) Comic Shop in East Flatbush, Brooklyn:0\n",
            "( 58 / 306 ) Comic Shop in Kensington, Brooklyn:0\n",
            "( 59 / 306 ) Comic Shop in Windsor Terrace, Brooklyn:0\n",
            "( 60 / 306 ) Comic Shop in Prospect Heights, Brooklyn:0\n",
            "( 61 / 306 ) Comic Shop in Brownsville, Brooklyn:0\n",
            "( 62 / 306 ) Comic Shop in Williamsburg, Brooklyn:1\n",
            "( 63 / 306 ) Comic Shop in Bushwick, Brooklyn:0\n",
            "( 64 / 306 ) Comic Shop in Bedford Stuyvesant, Brooklyn:0\n",
            "( 65 / 306 ) Comic Shop in Brooklyn Heights, Brooklyn:0\n",
            "( 66 / 306 ) Comic Shop in Cobble Hill, Brooklyn:0\n",
            "( 67 / 306 ) Comic Shop in Carroll Gardens, Brooklyn:0\n",
            "( 68 / 306 ) Comic Shop in Red Hook, Brooklyn:0\n",
            "( 69 / 306 ) Comic Shop in Gowanus, Brooklyn:1\n",
            "( 70 / 306 ) Comic Shop in Fort Greene, Brooklyn:0\n",
            "( 71 / 306 ) Comic Shop in Park Slope, Brooklyn:0\n",
            "( 72 / 306 ) Comic Shop in Cypress Hills, Brooklyn:0\n",
            "( 73 / 306 ) Comic Shop in East New York, Brooklyn:0\n",
            "( 74 / 306 ) Comic Shop in Starrett City, Brooklyn:0\n",
            "( 75 / 306 ) Comic Shop in Canarsie, Brooklyn:0\n",
            "( 76 / 306 ) Comic Shop in Flatlands, Brooklyn:1\n",
            "( 77 / 306 ) Comic Shop in Mill Island, Brooklyn:0\n",
            "( 78 / 306 ) Comic Shop in Manhattan Beach, Brooklyn:0\n",
            "( 79 / 306 ) Comic Shop in Coney Island, Brooklyn:0\n",
            "( 80 / 306 ) Comic Shop in Bath Beach, Brooklyn:0\n",
            "( 81 / 306 ) Comic Shop in Borough Park, Brooklyn:0\n",
            "( 82 / 306 ) Comic Shop in Dyker Heights, Brooklyn:0\n",
            "( 83 / 306 ) Comic Shop in Gerritsen Beach, Brooklyn:0\n",
            "( 84 / 306 ) Comic Shop in Marine Park, Brooklyn:0\n",
            "( 85 / 306 ) Comic Shop in Clinton Hill, Brooklyn:0\n",
            "( 86 / 306 ) Comic Shop in Sea Gate, Brooklyn:0\n",
            "( 87 / 306 ) Comic Shop in Downtown, Brooklyn:0\n",
            "( 88 / 306 ) Comic Shop in Boerum Hill, Brooklyn:0\n",
            "( 89 / 306 ) Comic Shop in Prospect Lefferts Gardens, Brooklyn:1\n",
            "( 90 / 306 ) Comic Shop in Ocean Hill, Brooklyn:0\n",
            "( 91 / 306 ) Comic Shop in City Line, Brooklyn:0\n",
            "( 92 / 306 ) Comic Shop in Bergen Beach, Brooklyn:0\n",
            "( 93 / 306 ) Comic Shop in Midwood, Brooklyn:0\n",
            "( 94 / 306 ) Comic Shop in Prospect Park South, Brooklyn:0\n",
            "( 95 / 306 ) Comic Shop in Georgetown, Brooklyn:0\n",
            "( 96 / 306 ) Comic Shop in East Williamsburg, Brooklyn:1\n",
            "( 97 / 306 ) Comic Shop in North Side, Brooklyn:1\n",
            "( 98 / 306 ) Comic Shop in South Side, Brooklyn:1\n",
            "( 99 / 306 ) Comic Shop in Ocean Parkway, Brooklyn:0\n",
            "( 100 / 306 ) Comic Shop in Fort Hamilton, Brooklyn:0\n",
            "( 101 / 306 ) Comic Shop in Chinatown, Manhattan:0\n",
            "( 102 / 306 ) Comic Shop in Washington Heights, Manhattan:0\n",
            "( 103 / 306 ) Comic Shop in Inwood, Manhattan:0\n",
            "( 104 / 306 ) Comic Shop in Hamilton Heights, Manhattan:0\n",
            "( 105 / 306 ) Comic Shop in Manhattanville, Manhattan:0\n",
            "( 106 / 306 ) Comic Shop in Central Harlem, Manhattan:0\n",
            "( 107 / 306 ) Comic Shop in East Harlem, Manhattan:0\n",
            "( 108 / 306 ) Comic Shop in Upper East Side, Manhattan:0\n",
            "( 109 / 306 ) Comic Shop in Yorkville, Manhattan:0\n",
            "( 110 / 306 ) Comic Shop in Lenox Hill, Manhattan:0\n",
            "( 111 / 306 ) Comic Shop in Roosevelt Island, Manhattan:0\n",
            "( 112 / 306 ) Comic Shop in Upper West Side, Manhattan:0\n",
            "( 113 / 306 ) Comic Shop in Lincoln Square, Manhattan:0\n",
            "( 114 / 306 ) Comic Shop in Clinton, Manhattan:1\n",
            "( 115 / 306 ) Comic Shop in Midtown, Manhattan:1\n",
            "( 116 / 306 ) Comic Shop in Murray Hill, Manhattan:1\n",
            "( 117 / 306 ) Comic Shop in Chelsea, Manhattan:0\n",
            "( 118 / 306 ) Comic Shop in Greenwich Village, Manhattan:0\n",
            "( 119 / 306 ) Comic Shop in East Village, Manhattan:0\n",
            "( 120 / 306 ) Comic Shop in Lower East Side, Manhattan:0\n",
            "( 121 / 306 ) Comic Shop in Tribeca, Manhattan:0\n",
            "( 122 / 306 ) Comic Shop in Little Italy, Manhattan:0\n",
            "( 123 / 306 ) Comic Shop in Soho, Manhattan:0\n",
            "( 124 / 306 ) Comic Shop in West Village, Manhattan:0\n",
            "( 125 / 306 ) Comic Shop in Manhattan Valley, Manhattan:0\n",
            "( 126 / 306 ) Comic Shop in Morningside Heights, Manhattan:0\n",
            "( 127 / 306 ) Comic Shop in Gramercy, Manhattan:0\n",
            "( 128 / 306 ) Comic Shop in Battery Park City, Manhattan:0\n",
            "( 129 / 306 ) Comic Shop in Financial District, Manhattan:0\n",
            "( 130 / 306 ) Comic Shop in Astoria, Queens:0\n",
            "( 131 / 306 ) Comic Shop in Woodside, Queens:0\n",
            "( 132 / 306 ) Comic Shop in Jackson Heights, Queens:0\n",
            "( 133 / 306 ) Comic Shop in Elmhurst, Queens:0\n",
            "( 134 / 306 ) Comic Shop in Howard Beach, Queens:0\n",
            "( 135 / 306 ) Comic Shop in Corona, Queens:0\n",
            "( 136 / 306 ) Comic Shop in Forest Hills, Queens:1\n",
            "( 137 / 306 ) Comic Shop in Kew Gardens, Queens:0\n",
            "( 138 / 306 ) Comic Shop in Richmond Hill, Queens:0\n",
            "( 139 / 306 ) Comic Shop in Flushing, Queens:0\n",
            "( 140 / 306 ) Comic Shop in Long Island City, Queens:0\n",
            "( 141 / 306 ) Comic Shop in Sunnyside, Queens:0\n",
            "( 142 / 306 ) Comic Shop in East Elmhurst, Queens:0\n",
            "( 143 / 306 ) Comic Shop in Maspeth, Queens:0\n",
            "( 144 / 306 ) Comic Shop in Ridgewood, Queens:0\n",
            "( 145 / 306 ) Comic Shop in Glendale, Queens:1\n",
            "( 146 / 306 ) Comic Shop in Rego Park, Queens:0\n",
            "( 147 / 306 ) Comic Shop in Woodhaven, Queens:0\n",
            "( 148 / 306 ) Comic Shop in Ozone Park, Queens:0\n",
            "( 149 / 306 ) Comic Shop in South Ozone Park, Queens:0\n",
            "( 150 / 306 ) Comic Shop in College Point, Queens:0\n",
            "( 151 / 306 ) Comic Shop in Whitestone, Queens:0\n",
            "( 152 / 306 ) Comic Shop in Bayside, Queens:0\n",
            "( 153 / 306 ) Comic Shop in Auburndale, Queens:0\n",
            "( 154 / 306 ) Comic Shop in Little Neck, Queens:0\n",
            "( 155 / 306 ) Comic Shop in Douglaston, Queens:0\n",
            "( 156 / 306 ) Comic Shop in Glen Oaks, Queens:0\n",
            "( 157 / 306 ) Comic Shop in Bellerose, Queens:0\n",
            "( 158 / 306 ) Comic Shop in Kew Gardens Hills, Queens:0\n",
            "( 159 / 306 ) Comic Shop in Fresh Meadows, Queens:0\n",
            "( 160 / 306 ) Comic Shop in Briarwood, Queens:0\n",
            "( 161 / 306 ) Comic Shop in Jamaica Center, Queens:0\n",
            "( 162 / 306 ) Comic Shop in Oakland Gardens, Queens:0\n",
            "( 163 / 306 ) Comic Shop in Queens Village, Queens:0\n",
            "( 164 / 306 ) Comic Shop in Hollis, Queens:0\n",
            "( 165 / 306 ) Comic Shop in South Jamaica, Queens:0\n",
            "( 166 / 306 ) Comic Shop in St. Albans, Queens:0\n",
            "( 167 / 306 ) Comic Shop in Rochdale, Queens:0\n",
            "( 168 / 306 ) Comic Shop in Springfield Gardens, Queens:0\n",
            "( 169 / 306 ) Comic Shop in Cambria Heights, Queens:0\n",
            "( 170 / 306 ) Comic Shop in Rosedale, Queens:0\n",
            "( 171 / 306 ) Comic Shop in Far Rockaway, Queens:0\n",
            "( 172 / 306 ) Comic Shop in Broad Channel, Queens:0\n",
            "( 173 / 306 ) Comic Shop in Breezy Point, Queens:0\n",
            "( 174 / 306 ) Comic Shop in Steinway, Queens:0\n",
            "( 175 / 306 ) Comic Shop in Beechhurst, Queens:0\n",
            "( 176 / 306 ) Comic Shop in Bay Terrace, Queens:0\n",
            "( 177 / 306 ) Comic Shop in Edgemere, Queens:0\n",
            "( 178 / 306 ) Comic Shop in Arverne, Queens:0\n",
            "( 179 / 306 ) Comic Shop in Rockaway Beach, Queens:0\n",
            "( 180 / 306 ) Comic Shop in Neponsit, Queens:0\n",
            "( 181 / 306 ) Comic Shop in Murray Hill, Queens:0\n",
            "( 182 / 306 ) Comic Shop in Floral Park, Queens:0\n",
            "( 183 / 306 ) Comic Shop in Holliswood, Queens:0\n",
            "( 184 / 306 ) Comic Shop in Jamaica Estates, Queens:0\n",
            "( 185 / 306 ) Comic Shop in Queensboro Hill, Queens:0\n",
            "( 186 / 306 ) Comic Shop in Hillcrest, Queens:0\n",
            "( 187 / 306 ) Comic Shop in Ravenswood, Queens:0\n",
            "( 188 / 306 ) Comic Shop in Lindenwood, Queens:0\n",
            "( 189 / 306 ) Comic Shop in Laurelton, Queens:0\n",
            "( 190 / 306 ) Comic Shop in Lefrak City, Queens:0\n",
            "( 191 / 306 ) Comic Shop in Belle Harbor, Queens:0\n",
            "( 192 / 306 ) Comic Shop in Rockaway Park, Queens:0\n",
            "( 193 / 306 ) Comic Shop in Somerville, Queens:0\n",
            "( 194 / 306 ) Comic Shop in Brookville, Queens:0\n",
            "( 195 / 306 ) Comic Shop in Bellaire, Queens:0\n",
            "( 196 / 306 ) Comic Shop in North Corona, Queens:0\n",
            "( 197 / 306 ) Comic Shop in Forest Hills Gardens, Queens:1\n",
            "( 198 / 306 ) Comic Shop in St. George, Staten Island:0\n",
            "( 199 / 306 ) Comic Shop in New Brighton, Staten Island:0\n",
            "( 200 / 306 ) Comic Shop in Stapleton, Staten Island:0\n",
            "( 201 / 306 ) Comic Shop in Rosebank, Staten Island:0\n",
            "( 202 / 306 ) Comic Shop in West Brighton, Staten Island:0\n",
            "( 203 / 306 ) Comic Shop in Grymes Hill, Staten Island:0\n",
            "( 204 / 306 ) Comic Shop in Todt Hill, Staten Island:0\n",
            "( 205 / 306 ) Comic Shop in South Beach, Staten Island:0\n",
            "( 206 / 306 ) Comic Shop in Port Richmond, Staten Island:0\n",
            "( 207 / 306 ) Comic Shop in Mariner's Harbor, Staten Island:1\n",
            "( 208 / 306 ) Comic Shop in Port Ivory, Staten Island:1\n",
            "( 209 / 306 ) Comic Shop in Castleton Corners, Staten Island:0\n",
            "( 210 / 306 ) Comic Shop in New Springville, Staten Island:0\n",
            "( 211 / 306 ) Comic Shop in Travis, Staten Island:0\n",
            "( 212 / 306 ) Comic Shop in New Dorp, Staten Island:0\n",
            "( 213 / 306 ) Comic Shop in Oakwood, Staten Island:0\n",
            "( 214 / 306 ) Comic Shop in Great Kills, Staten Island:0\n",
            "( 215 / 306 ) Comic Shop in Eltingville, Staten Island:0\n",
            "( 216 / 306 ) Comic Shop in Annadale, Staten Island:0\n",
            "( 217 / 306 ) Comic Shop in Woodrow, Staten Island:0\n",
            "( 218 / 306 ) Comic Shop in Tottenville, Staten Island:0\n",
            "( 219 / 306 ) Comic Shop in Tompkinsville, Staten Island:0\n",
            "( 220 / 306 ) Comic Shop in Silver Lake, Staten Island:0\n",
            "( 221 / 306 ) Comic Shop in Sunnyside, Staten Island:0\n",
            "( 222 / 306 ) Comic Shop in Ditmas Park, Brooklyn:0\n",
            "( 223 / 306 ) Comic Shop in Wingate, Brooklyn:1\n",
            "( 224 / 306 ) Comic Shop in Rugby, Brooklyn:0\n",
            "( 225 / 306 ) Comic Shop in Park Hill, Staten Island:0\n",
            "( 226 / 306 ) Comic Shop in Westerleigh, Staten Island:0\n",
            "( 227 / 306 ) Comic Shop in Graniteville, Staten Island:1\n",
            "( 228 / 306 ) Comic Shop in Arlington, Staten Island:1\n",
            "( 229 / 306 ) Comic Shop in Arrochar, Staten Island:0\n",
            "( 230 / 306 ) Comic Shop in Grasmere, Staten Island:0\n",
            "( 231 / 306 ) Comic Shop in Old Town, Staten Island:0\n",
            "( 232 / 306 ) Comic Shop in Dongan Hills, Staten Island:0\n",
            "( 233 / 306 ) Comic Shop in Midland Beach, Staten Island:0\n",
            "( 234 / 306 ) Comic Shop in Grant City, Staten Island:0\n",
            "( 235 / 306 ) Comic Shop in New Dorp Beach, Staten Island:0\n",
            "( 236 / 306 ) Comic Shop in Bay Terrace, Staten Island:0\n",
            "( 237 / 306 ) Comic Shop in Huguenot, Staten Island:0\n",
            "( 238 / 306 ) Comic Shop in Pleasant Plains, Staten Island:0\n",
            "( 239 / 306 ) Comic Shop in Butler Manor, Staten Island:0\n",
            "( 240 / 306 ) Comic Shop in Charleston, Staten Island:0\n",
            "( 241 / 306 ) Comic Shop in Rossville, Staten Island:0\n",
            "( 242 / 306 ) Comic Shop in Arden Heights, Staten Island:0\n",
            "( 243 / 306 ) Comic Shop in Greenridge, Staten Island:0\n",
            "( 244 / 306 ) Comic Shop in Heartland Village, Staten Island:0\n",
            "( 245 / 306 ) Comic Shop in Chelsea, Staten Island:0\n",
            "( 246 / 306 ) Comic Shop in Bloomfield, Staten Island:0\n",
            "( 247 / 306 ) Comic Shop in Bulls Head, Staten Island:1\n",
            "( 248 / 306 ) Comic Shop in Carnegie Hill, Manhattan:0\n",
            "( 249 / 306 ) Comic Shop in Noho, Manhattan:0\n",
            "( 250 / 306 ) Comic Shop in Civic Center, Manhattan:0\n",
            "( 251 / 306 ) Comic Shop in Midtown South, Manhattan:1\n",
            "( 252 / 306 ) Comic Shop in Richmond Town, Staten Island:0\n",
            "( 253 / 306 ) Comic Shop in Shore Acres, Staten Island:0\n",
            "( 254 / 306 ) Comic Shop in Clifton, Staten Island:0\n",
            "( 255 / 306 ) Comic Shop in Concord, Staten Island:0\n",
            "( 256 / 306 ) Comic Shop in Emerson Hill, Staten Island:0\n",
            "( 257 / 306 ) Comic Shop in Randall Manor, Staten Island:0\n",
            "( 258 / 306 ) Comic Shop in Howland Hook, Staten Island:0\n",
            "( 259 / 306 ) Comic Shop in Elm Park, Staten Island:1\n",
            "( 260 / 306 ) Comic Shop in Remsen Village, Brooklyn:0\n",
            "( 261 / 306 ) Comic Shop in New Lots, Brooklyn:0\n",
            "( 262 / 306 ) Comic Shop in Paerdegat Basin, Brooklyn:0\n",
            "( 263 / 306 ) Comic Shop in Mill Basin, Brooklyn:0\n",
            "( 264 / 306 ) Comic Shop in Jamaica Hills, Queens:0\n",
            "( 265 / 306 ) Comic Shop in Utopia, Queens:0\n",
            "( 266 / 306 ) Comic Shop in Pomonok, Queens:0\n",
            "( 267 / 306 ) Comic Shop in Astoria Heights, Queens:0\n",
            "( 268 / 306 ) Comic Shop in Claremont Village, Bronx:0\n",
            "( 269 / 306 ) Comic Shop in Concourse Village, Bronx:0\n",
            "( 270 / 306 ) Comic Shop in Mount Eden, Bronx:0\n",
            "( 271 / 306 ) Comic Shop in Mount Hope, Bronx:0\n",
            "( 272 / 306 ) Comic Shop in Sutton Place, Manhattan:0\n",
            "( 273 / 306 ) Comic Shop in Hunters Point, Queens:0\n",
            "( 274 / 306 ) Comic Shop in Turtle Bay, Manhattan:0\n",
            "( 275 / 306 ) Comic Shop in Tudor City, Manhattan:0\n",
            "( 276 / 306 ) Comic Shop in Stuyvesant Town, Manhattan:0\n",
            "( 277 / 306 ) Comic Shop in Flatiron, Manhattan:0\n",
            "( 278 / 306 ) Comic Shop in Sunnyside Gardens, Queens:0\n",
            "( 279 / 306 ) Comic Shop in Blissville, Queens:0\n",
            "( 280 / 306 ) Comic Shop in Fulton Ferry, Brooklyn:0\n",
            "( 281 / 306 ) Comic Shop in Vinegar Hill, Brooklyn:0\n",
            "( 282 / 306 ) Comic Shop in Weeksville, Brooklyn:1\n",
            "( 283 / 306 ) Comic Shop in Broadway Junction, Brooklyn:0\n",
            "( 284 / 306 ) Comic Shop in Dumbo, Brooklyn:0\n",
            "( 285 / 306 ) Comic Shop in Manor Heights, Staten Island:0\n",
            "( 286 / 306 ) Comic Shop in Willowbrook, Staten Island:0\n",
            "( 287 / 306 ) Comic Shop in Sandy Ground, Staten Island:0\n",
            "( 288 / 306 ) Comic Shop in Egbertville, Staten Island:0\n",
            "( 289 / 306 ) Comic Shop in Roxbury, Queens:0\n",
            "( 290 / 306 ) Comic Shop in Homecrest, Brooklyn:0\n",
            "( 291 / 306 ) Comic Shop in Middle Village, Queens:0\n",
            "( 292 / 306 ) Comic Shop in Prince's Bay, Staten Island:0\n",
            "( 293 / 306 ) Comic Shop in Lighthouse Hill, Staten Island:0\n",
            "( 294 / 306 ) Comic Shop in Richmond Valley, Staten Island:0\n",
            "( 295 / 306 ) Comic Shop in Malba, Queens:0\n",
            "( 296 / 306 ) Comic Shop in Highland Park, Brooklyn:0\n",
            "( 297 / 306 ) Comic Shop in Madison, Brooklyn:0\n",
            "( 298 / 306 ) Comic Shop in Bronxdale, Bronx:0\n",
            "( 299 / 306 ) Comic Shop in Allerton, Bronx:0\n",
            "( 300 / 306 ) Comic Shop in Kingsbridge Heights, Bronx:0\n",
            "( 301 / 306 ) Comic Shop in Erasmus, Brooklyn:0\n",
            "( 302 / 306 ) Comic Shop in Hudson Yards, Manhattan:1\n",
            "( 303 / 306 ) Comic Shop in Hammels, Queens:0\n",
            "( 304 / 306 ) Comic Shop in Bayswater, Queens:0\n",
            "( 305 / 306 ) Comic Shop in Queensbridge, Queens:0\n",
            "( 306 / 306 ) Comic Shop in Fox Hills, Staten Island:0\n"
          ],
          "name": "stdout"
        }
      ]
    },
    {
      "cell_type": "markdown",
      "metadata": {
        "id": "dFfEgGv7I-Cg"
      },
      "source": [
        "**Now we got all the Comic Shop in the New York**"
      ]
    },
    {
      "cell_type": "code",
      "metadata": {
        "colab": {
          "base_uri": "https://localhost:8080/"
        },
        "id": "uf2AqZDpOoj6",
        "outputId": "47cc0841-8dd9-40cf-c000-460ed17b1735"
      },
      "source": [
        "comic_shop_ny.shape"
      ],
      "execution_count": 11,
      "outputs": [
        {
          "output_type": "execute_result",
          "data": {
            "text/plain": [
              "(24, 4)"
            ]
          },
          "metadata": {
            "tags": []
          },
          "execution_count": 11
        }
      ]
    },
    {
      "cell_type": "markdown",
      "metadata": {
        "id": "yQ-BvPCYJNst"
      },
      "source": [
        "\r\n",
        "\r\n",
        "**We got 24 Comic Shops across New York**\r\n"
      ]
    },
    {
      "cell_type": "code",
      "metadata": {
        "colab": {
          "base_uri": "https://localhost:8080/",
          "height": 802
        },
        "id": "NHNLhxBKPMp2",
        "outputId": "e8c01a78-9077-486f-9d7a-5f039e384c8f"
      },
      "source": [
        "comic_shop_ny"
      ],
      "execution_count": 12,
      "outputs": [
        {
          "output_type": "execute_result",
          "data": {
            "text/html": [
              "<div>\n",
              "<style scoped>\n",
              "    .dataframe tbody tr th:only-of-type {\n",
              "        vertical-align: middle;\n",
              "    }\n",
              "\n",
              "    .dataframe tbody tr th {\n",
              "        vertical-align: top;\n",
              "    }\n",
              "\n",
              "    .dataframe thead th {\n",
              "        text-align: right;\n",
              "    }\n",
              "</style>\n",
              "<table border=\"1\" class=\"dataframe\">\n",
              "  <thead>\n",
              "    <tr style=\"text-align: right;\">\n",
              "      <th></th>\n",
              "      <th>Borough</th>\n",
              "      <th>Neighborhood</th>\n",
              "      <th>ID</th>\n",
              "      <th>Name</th>\n",
              "    </tr>\n",
              "  </thead>\n",
              "  <tbody>\n",
              "    <tr>\n",
              "      <th>0</th>\n",
              "      <td>Brooklyn</td>\n",
              "      <td>Crown Heights</td>\n",
              "      <td>586892266f20d12f27a34728</td>\n",
              "      <td>Anyone Comics</td>\n",
              "    </tr>\n",
              "    <tr>\n",
              "      <th>1</th>\n",
              "      <td>Brooklyn</td>\n",
              "      <td>Williamsburg</td>\n",
              "      <td>49d0381bf964a520135b1fe3</td>\n",
              "      <td>Desert Island</td>\n",
              "    </tr>\n",
              "    <tr>\n",
              "      <th>2</th>\n",
              "      <td>Brooklyn</td>\n",
              "      <td>Gowanus</td>\n",
              "      <td>4ae89691f964a520a1b021e3</td>\n",
              "      <td>Galaxy Comics</td>\n",
              "    </tr>\n",
              "    <tr>\n",
              "      <th>3</th>\n",
              "      <td>Brooklyn</td>\n",
              "      <td>Flatlands</td>\n",
              "      <td>4a6d9e12f964a520cad21fe3</td>\n",
              "      <td>Bulletproof Comics</td>\n",
              "    </tr>\n",
              "    <tr>\n",
              "      <th>4</th>\n",
              "      <td>Brooklyn</td>\n",
              "      <td>Prospect Lefferts Gardens</td>\n",
              "      <td>586892266f20d12f27a34728</td>\n",
              "      <td>Anyone Comics</td>\n",
              "    </tr>\n",
              "    <tr>\n",
              "      <th>5</th>\n",
              "      <td>Brooklyn</td>\n",
              "      <td>East Williamsburg</td>\n",
              "      <td>49d0381bf964a520135b1fe3</td>\n",
              "      <td>Desert Island</td>\n",
              "    </tr>\n",
              "    <tr>\n",
              "      <th>6</th>\n",
              "      <td>Brooklyn</td>\n",
              "      <td>North Side</td>\n",
              "      <td>49d0381bf964a520135b1fe3</td>\n",
              "      <td>Desert Island</td>\n",
              "    </tr>\n",
              "    <tr>\n",
              "      <th>7</th>\n",
              "      <td>Brooklyn</td>\n",
              "      <td>South Side</td>\n",
              "      <td>49d0381bf964a520135b1fe3</td>\n",
              "      <td>Desert Island</td>\n",
              "    </tr>\n",
              "    <tr>\n",
              "      <th>8</th>\n",
              "      <td>Manhattan</td>\n",
              "      <td>Clinton</td>\n",
              "      <td>40d38200f964a52041011fe3</td>\n",
              "      <td>Midtown Comics</td>\n",
              "    </tr>\n",
              "    <tr>\n",
              "      <th>9</th>\n",
              "      <td>Manhattan</td>\n",
              "      <td>Midtown</td>\n",
              "      <td>40d38200f964a52041011fe3</td>\n",
              "      <td>Midtown Comics</td>\n",
              "    </tr>\n",
              "    <tr>\n",
              "      <th>10</th>\n",
              "      <td>Manhattan</td>\n",
              "      <td>Murray Hill</td>\n",
              "      <td>40d38200f964a52041011fe3</td>\n",
              "      <td>Midtown Comics</td>\n",
              "    </tr>\n",
              "    <tr>\n",
              "      <th>11</th>\n",
              "      <td>Queens</td>\n",
              "      <td>Forest Hills</td>\n",
              "      <td>4b5742a2f964a520e52d28e3</td>\n",
              "      <td>Royal Collectibles</td>\n",
              "    </tr>\n",
              "    <tr>\n",
              "      <th>12</th>\n",
              "      <td>Queens</td>\n",
              "      <td>Glendale</td>\n",
              "      <td>4b5742a2f964a520e52d28e3</td>\n",
              "      <td>Royal Collectibles</td>\n",
              "    </tr>\n",
              "    <tr>\n",
              "      <th>13</th>\n",
              "      <td>Queens</td>\n",
              "      <td>Forest Hills Gardens</td>\n",
              "      <td>4b5742a2f964a520e52d28e3</td>\n",
              "      <td>Royal Collectibles</td>\n",
              "    </tr>\n",
              "    <tr>\n",
              "      <th>14</th>\n",
              "      <td>Staten Island</td>\n",
              "      <td>Mariner's Harbor</td>\n",
              "      <td>4b2add1ff964a52017b124e3</td>\n",
              "      <td>Comic Book Jones</td>\n",
              "    </tr>\n",
              "    <tr>\n",
              "      <th>15</th>\n",
              "      <td>Staten Island</td>\n",
              "      <td>Port Ivory</td>\n",
              "      <td>4b2add1ff964a52017b124e3</td>\n",
              "      <td>Comic Book Jones</td>\n",
              "    </tr>\n",
              "    <tr>\n",
              "      <th>16</th>\n",
              "      <td>Brooklyn</td>\n",
              "      <td>Wingate</td>\n",
              "      <td>586892266f20d12f27a34728</td>\n",
              "      <td>Anyone Comics</td>\n",
              "    </tr>\n",
              "    <tr>\n",
              "      <th>17</th>\n",
              "      <td>Staten Island</td>\n",
              "      <td>Graniteville</td>\n",
              "      <td>4b2add1ff964a52017b124e3</td>\n",
              "      <td>Comic Book Jones</td>\n",
              "    </tr>\n",
              "    <tr>\n",
              "      <th>18</th>\n",
              "      <td>Staten Island</td>\n",
              "      <td>Arlington</td>\n",
              "      <td>4b2add1ff964a52017b124e3</td>\n",
              "      <td>Comic Book Jones</td>\n",
              "    </tr>\n",
              "    <tr>\n",
              "      <th>19</th>\n",
              "      <td>Staten Island</td>\n",
              "      <td>Bulls Head</td>\n",
              "      <td>4b2add1ff964a52017b124e3</td>\n",
              "      <td>Comic Book Jones</td>\n",
              "    </tr>\n",
              "    <tr>\n",
              "      <th>20</th>\n",
              "      <td>Manhattan</td>\n",
              "      <td>Midtown South</td>\n",
              "      <td>40d38200f964a52041011fe3</td>\n",
              "      <td>Midtown Comics</td>\n",
              "    </tr>\n",
              "    <tr>\n",
              "      <th>21</th>\n",
              "      <td>Staten Island</td>\n",
              "      <td>Elm Park</td>\n",
              "      <td>4b2add1ff964a52017b124e3</td>\n",
              "      <td>Comic Book Jones</td>\n",
              "    </tr>\n",
              "    <tr>\n",
              "      <th>22</th>\n",
              "      <td>Brooklyn</td>\n",
              "      <td>Weeksville</td>\n",
              "      <td>586892266f20d12f27a34728</td>\n",
              "      <td>Anyone Comics</td>\n",
              "    </tr>\n",
              "    <tr>\n",
              "      <th>23</th>\n",
              "      <td>Manhattan</td>\n",
              "      <td>Hudson Yards</td>\n",
              "      <td>40d38200f964a52041011fe3</td>\n",
              "      <td>Midtown Comics</td>\n",
              "    </tr>\n",
              "  </tbody>\n",
              "</table>\n",
              "</div>"
            ],
            "text/plain": [
              "          Borough               Neighborhood                        ID  \\\n",
              "0        Brooklyn              Crown Heights  586892266f20d12f27a34728   \n",
              "1        Brooklyn               Williamsburg  49d0381bf964a520135b1fe3   \n",
              "2        Brooklyn                    Gowanus  4ae89691f964a520a1b021e3   \n",
              "3        Brooklyn                  Flatlands  4a6d9e12f964a520cad21fe3   \n",
              "4        Brooklyn  Prospect Lefferts Gardens  586892266f20d12f27a34728   \n",
              "5        Brooklyn          East Williamsburg  49d0381bf964a520135b1fe3   \n",
              "6        Brooklyn                 North Side  49d0381bf964a520135b1fe3   \n",
              "7        Brooklyn                 South Side  49d0381bf964a520135b1fe3   \n",
              "8       Manhattan                    Clinton  40d38200f964a52041011fe3   \n",
              "9       Manhattan                    Midtown  40d38200f964a52041011fe3   \n",
              "10      Manhattan                Murray Hill  40d38200f964a52041011fe3   \n",
              "11         Queens               Forest Hills  4b5742a2f964a520e52d28e3   \n",
              "12         Queens                   Glendale  4b5742a2f964a520e52d28e3   \n",
              "13         Queens       Forest Hills Gardens  4b5742a2f964a520e52d28e3   \n",
              "14  Staten Island           Mariner's Harbor  4b2add1ff964a52017b124e3   \n",
              "15  Staten Island                 Port Ivory  4b2add1ff964a52017b124e3   \n",
              "16       Brooklyn                    Wingate  586892266f20d12f27a34728   \n",
              "17  Staten Island               Graniteville  4b2add1ff964a52017b124e3   \n",
              "18  Staten Island                  Arlington  4b2add1ff964a52017b124e3   \n",
              "19  Staten Island                 Bulls Head  4b2add1ff964a52017b124e3   \n",
              "20      Manhattan              Midtown South  40d38200f964a52041011fe3   \n",
              "21  Staten Island                   Elm Park  4b2add1ff964a52017b124e3   \n",
              "22       Brooklyn                 Weeksville  586892266f20d12f27a34728   \n",
              "23      Manhattan               Hudson Yards  40d38200f964a52041011fe3   \n",
              "\n",
              "                  Name  \n",
              "0        Anyone Comics  \n",
              "1        Desert Island  \n",
              "2        Galaxy Comics  \n",
              "3   Bulletproof Comics  \n",
              "4        Anyone Comics  \n",
              "5        Desert Island  \n",
              "6        Desert Island  \n",
              "7        Desert Island  \n",
              "8       Midtown Comics  \n",
              "9       Midtown Comics  \n",
              "10      Midtown Comics  \n",
              "11  Royal Collectibles  \n",
              "12  Royal Collectibles  \n",
              "13  Royal Collectibles  \n",
              "14    Comic Book Jones  \n",
              "15    Comic Book Jones  \n",
              "16       Anyone Comics  \n",
              "17    Comic Book Jones  \n",
              "18    Comic Book Jones  \n",
              "19    Comic Book Jones  \n",
              "20      Midtown Comics  \n",
              "21    Comic Book Jones  \n",
              "22       Anyone Comics  \n",
              "23      Midtown Comics  "
            ]
          },
          "metadata": {
            "tags": []
          },
          "execution_count": 12
        }
      ]
    },
    {
      "cell_type": "code",
      "metadata": {
        "colab": {
          "base_uri": "https://localhost:8080/",
          "height": 604
        },
        "id": "J1r24ydTP0U4",
        "outputId": "9e675a3f-2bad-4f49-e45e-371eaa7e918b"
      },
      "source": [
        "from matplotlib import pyplot as plt\r\n",
        "plt.style.use('ggplot')\r\n",
        "\r\n",
        "plt.figure(figsize=(9,5), dpi = 100)\r\n",
        "# title\r\n",
        "plt.title('Number of Comic Shops in NYC by Commercial Name')\r\n",
        "#On x-axis\r\n",
        "plt.xlabel('Name', fontsize = 15)\r\n",
        "#On y-axis\r\n",
        "plt.ylabel('No.of Comic Shops', fontsize=15)\r\n",
        "#giving a bar plot\r\n",
        "comic_shop_ny.groupby('Name')['ID'].count().plot(kind='bar')\r\n",
        "#legend\r\n",
        "plt.legend()\r\n",
        "#displays the plot\r\n",
        "plt.show()"
      ],
      "execution_count": 13,
      "outputs": [
        {
          "output_type": "display_data",
          "data": {
            "image/png": "[encoded data removed]",
            "text/plain": [
              "<Figure size 900x500 with 1 Axes>"
            ]
          },
          "metadata": {
            "tags": []
          }
        }
      ]
    },
    {
      "cell_type": "markdown",
      "metadata": {
        "id": "DkAm2mRiJg3m"
      },
      "source": [
        "**We see that Brooklyn has the largest number of Comic Shops**"
      ]
    },
    {
      "cell_type": "code",
      "metadata": {
        "colab": {
          "base_uri": "https://localhost:8080/",
          "height": 564
        },
        "id": "TWYl0L8ZOw6y",
        "outputId": "0d82cc22-c306-477b-f5e9-8b2d4c108cf3"
      },
      "source": [
        "from matplotlib import pyplot as plt\r\n",
        "plt.style.use('ggplot')\r\n",
        "\r\n",
        "plt.figure(figsize=(9,5), dpi = 100)\r\n",
        "# title\r\n",
        "plt.title('Number of Comic Shops in NYC by Borough')\r\n",
        "#On x-axis\r\n",
        "plt.xlabel('Borough', fontsize = 15)\r\n",
        "#On y-axis\r\n",
        "plt.ylabel('No.of Comic Shops', fontsize=15)\r\n",
        "#giving a bar plot\r\n",
        "comic_shop_ny.groupby('Borough')['ID'].count().plot(kind='bar')\r\n",
        "#legend\r\n",
        "plt.legend()\r\n",
        "#displays the plot\r\n",
        "plt.show()"
      ],
      "execution_count": 14,
      "outputs": [
        {
          "output_type": "display_data",
          "data": {
            "image/png": "[encoded data removed]",
            "text/plain": [
              "<Figure size 900x500 with 1 Axes>"
            ]
          },
          "metadata": {
            "tags": []
          }
        }
      ]
    },
    {
      "cell_type": "markdown",
      "metadata": {
        "id": "gwAsozFLRlqz"
      },
      "source": [
        "\r\n",
        "\r\n",
        "**It is noted that Queens has the highest number of Comic Shops.**\r\n"
      ]
    },
    {
      "cell_type": "code",
      "metadata": {
        "colab": {
          "base_uri": "https://localhost:8080/",
          "height": 363
        },
        "id": "q1KTBGO6RIje",
        "outputId": "08523ea3-8d97-47d3-b379-cb6fbb5621c8"
      },
      "source": [
        "comic_shop_ny[comic_shop_ny['Borough']=='Brooklyn']"
      ],
      "execution_count": 15,
      "outputs": [
        {
          "output_type": "execute_result",
          "data": {
            "text/html": [
              "<div>\n",
              "<style scoped>\n",
              "    .dataframe tbody tr th:only-of-type {\n",
              "        vertical-align: middle;\n",
              "    }\n",
              "\n",
              "    .dataframe tbody tr th {\n",
              "        vertical-align: top;\n",
              "    }\n",
              "\n",
              "    .dataframe thead th {\n",
              "        text-align: right;\n",
              "    }\n",
              "</style>\n",
              "<table border=\"1\" class=\"dataframe\">\n",
              "  <thead>\n",
              "    <tr style=\"text-align: right;\">\n",
              "      <th></th>\n",
              "      <th>Borough</th>\n",
              "      <th>Neighborhood</th>\n",
              "      <th>ID</th>\n",
              "      <th>Name</th>\n",
              "    </tr>\n",
              "  </thead>\n",
              "  <tbody>\n",
              "    <tr>\n",
              "      <th>0</th>\n",
              "      <td>Brooklyn</td>\n",
              "      <td>Crown Heights</td>\n",
              "      <td>586892266f20d12f27a34728</td>\n",
              "      <td>Anyone Comics</td>\n",
              "    </tr>\n",
              "    <tr>\n",
              "      <th>1</th>\n",
              "      <td>Brooklyn</td>\n",
              "      <td>Williamsburg</td>\n",
              "      <td>49d0381bf964a520135b1fe3</td>\n",
              "      <td>Desert Island</td>\n",
              "    </tr>\n",
              "    <tr>\n",
              "      <th>2</th>\n",
              "      <td>Brooklyn</td>\n",
              "      <td>Gowanus</td>\n",
              "      <td>4ae89691f964a520a1b021e3</td>\n",
              "      <td>Galaxy Comics</td>\n",
              "    </tr>\n",
              "    <tr>\n",
              "      <th>3</th>\n",
              "      <td>Brooklyn</td>\n",
              "      <td>Flatlands</td>\n",
              "      <td>4a6d9e12f964a520cad21fe3</td>\n",
              "      <td>Bulletproof Comics</td>\n",
              "    </tr>\n",
              "    <tr>\n",
              "      <th>4</th>\n",
              "      <td>Brooklyn</td>\n",
              "      <td>Prospect Lefferts Gardens</td>\n",
              "      <td>586892266f20d12f27a34728</td>\n",
              "      <td>Anyone Comics</td>\n",
              "    </tr>\n",
              "    <tr>\n",
              "      <th>5</th>\n",
              "      <td>Brooklyn</td>\n",
              "      <td>East Williamsburg</td>\n",
              "      <td>49d0381bf964a520135b1fe3</td>\n",
              "      <td>Desert Island</td>\n",
              "    </tr>\n",
              "    <tr>\n",
              "      <th>6</th>\n",
              "      <td>Brooklyn</td>\n",
              "      <td>North Side</td>\n",
              "      <td>49d0381bf964a520135b1fe3</td>\n",
              "      <td>Desert Island</td>\n",
              "    </tr>\n",
              "    <tr>\n",
              "      <th>7</th>\n",
              "      <td>Brooklyn</td>\n",
              "      <td>South Side</td>\n",
              "      <td>49d0381bf964a520135b1fe3</td>\n",
              "      <td>Desert Island</td>\n",
              "    </tr>\n",
              "    <tr>\n",
              "      <th>16</th>\n",
              "      <td>Brooklyn</td>\n",
              "      <td>Wingate</td>\n",
              "      <td>586892266f20d12f27a34728</td>\n",
              "      <td>Anyone Comics</td>\n",
              "    </tr>\n",
              "    <tr>\n",
              "      <th>22</th>\n",
              "      <td>Brooklyn</td>\n",
              "      <td>Weeksville</td>\n",
              "      <td>586892266f20d12f27a34728</td>\n",
              "      <td>Anyone Comics</td>\n",
              "    </tr>\n",
              "  </tbody>\n",
              "</table>\n",
              "</div>"
            ],
            "text/plain": [
              "     Borough               Neighborhood                        ID  \\\n",
              "0   Brooklyn              Crown Heights  586892266f20d12f27a34728   \n",
              "1   Brooklyn               Williamsburg  49d0381bf964a520135b1fe3   \n",
              "2   Brooklyn                    Gowanus  4ae89691f964a520a1b021e3   \n",
              "3   Brooklyn                  Flatlands  4a6d9e12f964a520cad21fe3   \n",
              "4   Brooklyn  Prospect Lefferts Gardens  586892266f20d12f27a34728   \n",
              "5   Brooklyn          East Williamsburg  49d0381bf964a520135b1fe3   \n",
              "6   Brooklyn                 North Side  49d0381bf964a520135b1fe3   \n",
              "7   Brooklyn                 South Side  49d0381bf964a520135b1fe3   \n",
              "16  Brooklyn                    Wingate  586892266f20d12f27a34728   \n",
              "22  Brooklyn                 Weeksville  586892266f20d12f27a34728   \n",
              "\n",
              "                  Name  \n",
              "0        Anyone Comics  \n",
              "1        Desert Island  \n",
              "2        Galaxy Comics  \n",
              "3   Bulletproof Comics  \n",
              "4        Anyone Comics  \n",
              "5        Desert Island  \n",
              "6        Desert Island  \n",
              "7        Desert Island  \n",
              "16       Anyone Comics  \n",
              "22       Anyone Comics  "
            ]
          },
          "metadata": {
            "tags": []
          },
          "execution_count": 15
        }
      ]
    },
    {
      "cell_type": "code",
      "metadata": {
        "colab": {
          "base_uri": "https://localhost:8080/",
          "height": 1000
        },
        "id": "DRi4ghMIRz-W",
        "outputId": "43caf087-d98a-477c-e93a-84541011f362"
      },
      "source": [
        "from matplotlib import pyplot as plt\r\n",
        "plt.style.use('ggplot')\r\n",
        "\r\n",
        "plt.figure(figsize=(9,10), dpi = 100)\r\n",
        "# title\r\n",
        "plt.title('Number of Comic Shop in NYC by Neighbourhood')\r\n",
        "#On x-axis\r\n",
        "plt.xlabel('Neighborhood', fontsize = 15)\r\n",
        "#On y-axis\r\n",
        "plt.ylabel('No.of Comic Shop', fontsize=15)\r\n",
        "#giving a bar plot\r\n",
        "comic_shop_ny.groupby('Neighborhood')['ID'].count().nlargest(24).plot(kind='bar')\r\n",
        "#legend\r\n",
        "plt.legend()\r\n",
        "#displays the plot\r\n",
        "plt.show()"
      ],
      "execution_count": 16,
      "outputs": [
        {
          "output_type": "display_data",
          "data": {
            "image/png": "[encoded data removed]",
            "text/plain": [
              "<Figure size 900x1000 with 1 Axes>"
            ]
          },
          "metadata": {
            "tags": []
          }
        }
      ]
    },
    {
      "cell_type": "code",
      "metadata": {
        "colab": {
          "base_uri": "https://localhost:8080/"
        },
        "id": "y54okmoHDc9U",
        "outputId": "fac30a2a-b77a-4528-dfea-791b0aa57adc"
      },
      "source": [
        "# prepare neighborhood list that contains comic shop\r\n",
        "column_names=['Borough', 'Neighborhood', 'ID','Name','Likes','Rating','Tips']\r\n",
        "comic_shop_stats_ny=pd.DataFrame(columns=column_names)\r\n",
        "count=1\r\n",
        "\r\n",
        "\r\n",
        "for row in comic_shop_ny.values.tolist():\r\n",
        "    Borough,Neighborhood,ID,Name=row\r\n",
        "    #var_borough = row.Borough\r\n",
        "    #var_neighborhood = row.Neighborhood\r\n",
        "    #var_id = row.ID\r\n",
        "    #var_name = row.Name\r\n",
        "    try:\r\n",
        "        venue_details=get_venue_details(ID)\r\n",
        "        print(venue_details)\r\n",
        "        id,name,likes,rating,tips=venue_details.values.tolist()[0]\r\n",
        "    except (IndexError,KeyError) as e:\r\n",
        "        print('No data available for id=',ID)\r\n",
        "        # we will assign 0 value for these comic shop as they may have been \r\n",
        "        #recently opened or details does not exist in FourSquare Database\r\n",
        "        id,name,likes,rating,tips=[0]*5\r\n",
        "    print('(',count,'/',len(comic_shop_ny),')','processed')\r\n",
        "    comic_shop_stats_ny = comic_shop_stats_ny.append({'Borough': Borough,\r\n",
        "                                                'Neighborhood': Neighborhood, \r\n",
        "                                                'ID': id,\r\n",
        "                                                'Name' : name,\r\n",
        "                                                'Likes' : likes,\r\n",
        "                                                'Rating' : rating,\r\n",
        "                                                'Tips' : tips\r\n",
        "                                               }, ignore_index=True)\r\n",
        "    count+=1"
      ],
      "execution_count": 17,
      "outputs": [
        {
          "output_type": "stream",
          "text": [
            "                         ID           Name  Likes  Rating  Tips\n",
            "0  586892266f20d12f27a34728  Anyone Comics     15     8.6     3\n",
            "( 1 / 24 ) processed\n",
            "                         ID           Name  Likes  Rating  Tips\n",
            "0  49d0381bf964a520135b1fe3  Desert Island     78     9.4    15\n",
            "( 2 / 24 ) processed\n",
            "                         ID           Name  Likes  Rating  Tips\n",
            "0  4ae89691f964a520a1b021e3  Galaxy Comics     45     8.7    11\n",
            "( 3 / 24 ) processed\n",
            "                         ID                Name  Likes  Rating  Tips\n",
            "0  4a6d9e12f964a520cad21fe3  Bulletproof Comics     16     7.2     6\n",
            "( 4 / 24 ) processed\n",
            "                         ID           Name  Likes  Rating  Tips\n",
            "0  586892266f20d12f27a34728  Anyone Comics     15     8.6     3\n",
            "( 5 / 24 ) processed\n",
            "                         ID           Name  Likes  Rating  Tips\n",
            "0  49d0381bf964a520135b1fe3  Desert Island     78     9.4    15\n",
            "( 6 / 24 ) processed\n",
            "                         ID           Name  Likes  Rating  Tips\n",
            "0  49d0381bf964a520135b1fe3  Desert Island     78     9.4    15\n",
            "( 7 / 24 ) processed\n",
            "                         ID           Name  Likes  Rating  Tips\n",
            "0  49d0381bf964a520135b1fe3  Desert Island     78     9.4    15\n",
            "( 8 / 24 ) processed\n",
            "                         ID            Name  Likes  Rating  Tips\n",
            "0  40d38200f964a52041011fe3  Midtown Comics    777     9.1   139\n",
            "( 9 / 24 ) processed\n",
            "                         ID            Name  Likes  Rating  Tips\n",
            "0  40d38200f964a52041011fe3  Midtown Comics    777     9.1   139\n",
            "( 10 / 24 ) processed\n",
            "                         ID            Name  Likes  Rating  Tips\n",
            "0  40d38200f964a52041011fe3  Midtown Comics    777     9.1   139\n",
            "( 11 / 24 ) processed\n",
            "                         ID                Name  Likes  Rating  Tips\n",
            "0  4b5742a2f964a520e52d28e3  Royal Collectibles     38     8.9    10\n",
            "( 12 / 24 ) processed\n",
            "                         ID                Name  Likes  Rating  Tips\n",
            "0  4b5742a2f964a520e52d28e3  Royal Collectibles     38     8.9    10\n",
            "( 13 / 24 ) processed\n",
            "                         ID                Name  Likes  Rating  Tips\n",
            "0  4b5742a2f964a520e52d28e3  Royal Collectibles     38     8.9    10\n",
            "( 14 / 24 ) processed\n",
            "                         ID              Name  Likes  Rating  Tips\n",
            "0  4b2add1ff964a52017b124e3  Comic Book Jones     22     7.6    11\n",
            "( 15 / 24 ) processed\n",
            "                         ID              Name  Likes  Rating  Tips\n",
            "0  4b2add1ff964a52017b124e3  Comic Book Jones     22     7.6    11\n",
            "( 16 / 24 ) processed\n",
            "                         ID           Name  Likes  Rating  Tips\n",
            "0  586892266f20d12f27a34728  Anyone Comics     15     8.6     3\n",
            "( 17 / 24 ) processed\n",
            "                         ID              Name  Likes  Rating  Tips\n",
            "0  4b2add1ff964a52017b124e3  Comic Book Jones     22     7.6    11\n",
            "( 18 / 24 ) processed\n",
            "                         ID              Name  Likes  Rating  Tips\n",
            "0  4b2add1ff964a52017b124e3  Comic Book Jones     22     7.6    11\n",
            "( 19 / 24 ) processed\n",
            "                         ID              Name  Likes  Rating  Tips\n",
            "0  4b2add1ff964a52017b124e3  Comic Book Jones     22     7.6    11\n",
            "( 20 / 24 ) processed\n",
            "                         ID            Name  Likes  Rating  Tips\n",
            "0  40d38200f964a52041011fe3  Midtown Comics    777     9.1   139\n",
            "( 21 / 24 ) processed\n",
            "                         ID              Name  Likes  Rating  Tips\n",
            "0  4b2add1ff964a52017b124e3  Comic Book Jones     22     7.6    11\n",
            "( 22 / 24 ) processed\n",
            "                         ID           Name  Likes  Rating  Tips\n",
            "0  586892266f20d12f27a34728  Anyone Comics     15     8.6     3\n",
            "( 23 / 24 ) processed\n",
            "                         ID            Name  Likes  Rating  Tips\n",
            "0  40d38200f964a52041011fe3  Midtown Comics    777     9.1   139\n",
            "( 24 / 24 ) processed\n"
          ],
          "name": "stdout"
        }
      ]
    },
    {
      "cell_type": "code",
      "metadata": {
        "colab": {
          "base_uri": "https://localhost:8080/",
          "height": 206
        },
        "id": "Cone4kfNEdxA",
        "outputId": "08815436-2cb1-4a5c-aa03-5f73cfa03d3a"
      },
      "source": [
        "comic_shop_stats_ny.head()"
      ],
      "execution_count": 18,
      "outputs": [
        {
          "output_type": "execute_result",
          "data": {
            "text/html": [
              "<div>\n",
              "<style scoped>\n",
              "    .dataframe tbody tr th:only-of-type {\n",
              "        vertical-align: middle;\n",
              "    }\n",
              "\n",
              "    .dataframe tbody tr th {\n",
              "        vertical-align: top;\n",
              "    }\n",
              "\n",
              "    .dataframe thead th {\n",
              "        text-align: right;\n",
              "    }\n",
              "</style>\n",
              "<table border=\"1\" class=\"dataframe\">\n",
              "  <thead>\n",
              "    <tr style=\"text-align: right;\">\n",
              "      <th></th>\n",
              "      <th>Borough</th>\n",
              "      <th>Neighborhood</th>\n",
              "      <th>ID</th>\n",
              "      <th>Name</th>\n",
              "      <th>Likes</th>\n",
              "      <th>Rating</th>\n",
              "      <th>Tips</th>\n",
              "    </tr>\n",
              "  </thead>\n",
              "  <tbody>\n",
              "    <tr>\n",
              "      <th>0</th>\n",
              "      <td>Brooklyn</td>\n",
              "      <td>Crown Heights</td>\n",
              "      <td>586892266f20d12f27a34728</td>\n",
              "      <td>Anyone Comics</td>\n",
              "      <td>15</td>\n",
              "      <td>8.6</td>\n",
              "      <td>3</td>\n",
              "    </tr>\n",
              "    <tr>\n",
              "      <th>1</th>\n",
              "      <td>Brooklyn</td>\n",
              "      <td>Williamsburg</td>\n",
              "      <td>49d0381bf964a520135b1fe3</td>\n",
              "      <td>Desert Island</td>\n",
              "      <td>78</td>\n",
              "      <td>9.4</td>\n",
              "      <td>15</td>\n",
              "    </tr>\n",
              "    <tr>\n",
              "      <th>2</th>\n",
              "      <td>Brooklyn</td>\n",
              "      <td>Gowanus</td>\n",
              "      <td>4ae89691f964a520a1b021e3</td>\n",
              "      <td>Galaxy Comics</td>\n",
              "      <td>45</td>\n",
              "      <td>8.7</td>\n",
              "      <td>11</td>\n",
              "    </tr>\n",
              "    <tr>\n",
              "      <th>3</th>\n",
              "      <td>Brooklyn</td>\n",
              "      <td>Flatlands</td>\n",
              "      <td>4a6d9e12f964a520cad21fe3</td>\n",
              "      <td>Bulletproof Comics</td>\n",
              "      <td>16</td>\n",
              "      <td>7.2</td>\n",
              "      <td>6</td>\n",
              "    </tr>\n",
              "    <tr>\n",
              "      <th>4</th>\n",
              "      <td>Brooklyn</td>\n",
              "      <td>Prospect Lefferts Gardens</td>\n",
              "      <td>586892266f20d12f27a34728</td>\n",
              "      <td>Anyone Comics</td>\n",
              "      <td>15</td>\n",
              "      <td>8.6</td>\n",
              "      <td>3</td>\n",
              "    </tr>\n",
              "  </tbody>\n",
              "</table>\n",
              "</div>"
            ],
            "text/plain": [
              "    Borough               Neighborhood                        ID  \\\n",
              "0  Brooklyn              Crown Heights  586892266f20d12f27a34728   \n",
              "1  Brooklyn               Williamsburg  49d0381bf964a520135b1fe3   \n",
              "2  Brooklyn                    Gowanus  4ae89691f964a520a1b021e3   \n",
              "3  Brooklyn                  Flatlands  4a6d9e12f964a520cad21fe3   \n",
              "4  Brooklyn  Prospect Lefferts Gardens  586892266f20d12f27a34728   \n",
              "\n",
              "                 Name Likes  Rating Tips  \n",
              "0       Anyone Comics    15     8.6    3  \n",
              "1       Desert Island    78     9.4   15  \n",
              "2       Galaxy Comics    45     8.7   11  \n",
              "3  Bulletproof Comics    16     7.2    6  \n",
              "4       Anyone Comics    15     8.6    3  "
            ]
          },
          "metadata": {
            "tags": []
          },
          "execution_count": 18
        }
      ]
    },
    {
      "cell_type": "code",
      "metadata": {
        "colab": {
          "base_uri": "https://localhost:8080/"
        },
        "id": "EG9_-dewExzH",
        "outputId": "6a1c6a6e-621f-4be5-b11b-db4628e5266a"
      },
      "source": [
        "comic_shop_stats_ny.shape"
      ],
      "execution_count": 19,
      "outputs": [
        {
          "output_type": "execute_result",
          "data": {
            "text/plain": [
              "(24, 7)"
            ]
          },
          "metadata": {
            "tags": []
          },
          "execution_count": 19
        }
      ]
    },
    {
      "cell_type": "markdown",
      "metadata": {
        "id": "UpcHS7MrPD3J"
      },
      "source": [
        "**From above we can observe we have fetched all data required for all the Comic Shop.**\r\n"
      ]
    },
    {
      "cell_type": "markdown",
      "metadata": {
        "id": "BeLzHghDPYHE"
      },
      "source": [
        "**Lets save this in CSV form**"
      ]
    },
    {
      "cell_type": "code",
      "metadata": {
        "id": "CxBG-OVQE_Fr"
      },
      "source": [
        "comic_shop_stats_ny.to_csv('comic_shop_stats_ny.csv', index=False)"
      ],
      "execution_count": 20,
      "outputs": []
    },
    {
      "cell_type": "markdown",
      "metadata": {
        "id": "DpEjndA6PgL3"
      },
      "source": [
        "**Verify the saves csv file**"
      ]
    },
    {
      "cell_type": "code",
      "metadata": {
        "id": "uMlJtDpQFH6y"
      },
      "source": [
        "comic_shop_stats_ny_csv=pd.read_csv('comic_shop_stats_ny.csv')"
      ],
      "execution_count": 21,
      "outputs": []
    },
    {
      "cell_type": "code",
      "metadata": {
        "colab": {
          "base_uri": "https://localhost:8080/",
          "height": 802
        },
        "id": "441DFlSYPwHq",
        "outputId": "bb9f423d-f33e-4f29-a1f7-01d9e2794c5d"
      },
      "source": [
        "comic_shop_stats_ny_csv"
      ],
      "execution_count": 22,
      "outputs": [
        {
          "output_type": "execute_result",
          "data": {
            "text/html": [
              "<div>\n",
              "<style scoped>\n",
              "    .dataframe tbody tr th:only-of-type {\n",
              "        vertical-align: middle;\n",
              "    }\n",
              "\n",
              "    .dataframe tbody tr th {\n",
              "        vertical-align: top;\n",
              "    }\n",
              "\n",
              "    .dataframe thead th {\n",
              "        text-align: right;\n",
              "    }\n",
              "</style>\n",
              "<table border=\"1\" class=\"dataframe\">\n",
              "  <thead>\n",
              "    <tr style=\"text-align: right;\">\n",
              "      <th></th>\n",
              "      <th>Borough</th>\n",
              "      <th>Neighborhood</th>\n",
              "      <th>ID</th>\n",
              "      <th>Name</th>\n",
              "      <th>Likes</th>\n",
              "      <th>Rating</th>\n",
              "      <th>Tips</th>\n",
              "    </tr>\n",
              "  </thead>\n",
              "  <tbody>\n",
              "    <tr>\n",
              "      <th>0</th>\n",
              "      <td>Brooklyn</td>\n",
              "      <td>Crown Heights</td>\n",
              "      <td>586892266f20d12f27a34728</td>\n",
              "      <td>Anyone Comics</td>\n",
              "      <td>15</td>\n",
              "      <td>8.6</td>\n",
              "      <td>3</td>\n",
              "    </tr>\n",
              "    <tr>\n",
              "      <th>1</th>\n",
              "      <td>Brooklyn</td>\n",
              "      <td>Williamsburg</td>\n",
              "      <td>49d0381bf964a520135b1fe3</td>\n",
              "      <td>Desert Island</td>\n",
              "      <td>78</td>\n",
              "      <td>9.4</td>\n",
              "      <td>15</td>\n",
              "    </tr>\n",
              "    <tr>\n",
              "      <th>2</th>\n",
              "      <td>Brooklyn</td>\n",
              "      <td>Gowanus</td>\n",
              "      <td>4ae89691f964a520a1b021e3</td>\n",
              "      <td>Galaxy Comics</td>\n",
              "      <td>45</td>\n",
              "      <td>8.7</td>\n",
              "      <td>11</td>\n",
              "    </tr>\n",
              "    <tr>\n",
              "      <th>3</th>\n",
              "      <td>Brooklyn</td>\n",
              "      <td>Flatlands</td>\n",
              "      <td>4a6d9e12f964a520cad21fe3</td>\n",
              "      <td>Bulletproof Comics</td>\n",
              "      <td>16</td>\n",
              "      <td>7.2</td>\n",
              "      <td>6</td>\n",
              "    </tr>\n",
              "    <tr>\n",
              "      <th>4</th>\n",
              "      <td>Brooklyn</td>\n",
              "      <td>Prospect Lefferts Gardens</td>\n",
              "      <td>586892266f20d12f27a34728</td>\n",
              "      <td>Anyone Comics</td>\n",
              "      <td>15</td>\n",
              "      <td>8.6</td>\n",
              "      <td>3</td>\n",
              "    </tr>\n",
              "    <tr>\n",
              "      <th>5</th>\n",
              "      <td>Brooklyn</td>\n",
              "      <td>East Williamsburg</td>\n",
              "      <td>49d0381bf964a520135b1fe3</td>\n",
              "      <td>Desert Island</td>\n",
              "      <td>78</td>\n",
              "      <td>9.4</td>\n",
              "      <td>15</td>\n",
              "    </tr>\n",
              "    <tr>\n",
              "      <th>6</th>\n",
              "      <td>Brooklyn</td>\n",
              "      <td>North Side</td>\n",
              "      <td>49d0381bf964a520135b1fe3</td>\n",
              "      <td>Desert Island</td>\n",
              "      <td>78</td>\n",
              "      <td>9.4</td>\n",
              "      <td>15</td>\n",
              "    </tr>\n",
              "    <tr>\n",
              "      <th>7</th>\n",
              "      <td>Brooklyn</td>\n",
              "      <td>South Side</td>\n",
              "      <td>49d0381bf964a520135b1fe3</td>\n",
              "      <td>Desert Island</td>\n",
              "      <td>78</td>\n",
              "      <td>9.4</td>\n",
              "      <td>15</td>\n",
              "    </tr>\n",
              "    <tr>\n",
              "      <th>8</th>\n",
              "      <td>Manhattan</td>\n",
              "      <td>Clinton</td>\n",
              "      <td>40d38200f964a52041011fe3</td>\n",
              "      <td>Midtown Comics</td>\n",
              "      <td>777</td>\n",
              "      <td>9.1</td>\n",
              "      <td>139</td>\n",
              "    </tr>\n",
              "    <tr>\n",
              "      <th>9</th>\n",
              "      <td>Manhattan</td>\n",
              "      <td>Midtown</td>\n",
              "      <td>40d38200f964a52041011fe3</td>\n",
              "      <td>Midtown Comics</td>\n",
              "      <td>777</td>\n",
              "      <td>9.1</td>\n",
              "      <td>139</td>\n",
              "    </tr>\n",
              "    <tr>\n",
              "      <th>10</th>\n",
              "      <td>Manhattan</td>\n",
              "      <td>Murray Hill</td>\n",
              "      <td>40d38200f964a52041011fe3</td>\n",
              "      <td>Midtown Comics</td>\n",
              "      <td>777</td>\n",
              "      <td>9.1</td>\n",
              "      <td>139</td>\n",
              "    </tr>\n",
              "    <tr>\n",
              "      <th>11</th>\n",
              "      <td>Queens</td>\n",
              "      <td>Forest Hills</td>\n",
              "      <td>4b5742a2f964a520e52d28e3</td>\n",
              "      <td>Royal Collectibles</td>\n",
              "      <td>38</td>\n",
              "      <td>8.9</td>\n",
              "      <td>10</td>\n",
              "    </tr>\n",
              "    <tr>\n",
              "      <th>12</th>\n",
              "      <td>Queens</td>\n",
              "      <td>Glendale</td>\n",
              "      <td>4b5742a2f964a520e52d28e3</td>\n",
              "      <td>Royal Collectibles</td>\n",
              "      <td>38</td>\n",
              "      <td>8.9</td>\n",
              "      <td>10</td>\n",
              "    </tr>\n",
              "    <tr>\n",
              "      <th>13</th>\n",
              "      <td>Queens</td>\n",
              "      <td>Forest Hills Gardens</td>\n",
              "      <td>4b5742a2f964a520e52d28e3</td>\n",
              "      <td>Royal Collectibles</td>\n",
              "      <td>38</td>\n",
              "      <td>8.9</td>\n",
              "      <td>10</td>\n",
              "    </tr>\n",
              "    <tr>\n",
              "      <th>14</th>\n",
              "      <td>Staten Island</td>\n",
              "      <td>Mariner's Harbor</td>\n",
              "      <td>4b2add1ff964a52017b124e3</td>\n",
              "      <td>Comic Book Jones</td>\n",
              "      <td>22</td>\n",
              "      <td>7.6</td>\n",
              "      <td>11</td>\n",
              "    </tr>\n",
              "    <tr>\n",
              "      <th>15</th>\n",
              "      <td>Staten Island</td>\n",
              "      <td>Port Ivory</td>\n",
              "      <td>4b2add1ff964a52017b124e3</td>\n",
              "      <td>Comic Book Jones</td>\n",
              "      <td>22</td>\n",
              "      <td>7.6</td>\n",
              "      <td>11</td>\n",
              "    </tr>\n",
              "    <tr>\n",
              "      <th>16</th>\n",
              "      <td>Brooklyn</td>\n",
              "      <td>Wingate</td>\n",
              "      <td>586892266f20d12f27a34728</td>\n",
              "      <td>Anyone Comics</td>\n",
              "      <td>15</td>\n",
              "      <td>8.6</td>\n",
              "      <td>3</td>\n",
              "    </tr>\n",
              "    <tr>\n",
              "      <th>17</th>\n",
              "      <td>Staten Island</td>\n",
              "      <td>Graniteville</td>\n",
              "      <td>4b2add1ff964a52017b124e3</td>\n",
              "      <td>Comic Book Jones</td>\n",
              "      <td>22</td>\n",
              "      <td>7.6</td>\n",
              "      <td>11</td>\n",
              "    </tr>\n",
              "    <tr>\n",
              "      <th>18</th>\n",
              "      <td>Staten Island</td>\n",
              "      <td>Arlington</td>\n",
              "      <td>4b2add1ff964a52017b124e3</td>\n",
              "      <td>Comic Book Jones</td>\n",
              "      <td>22</td>\n",
              "      <td>7.6</td>\n",
              "      <td>11</td>\n",
              "    </tr>\n",
              "    <tr>\n",
              "      <th>19</th>\n",
              "      <td>Staten Island</td>\n",
              "      <td>Bulls Head</td>\n",
              "      <td>4b2add1ff964a52017b124e3</td>\n",
              "      <td>Comic Book Jones</td>\n",
              "      <td>22</td>\n",
              "      <td>7.6</td>\n",
              "      <td>11</td>\n",
              "    </tr>\n",
              "    <tr>\n",
              "      <th>20</th>\n",
              "      <td>Manhattan</td>\n",
              "      <td>Midtown South</td>\n",
              "      <td>40d38200f964a52041011fe3</td>\n",
              "      <td>Midtown Comics</td>\n",
              "      <td>777</td>\n",
              "      <td>9.1</td>\n",
              "      <td>139</td>\n",
              "    </tr>\n",
              "    <tr>\n",
              "      <th>21</th>\n",
              "      <td>Staten Island</td>\n",
              "      <td>Elm Park</td>\n",
              "      <td>4b2add1ff964a52017b124e3</td>\n",
              "      <td>Comic Book Jones</td>\n",
              "      <td>22</td>\n",
              "      <td>7.6</td>\n",
              "      <td>11</td>\n",
              "    </tr>\n",
              "    <tr>\n",
              "      <th>22</th>\n",
              "      <td>Brooklyn</td>\n",
              "      <td>Weeksville</td>\n",
              "      <td>586892266f20d12f27a34728</td>\n",
              "      <td>Anyone Comics</td>\n",
              "      <td>15</td>\n",
              "      <td>8.6</td>\n",
              "      <td>3</td>\n",
              "    </tr>\n",
              "    <tr>\n",
              "      <th>23</th>\n",
              "      <td>Manhattan</td>\n",
              "      <td>Hudson Yards</td>\n",
              "      <td>40d38200f964a52041011fe3</td>\n",
              "      <td>Midtown Comics</td>\n",
              "      <td>777</td>\n",
              "      <td>9.1</td>\n",
              "      <td>139</td>\n",
              "    </tr>\n",
              "  </tbody>\n",
              "</table>\n",
              "</div>"
            ],
            "text/plain": [
              "          Borough               Neighborhood                        ID  \\\n",
              "0        Brooklyn              Crown Heights  586892266f20d12f27a34728   \n",
              "1        Brooklyn               Williamsburg  49d0381bf964a520135b1fe3   \n",
              "2        Brooklyn                    Gowanus  4ae89691f964a520a1b021e3   \n",
              "3        Brooklyn                  Flatlands  4a6d9e12f964a520cad21fe3   \n",
              "4        Brooklyn  Prospect Lefferts Gardens  586892266f20d12f27a34728   \n",
              "5        Brooklyn          East Williamsburg  49d0381bf964a520135b1fe3   \n",
              "6        Brooklyn                 North Side  49d0381bf964a520135b1fe3   \n",
              "7        Brooklyn                 South Side  49d0381bf964a520135b1fe3   \n",
              "8       Manhattan                    Clinton  40d38200f964a52041011fe3   \n",
              "9       Manhattan                    Midtown  40d38200f964a52041011fe3   \n",
              "10      Manhattan                Murray Hill  40d38200f964a52041011fe3   \n",
              "11         Queens               Forest Hills  4b5742a2f964a520e52d28e3   \n",
              "12         Queens                   Glendale  4b5742a2f964a520e52d28e3   \n",
              "13         Queens       Forest Hills Gardens  4b5742a2f964a520e52d28e3   \n",
              "14  Staten Island           Mariner's Harbor  4b2add1ff964a52017b124e3   \n",
              "15  Staten Island                 Port Ivory  4b2add1ff964a52017b124e3   \n",
              "16       Brooklyn                    Wingate  586892266f20d12f27a34728   \n",
              "17  Staten Island               Graniteville  4b2add1ff964a52017b124e3   \n",
              "18  Staten Island                  Arlington  4b2add1ff964a52017b124e3   \n",
              "19  Staten Island                 Bulls Head  4b2add1ff964a52017b124e3   \n",
              "20      Manhattan              Midtown South  40d38200f964a52041011fe3   \n",
              "21  Staten Island                   Elm Park  4b2add1ff964a52017b124e3   \n",
              "22       Brooklyn                 Weeksville  586892266f20d12f27a34728   \n",
              "23      Manhattan               Hudson Yards  40d38200f964a52041011fe3   \n",
              "\n",
              "                  Name  Likes  Rating  Tips  \n",
              "0        Anyone Comics     15     8.6     3  \n",
              "1        Desert Island     78     9.4    15  \n",
              "2        Galaxy Comics     45     8.7    11  \n",
              "3   Bulletproof Comics     16     7.2     6  \n",
              "4        Anyone Comics     15     8.6     3  \n",
              "5        Desert Island     78     9.4    15  \n",
              "6        Desert Island     78     9.4    15  \n",
              "7        Desert Island     78     9.4    15  \n",
              "8       Midtown Comics    777     9.1   139  \n",
              "9       Midtown Comics    777     9.1   139  \n",
              "10      Midtown Comics    777     9.1   139  \n",
              "11  Royal Collectibles     38     8.9    10  \n",
              "12  Royal Collectibles     38     8.9    10  \n",
              "13  Royal Collectibles     38     8.9    10  \n",
              "14    Comic Book Jones     22     7.6    11  \n",
              "15    Comic Book Jones     22     7.6    11  \n",
              "16       Anyone Comics     15     8.6     3  \n",
              "17    Comic Book Jones     22     7.6    11  \n",
              "18    Comic Book Jones     22     7.6    11  \n",
              "19    Comic Book Jones     22     7.6    11  \n",
              "20      Midtown Comics    777     9.1   139  \n",
              "21    Comic Book Jones     22     7.6    11  \n",
              "22       Anyone Comics     15     8.6     3  \n",
              "23      Midtown Comics    777     9.1   139  "
            ]
          },
          "metadata": {
            "tags": []
          },
          "execution_count": 22
        }
      ]
    },
    {
      "cell_type": "code",
      "metadata": {
        "colab": {
          "base_uri": "https://localhost:8080/"
        },
        "id": "yrE9j27SFPM3",
        "outputId": "e4f3af32-5f7f-4613-eb26-d341fef8cd63"
      },
      "source": [
        "comic_shop_stats_ny_csv.shape"
      ],
      "execution_count": 23,
      "outputs": [
        {
          "output_type": "execute_result",
          "data": {
            "text/plain": [
              "(24, 7)"
            ]
          },
          "metadata": {
            "tags": []
          },
          "execution_count": 23
        }
      ]
    },
    {
      "cell_type": "markdown",
      "metadata": {
        "id": "1QvcOB8gQLSw"
      },
      "source": [
        "**We can see that values like Likes, Tips are string values. We need to convert them into float values for further analysis.**"
      ]
    },
    {
      "cell_type": "code",
      "metadata": {
        "colab": {
          "base_uri": "https://localhost:8080/"
        },
        "id": "9Y45X4jmFftL",
        "outputId": "273931f8-bde4-489f-f9de-02be3fb8f535"
      },
      "source": [
        "comic_shop_stats_ny.info()"
      ],
      "execution_count": 24,
      "outputs": [
        {
          "output_type": "stream",
          "text": [
            "<class 'pandas.core.frame.DataFrame'>\n",
            "RangeIndex: 24 entries, 0 to 23\n",
            "Data columns (total 7 columns):\n",
            " #   Column        Non-Null Count  Dtype  \n",
            "---  ------        --------------  -----  \n",
            " 0   Borough       24 non-null     object \n",
            " 1   Neighborhood  24 non-null     object \n",
            " 2   ID            24 non-null     object \n",
            " 3   Name          24 non-null     object \n",
            " 4   Likes         24 non-null     object \n",
            " 5   Rating        24 non-null     float64\n",
            " 6   Tips          24 non-null     object \n",
            "dtypes: float64(1), object(6)\n",
            "memory usage: 1.4+ KB\n"
          ],
          "name": "stdout"
        }
      ]
    },
    {
      "cell_type": "code",
      "metadata": {
        "id": "hsYv4ZvhFlox"
      },
      "source": [
        "comic_shop_stats_ny[['Likes','Tips','Rating']]=comic_shop_stats_ny[['Likes','Tips','Rating']].astype('float64')"
      ],
      "execution_count": 25,
      "outputs": []
    },
    {
      "cell_type": "markdown",
      "metadata": {
        "id": "-2VlF-3CRJaf"
      },
      "source": [
        "Likes, Rating, Tips are converted to float and can be used for further analysis."
      ]
    },
    {
      "cell_type": "code",
      "metadata": {
        "colab": {
          "base_uri": "https://localhost:8080/"
        },
        "id": "6KCz37bxGFnr",
        "outputId": "140b5765-5682-4141-c5be-6af8ee0e419b"
      },
      "source": [
        "comic_shop_stats_ny.info()"
      ],
      "execution_count": 26,
      "outputs": [
        {
          "output_type": "stream",
          "text": [
            "<class 'pandas.core.frame.DataFrame'>\n",
            "RangeIndex: 24 entries, 0 to 23\n",
            "Data columns (total 7 columns):\n",
            " #   Column        Non-Null Count  Dtype  \n",
            "---  ------        --------------  -----  \n",
            " 0   Borough       24 non-null     object \n",
            " 1   Neighborhood  24 non-null     object \n",
            " 2   ID            24 non-null     object \n",
            " 3   Name          24 non-null     object \n",
            " 4   Likes         24 non-null     float64\n",
            " 5   Rating        24 non-null     float64\n",
            " 6   Tips          24 non-null     float64\n",
            "dtypes: float64(3), object(4)\n",
            "memory usage: 1.4+ KB\n"
          ],
          "name": "stdout"
        }
      ]
    },
    {
      "cell_type": "code",
      "metadata": {
        "colab": {
          "base_uri": "https://localhost:8080/"
        },
        "id": "m4HlOlx2GgeS",
        "outputId": "31770706-64fd-41de-d3cc-7078fc2fd6f0"
      },
      "source": [
        "# Comic Shop with maximum Likes\r\n",
        "comic_shop_stats_ny.iloc[comic_shop_stats_ny['Likes'].idxmax()]"
      ],
      "execution_count": 27,
      "outputs": [
        {
          "output_type": "execute_result",
          "data": {
            "text/plain": [
              "Borough                        Manhattan\n",
              "Neighborhood                     Clinton\n",
              "ID              40d38200f964a52041011fe3\n",
              "Name                      Midtown Comics\n",
              "Likes                                777\n",
              "Rating                               9.1\n",
              "Tips                                 139\n",
              "Name: 8, dtype: object"
            ]
          },
          "metadata": {
            "tags": []
          },
          "execution_count": 27
        }
      ]
    },
    {
      "cell_type": "code",
      "metadata": {
        "colab": {
          "base_uri": "https://localhost:8080/"
        },
        "id": "qEk9-xxXGv_6",
        "outputId": "3b11c797-1058-4856-85ec-7ce8ea5b54bf"
      },
      "source": [
        "# Comic Shop with maximum Rating\r\n",
        "comic_shop_stats_ny.iloc[comic_shop_stats_ny['Rating'].idxmax()]"
      ],
      "execution_count": 28,
      "outputs": [
        {
          "output_type": "execute_result",
          "data": {
            "text/plain": [
              "Borough                         Brooklyn\n",
              "Neighborhood                Williamsburg\n",
              "ID              49d0381bf964a520135b1fe3\n",
              "Name                       Desert Island\n",
              "Likes                                 78\n",
              "Rating                               9.4\n",
              "Tips                                  15\n",
              "Name: 1, dtype: object"
            ]
          },
          "metadata": {
            "tags": []
          },
          "execution_count": 28
        }
      ]
    },
    {
      "cell_type": "code",
      "metadata": {
        "colab": {
          "base_uri": "https://localhost:8080/"
        },
        "id": "VDjYlVxUG5Jm",
        "outputId": "1161b5e3-7dc2-4905-bf2c-ea78cfe4f277"
      },
      "source": [
        "# Comic Shop with maximum Tips\r\n",
        "comic_shop_stats_ny.iloc[comic_shop_stats_ny['Tips'].idxmax()]"
      ],
      "execution_count": 29,
      "outputs": [
        {
          "output_type": "execute_result",
          "data": {
            "text/plain": [
              "Borough                        Manhattan\n",
              "Neighborhood                     Clinton\n",
              "ID              40d38200f964a52041011fe3\n",
              "Name                      Midtown Comics\n",
              "Likes                                777\n",
              "Rating                               9.1\n",
              "Tips                                 139\n",
              "Name: 8, dtype: object"
            ]
          },
          "metadata": {
            "tags": []
          },
          "execution_count": 29
        }
      ]
    },
    {
      "cell_type": "markdown",
      "metadata": {
        "id": "4reNAKhIXQZ3"
      },
      "source": [
        "**Lets find out average rating of Comic Shop in the particular Neighborhood**"
      ]
    },
    {
      "cell_type": "code",
      "metadata": {
        "id": "uN0GdmYUHFds"
      },
      "source": [
        "ny_neighborhood_stats=comic_shop_stats_ny.groupby('Neighborhood',as_index=False).mean()[['Neighborhood','Rating']]\r\n",
        "ny_neighborhood_stats.columns=['Neighborhood','Average Rating']"
      ],
      "execution_count": 30,
      "outputs": []
    },
    {
      "cell_type": "markdown",
      "metadata": {
        "id": "bvk3k2crXXET"
      },
      "source": [
        "**Let's Sort them according to the Ratings they achieved**"
      ]
    },
    {
      "cell_type": "code",
      "metadata": {
        "colab": {
          "base_uri": "https://localhost:8080/",
          "height": 363
        },
        "id": "fWHgAokXHOZM",
        "outputId": "23838786-c57b-49b1-e5a8-df7451ca7b25"
      },
      "source": [
        "ny_neighborhood_stats.sort_values(['Average Rating'],ascending=False).head(10)"
      ],
      "execution_count": 31,
      "outputs": [
        {
          "output_type": "execute_result",
          "data": {
            "text/html": [
              "<div>\n",
              "<style scoped>\n",
              "    .dataframe tbody tr th:only-of-type {\n",
              "        vertical-align: middle;\n",
              "    }\n",
              "\n",
              "    .dataframe tbody tr th {\n",
              "        vertical-align: top;\n",
              "    }\n",
              "\n",
              "    .dataframe thead th {\n",
              "        text-align: right;\n",
              "    }\n",
              "</style>\n",
              "<table border=\"1\" class=\"dataframe\">\n",
              "  <thead>\n",
              "    <tr style=\"text-align: right;\">\n",
              "      <th></th>\n",
              "      <th>Neighborhood</th>\n",
              "      <th>Average Rating</th>\n",
              "    </tr>\n",
              "  </thead>\n",
              "  <tbody>\n",
              "    <tr>\n",
              "      <th>22</th>\n",
              "      <td>Williamsburg</td>\n",
              "      <td>9.4</td>\n",
              "    </tr>\n",
              "    <tr>\n",
              "      <th>4</th>\n",
              "      <td>East Williamsburg</td>\n",
              "      <td>9.4</td>\n",
              "    </tr>\n",
              "    <tr>\n",
              "      <th>20</th>\n",
              "      <td>South Side</td>\n",
              "      <td>9.4</td>\n",
              "    </tr>\n",
              "    <tr>\n",
              "      <th>17</th>\n",
              "      <td>North Side</td>\n",
              "      <td>9.4</td>\n",
              "    </tr>\n",
              "    <tr>\n",
              "      <th>12</th>\n",
              "      <td>Hudson Yards</td>\n",
              "      <td>9.1</td>\n",
              "    </tr>\n",
              "    <tr>\n",
              "      <th>15</th>\n",
              "      <td>Midtown South</td>\n",
              "      <td>9.1</td>\n",
              "    </tr>\n",
              "    <tr>\n",
              "      <th>2</th>\n",
              "      <td>Clinton</td>\n",
              "      <td>9.1</td>\n",
              "    </tr>\n",
              "    <tr>\n",
              "      <th>16</th>\n",
              "      <td>Murray Hill</td>\n",
              "      <td>9.1</td>\n",
              "    </tr>\n",
              "    <tr>\n",
              "      <th>14</th>\n",
              "      <td>Midtown</td>\n",
              "      <td>9.1</td>\n",
              "    </tr>\n",
              "    <tr>\n",
              "      <th>7</th>\n",
              "      <td>Forest Hills</td>\n",
              "      <td>8.9</td>\n",
              "    </tr>\n",
              "  </tbody>\n",
              "</table>\n",
              "</div>"
            ],
            "text/plain": [
              "         Neighborhood  Average Rating\n",
              "22       Williamsburg             9.4\n",
              "4   East Williamsburg             9.4\n",
              "20         South Side             9.4\n",
              "17         North Side             9.4\n",
              "12       Hudson Yards             9.1\n",
              "15      Midtown South             9.1\n",
              "2             Clinton             9.1\n",
              "16        Murray Hill             9.1\n",
              "14            Midtown             9.1\n",
              "7        Forest Hills             8.9"
            ]
          },
          "metadata": {
            "tags": []
          },
          "execution_count": 31
        }
      ]
    },
    {
      "cell_type": "markdown",
      "metadata": {
        "id": "Hn5boODgXl5_"
      },
      "source": [
        "**Similarly lets do it for Borough**"
      ]
    },
    {
      "cell_type": "code",
      "metadata": {
        "id": "SruYAAosHWN-"
      },
      "source": [
        "ny_borough_stats=comic_shop_stats_ny.groupby('Borough',as_index=False).mean()[['Borough','Rating']]\r\n",
        "ny_borough_stats.columns=['Borough','Average Rating']"
      ],
      "execution_count": 32,
      "outputs": []
    },
    {
      "cell_type": "markdown",
      "metadata": {
        "id": "Ov_YWHfOXlTq"
      },
      "source": [
        "**Sort them**"
      ]
    },
    {
      "cell_type": "code",
      "metadata": {
        "colab": {
          "base_uri": "https://localhost:8080/",
          "height": 175
        },
        "id": "cs1FRMk5HipU",
        "outputId": "f711735b-2531-4c61-866f-e63b77c3fbea"
      },
      "source": [
        "ny_borough_stats.sort_values(['Average Rating'],ascending=False).head()"
      ],
      "execution_count": 33,
      "outputs": [
        {
          "output_type": "execute_result",
          "data": {
            "text/html": [
              "<div>\n",
              "<style scoped>\n",
              "    .dataframe tbody tr th:only-of-type {\n",
              "        vertical-align: middle;\n",
              "    }\n",
              "\n",
              "    .dataframe tbody tr th {\n",
              "        vertical-align: top;\n",
              "    }\n",
              "\n",
              "    .dataframe thead th {\n",
              "        text-align: right;\n",
              "    }\n",
              "</style>\n",
              "<table border=\"1\" class=\"dataframe\">\n",
              "  <thead>\n",
              "    <tr style=\"text-align: right;\">\n",
              "      <th></th>\n",
              "      <th>Borough</th>\n",
              "      <th>Average Rating</th>\n",
              "    </tr>\n",
              "  </thead>\n",
              "  <tbody>\n",
              "    <tr>\n",
              "      <th>1</th>\n",
              "      <td>Manhattan</td>\n",
              "      <td>9.10</td>\n",
              "    </tr>\n",
              "    <tr>\n",
              "      <th>2</th>\n",
              "      <td>Queens</td>\n",
              "      <td>8.90</td>\n",
              "    </tr>\n",
              "    <tr>\n",
              "      <th>0</th>\n",
              "      <td>Brooklyn</td>\n",
              "      <td>8.79</td>\n",
              "    </tr>\n",
              "    <tr>\n",
              "      <th>3</th>\n",
              "      <td>Staten Island</td>\n",
              "      <td>7.60</td>\n",
              "    </tr>\n",
              "  </tbody>\n",
              "</table>\n",
              "</div>"
            ],
            "text/plain": [
              "         Borough  Average Rating\n",
              "1      Manhattan            9.10\n",
              "2         Queens            8.90\n",
              "0       Brooklyn            8.79\n",
              "3  Staten Island            7.60"
            ]
          },
          "metadata": {
            "tags": []
          },
          "execution_count": 33
        }
      ]
    },
    {
      "cell_type": "markdown",
      "metadata": {
        "id": "6jgLLb9lYJXw"
      },
      "source": [
        "**Lets visualize**"
      ]
    },
    {
      "cell_type": "code",
      "metadata": {
        "colab": {
          "base_uri": "https://localhost:8080/",
          "height": 564
        },
        "id": "iiu70jG8Hlw4",
        "outputId": "7f2be238-30a4-46e0-825b-78be2c8556de"
      },
      "source": [
        "plt.figure(figsize=(9,5), dpi = 100)\r\n",
        "# title\r\n",
        "plt.title('Average rating of Comic Shop in each  NYC Borough')\r\n",
        "#On x-axis\r\n",
        "plt.xlabel('Borough', fontsize = 15)\r\n",
        "#On y-axis\r\n",
        "plt.ylabel('Average Rating', fontsize=15)\r\n",
        "#giving a bar plot\r\n",
        "comic_shop_stats_ny.groupby('Borough').mean()['Rating'].plot(kind='bar')\r\n",
        "#legend\r\n",
        "plt.legend()\r\n",
        "#displays the plot\r\n",
        "plt.show()"
      ],
      "execution_count": 34,
      "outputs": [
        {
          "output_type": "display_data",
          "data": {
            "image/png": "[encoded data removed]",
            "text/plain": [
              "<Figure size 900x500 with 1 Axes>"
            ]
          },
          "metadata": {
            "tags": []
          }
        }
      ]
    }
  ]
}