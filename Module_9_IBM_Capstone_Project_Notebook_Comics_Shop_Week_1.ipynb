{
  "nbformat": 4,
  "nbformat_minor": 0,
  "metadata": {
    "colab": {
      "name": "Module-9-IBM-Capstone-Project-Notebook - Comics Shop - Week 1.ipynb",
      "provenance": [],
      "authorship_tag": "ABX9TyMLEMKPbOgEi9LKqjgjwhw2",
      "include_colab_link": true
    },
    "kernelspec": {
      "name": "python3",
      "display_name": "Python 3"
    }
  },
  "cells": [
    {
      "cell_type": "markdown",
      "metadata": {
        "id": "view-in-github",
        "colab_type": "text"
      },
      "source": [
        "<a href=\"https://colab.research.google.com/github/agmorcillo/Coursera_Capstone/blob/main/Module_9_IBM_Capstone_Project_Notebook_Comics_Shop_Week_1.ipynb\" target=\"_parent\"><img src=\"https://colab.research.google.com/assets/colab-badge.svg\" alt=\"Open In Colab\"/></a>"
      ]
    },
    {
      "cell_type": "markdown",
      "metadata": {
        "id": "pmuqRamVXCx_"
      },
      "source": [
        "# **Module-9-IBM-Capstone-Project-Notebook** - **Comics Shop**"
      ]
    },
    {
      "cell_type": "markdown",
      "metadata": {
        "id": "MhKFIyC3VSI4"
      },
      "source": [
        "\r\n",
        "\r\n",
        "Comic book stores sell comic books and related paraphernalia, such as action figures, models, posters, and more. These comic book shops differ from larger retail bookstores in that they offer a wider and more exclusive selection of comic books and feature rare collectibles. Comic book stores are usually defined by their community business style. Customers browse, engage, and lounge about at comic book stores always hoping to find that rare item that completes a collection.\r\n",
        "\r\n",
        "There are about 2,000 direct market comics shops in the U.S.\r\n",
        "\r\n",
        "Comics and graphic novel sales had their best year ever in 2019, according to the annual report just released by ICv2 and Comichron, with sales topping $1.21 billion [Source](https://icv2.com/articles/markets/view/46094/comics-graphic-novel-sales-top-1-2-billion-2019).\r\n",
        "\r\n",
        "Overall sales were up 11% from 2018 in North America."
      ]
    },
    {
      "cell_type": "markdown",
      "metadata": {
        "id": "5j8qJSSfYIJT"
      },
      "source": [
        "\r\n",
        "\r\n",
        "---\r\n",
        "\r\n"
      ]
    },
    {
      "cell_type": "markdown",
      "metadata": {
        "id": "4s4NHxpAYNtk"
      },
      "source": [
        "# **Business Problem**"
      ]
    },
    {
      "cell_type": "markdown",
      "metadata": {
        "id": "KKU0h3qLaILR"
      },
      "source": [
        "Being successful in your home market does not guarantee that you will have it in other markets, since the culture and habits of potential clients are unknown, if to that we add ignorance in bureaucratic procedures, direct and indirect competitors are enough factors to end this adventure in disaster.\r\n",
        "\r\n",
        "The level of stores already established and with a reputation is high, the business model even leaving handling margins of 30 or 40% on cost price is not to become rich.\r\n",
        "\r\n",
        "Having a decent selection of inventory may require an investment of 10,000 USD to 25,000 USD to get started. [Source](https://howtostartanllc.com/business-ideas/comic-book)\r\n",
        "\r\n",
        "My client is a Spanish businessman who wants to open a comic shop in New York to later expand throughout the rest of the United States and he needs to know which is the best location and which is his competition.\r\n",
        "\r\n"
      ]
    },
    {
      "cell_type": "markdown",
      "metadata": {
        "id": "25s9bshJd__C"
      },
      "source": [
        "### **Problem Statement**\r\n",
        "\r\n",
        "To locate and recommend to the client which neighbourhood in New York City will be best choice to start a Comic Shop.\r\n"
      ]
    },
    {
      "cell_type": "markdown",
      "metadata": {
        "id": "6nsRUI7oeP70"
      },
      "source": [
        "Before opening a new Comic Shop in NYC, I will provide data and insight to:"
      ]
    },
    {
      "cell_type": "markdown",
      "metadata": {
        "id": "04JZp-HfV8sl"
      },
      "source": [
        "### **Data Section:**"
      ]
    },
    {
      "cell_type": "markdown",
      "metadata": {
        "id": "SFMwdaieemph"
      },
      "source": [
        "***NYC Population & Demographic characteristics***"
      ]
    },
    {
      "cell_type": "markdown",
      "metadata": {
        "id": "xAQbclsVUUr9"
      },
      "source": [
        "Data source:https://en.wikipedia.org/wiki/New_York_City ; https://en.wikipedia.org/wiki/Demographics_of_New_York_City. Web scraping techniques was used to get NYC's population density and demographics data from Wikipedia. "
      ]
    },
    {
      "cell_type": "markdown",
      "metadata": {
        "id": "kYwPHbS9ea9N"
      },
      "source": [
        "\r\n",
        "***Who are the competitors in that location?***\r\n",
        "\r\n",
        "Data source:https://cocl.us/new_york_dataset and Foursquare API. These dataset was used to explore various neighbourhoods and each Comic Shop venues in the neighbourhood."
      ]
    }
  ]
}