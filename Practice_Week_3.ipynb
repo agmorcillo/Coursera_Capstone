{
  "nbformat": 4,
  "nbformat_minor": 0,
  "metadata": {
    "colab": {
      "name": "Practice Week 3.ipynb",
      "provenance": [],
      "collapsed_sections": [],
      "toc_visible": true,
      "authorship_tag": "ABX9TyOODFt2+jQzdGDtgQ+wJFYv",
      "include_colab_link": true
    },
    "kernelspec": {
      "name": "python3",
      "display_name": "Python 3"
    }
  },
  "cells": [
    {
      "cell_type": "markdown",
      "metadata": {
        "id": "view-in-github",
        "colab_type": "text"
      },
      "source": [
        "<a href=\"https://colab.research.google.com/github/agmorcillo/Coursera_Capstone/blob/main/Practice_Week_3.ipynb\" target=\"_parent\"><img src=\"https://colab.research.google.com/assets/colab-badge.svg\" alt=\"Open In Colab\"/></a>"
      ]
    },
    {
      "cell_type": "markdown",
      "metadata": {
        "id": "VhN2c9xkE17h"
      },
      "source": [
        "# **Practice Week 3 - Part 1**"
      ]
    },
    {
      "cell_type": "markdown",
      "metadata": {
        "id": "Zrs9TKslB7Rk"
      },
      "source": [
        "### Loading libraries - Part 1"
      ]
    },
    {
      "cell_type": "code",
      "metadata": {
        "id": "dwFa_fBLABo8"
      },
      "source": [
        "import pandas as pd\r\n",
        "from bs4 import BeautifulSoup\r\n",
        "import requests\r\n",
        "import numpy as np"
      ],
      "execution_count": 1,
      "outputs": []
    },
    {
      "cell_type": "markdown",
      "metadata": {
        "id": "WNr_S6IZB5B6"
      },
      "source": [
        "### Scrapping the url using BeautifulSoup"
      ]
    },
    {
      "cell_type": "code",
      "metadata": {
        "colab": {
          "base_uri": "https://localhost:8080/",
          "height": 206
        },
        "id": "-uIGExbyAR5t",
        "outputId": "aa3e6e41-7520-4f27-9ff9-a925fc9f2793"
      },
      "source": [
        "# fetching Wikipedia page data using requests\r\n",
        "url = requests.get(\"https://en.wikipedia.org/wiki/List_of_postal_codes_of_Canada:_M\").text\r\n",
        "soup = BeautifulSoup(url, 'lxml')\r\n",
        "\r\n",
        "# looking tables on the Wikipedia page\r\n",
        "table = soup.find(\"table\")\r\n",
        "table_rows = table.tbody.find_all(\"tr\")\r\n",
        "\r\n",
        "\r\n",
        "\r\n",
        "clean = []\r\n",
        "for tr in table_rows:\r\n",
        "    td = tr.find_all(\"td\")\r\n",
        "    row = [tr.text for tr in td]\r\n",
        "    \r\n",
        "    # Only process the cells that have an assigned borough. Ignore cells with a borough that is Not assigned.\r\n",
        "    if row != [] and row[1] != \"Not assigned\\n\":\r\n",
        "        # If a cell has a borough but a \"Not assigned\" neighbourhood, then the neighborhood will be the same as the borough.\r\n",
        "        if \"Not assigned\\n\" in row[2]: \r\n",
        "            row[2] = row[1]\r\n",
        "        clean.append(row)\r\n",
        "\r\n",
        "# Dataframe with the main columns\r\n",
        "df = pd.DataFrame(clean, columns = [\"PostalCode\", \"Borough\", \"Neighbourhood\"])\r\n",
        "\r\n",
        "#Cleaning \"/n\" from de columns Neighbourhood, Borough and PostalCode\r\n",
        "\r\n",
        "df[\"Neighbourhood\"] = df[\"Neighbourhood\"].str.replace(\"\\n\",\"\")\r\n",
        "df[\"Borough\"] = df[\"Borough\"].str.replace(\"\\n\",\"\")\r\n",
        "df[\"PostalCode\"] = df[\"PostalCode\"].str.replace(\"\\n\",\"\")\r\n",
        "\r\n",
        "df.head()"
      ],
      "execution_count": 2,
      "outputs": [
        {
          "output_type": "execute_result",
          "data": {
            "text/html": [
              "<div>\n",
              "<style scoped>\n",
              "    .dataframe tbody tr th:only-of-type {\n",
              "        vertical-align: middle;\n",
              "    }\n",
              "\n",
              "    .dataframe tbody tr th {\n",
              "        vertical-align: top;\n",
              "    }\n",
              "\n",
              "    .dataframe thead th {\n",
              "        text-align: right;\n",
              "    }\n",
              "</style>\n",
              "<table border=\"1\" class=\"dataframe\">\n",
              "  <thead>\n",
              "    <tr style=\"text-align: right;\">\n",
              "      <th></th>\n",
              "      <th>PostalCode</th>\n",
              "      <th>Borough</th>\n",
              "      <th>Neighbourhood</th>\n",
              "    </tr>\n",
              "  </thead>\n",
              "  <tbody>\n",
              "    <tr>\n",
              "      <th>0</th>\n",
              "      <td>M3A</td>\n",
              "      <td>North York</td>\n",
              "      <td>Parkwoods</td>\n",
              "    </tr>\n",
              "    <tr>\n",
              "      <th>1</th>\n",
              "      <td>M4A</td>\n",
              "      <td>North York</td>\n",
              "      <td>Victoria Village</td>\n",
              "    </tr>\n",
              "    <tr>\n",
              "      <th>2</th>\n",
              "      <td>M5A</td>\n",
              "      <td>Downtown Toronto</td>\n",
              "      <td>Regent Park, Harbourfront</td>\n",
              "    </tr>\n",
              "    <tr>\n",
              "      <th>3</th>\n",
              "      <td>M6A</td>\n",
              "      <td>North York</td>\n",
              "      <td>Lawrence Manor, Lawrence Heights</td>\n",
              "    </tr>\n",
              "    <tr>\n",
              "      <th>4</th>\n",
              "      <td>M7A</td>\n",
              "      <td>Downtown Toronto</td>\n",
              "      <td>Queen's Park, Ontario Provincial Government</td>\n",
              "    </tr>\n",
              "  </tbody>\n",
              "</table>\n",
              "</div>"
            ],
            "text/plain": [
              "  PostalCode           Borough                                Neighbourhood\n",
              "0        M3A        North York                                    Parkwoods\n",
              "1        M4A        North York                             Victoria Village\n",
              "2        M5A  Downtown Toronto                    Regent Park, Harbourfront\n",
              "3        M6A        North York             Lawrence Manor, Lawrence Heights\n",
              "4        M7A  Downtown Toronto  Queen's Park, Ontario Provincial Government"
            ]
          },
          "metadata": {
            "tags": []
          },
          "execution_count": 2
        }
      ]
    },
    {
      "cell_type": "markdown",
      "metadata": {
        "id": "_NRtV7InBWkT"
      },
      "source": [
        "**Group all neighborhoods using postal code**"
      ]
    },
    {
      "cell_type": "code",
      "metadata": {
        "colab": {
          "base_uri": "https://localhost:8080/",
          "height": 206
        },
        "id": "ysWYuuFACq8a",
        "outputId": "012d25bf-e3d5-4b64-9a0c-b0423328e842"
      },
      "source": [
        "df = df.groupby([\"PostalCode\", \"Borough\"])[\"Neighbourhood\"].apply(\", \".join).reset_index()\r\n",
        "df.head()"
      ],
      "execution_count": 3,
      "outputs": [
        {
          "output_type": "execute_result",
          "data": {
            "text/html": [
              "<div>\n",
              "<style scoped>\n",
              "    .dataframe tbody tr th:only-of-type {\n",
              "        vertical-align: middle;\n",
              "    }\n",
              "\n",
              "    .dataframe tbody tr th {\n",
              "        vertical-align: top;\n",
              "    }\n",
              "\n",
              "    .dataframe thead th {\n",
              "        text-align: right;\n",
              "    }\n",
              "</style>\n",
              "<table border=\"1\" class=\"dataframe\">\n",
              "  <thead>\n",
              "    <tr style=\"text-align: right;\">\n",
              "      <th></th>\n",
              "      <th>PostalCode</th>\n",
              "      <th>Borough</th>\n",
              "      <th>Neighbourhood</th>\n",
              "    </tr>\n",
              "  </thead>\n",
              "  <tbody>\n",
              "    <tr>\n",
              "      <th>0</th>\n",
              "      <td>M1B</td>\n",
              "      <td>Scarborough</td>\n",
              "      <td>Malvern, Rouge</td>\n",
              "    </tr>\n",
              "    <tr>\n",
              "      <th>1</th>\n",
              "      <td>M1C</td>\n",
              "      <td>Scarborough</td>\n",
              "      <td>Rouge Hill, Port Union, Highland Creek</td>\n",
              "    </tr>\n",
              "    <tr>\n",
              "      <th>2</th>\n",
              "      <td>M1E</td>\n",
              "      <td>Scarborough</td>\n",
              "      <td>Guildwood, Morningside, West Hill</td>\n",
              "    </tr>\n",
              "    <tr>\n",
              "      <th>3</th>\n",
              "      <td>M1G</td>\n",
              "      <td>Scarborough</td>\n",
              "      <td>Woburn</td>\n",
              "    </tr>\n",
              "    <tr>\n",
              "      <th>4</th>\n",
              "      <td>M1H</td>\n",
              "      <td>Scarborough</td>\n",
              "      <td>Cedarbrae</td>\n",
              "    </tr>\n",
              "  </tbody>\n",
              "</table>\n",
              "</div>"
            ],
            "text/plain": [
              "  PostalCode      Borough                           Neighbourhood\n",
              "0        M1B  Scarborough                          Malvern, Rouge\n",
              "1        M1C  Scarborough  Rouge Hill, Port Union, Highland Creek\n",
              "2        M1E  Scarborough       Guildwood, Morningside, West Hill\n",
              "3        M1G  Scarborough                                  Woburn\n",
              "4        M1H  Scarborough                               Cedarbrae"
            ]
          },
          "metadata": {
            "tags": []
          },
          "execution_count": 3
        }
      ]
    },
    {
      "cell_type": "markdown",
      "metadata": {
        "id": "iXAKg0kvHBDE"
      },
      "source": [
        "## **Question 1 Final Answer:**"
      ]
    },
    {
      "cell_type": "code",
      "metadata": {
        "colab": {
          "base_uri": "https://localhost:8080/"
        },
        "id": "Ry7ly3obC6Ca",
        "outputId": "63addf18-4457-4d6e-e1f6-25f548e5b005"
      },
      "source": [
        "print(\"Shape: rows and columns\", df.shape)"
      ],
      "execution_count": 4,
      "outputs": [
        {
          "output_type": "stream",
          "text": [
            "Shape: rows and columns (103, 3)\n"
          ],
          "name": "stdout"
        }
      ]
    },
    {
      "cell_type": "markdown",
      "metadata": {
        "id": "gdCIphujEnJo"
      },
      "source": [
        "# **Practice Week 3 - Part 2**"
      ]
    },
    {
      "cell_type": "markdown",
      "metadata": {
        "id": "6VkHeEqHG49G"
      },
      "source": [
        "Loading libraries - Part 2"
      ]
    },
    {
      "cell_type": "code",
      "metadata": {
        "id": "xPxjAU3cEdTf"
      },
      "source": [
        "from geopy.geocoders import Nominatim # convert an address into latitude and longitude values"
      ],
      "execution_count": 5,
      "outputs": []
    },
    {
      "cell_type": "markdown",
      "metadata": {
        "id": "GpVuX1SQIlcu"
      },
      "source": [
        "**Geocoder package:**"
      ]
    },
    {
      "cell_type": "code",
      "metadata": {
        "colab": {
          "base_uri": "https://localhost:8080/",
          "height": 206
        },
        "id": "W292KsPYFrlO",
        "outputId": "c308cfc0-c150-461f-e728-892203404786"
      },
      "source": [
        "df_geo_coor = pd.read_csv(\"sample_data/Geospatial_Coordinates.csv\")\r\n",
        "df_geo_coor.head()"
      ],
      "execution_count": 6,
      "outputs": [
        {
          "output_type": "execute_result",
          "data": {
            "text/html": [
              "<div>\n",
              "<style scoped>\n",
              "    .dataframe tbody tr th:only-of-type {\n",
              "        vertical-align: middle;\n",
              "    }\n",
              "\n",
              "    .dataframe tbody tr th {\n",
              "        vertical-align: top;\n",
              "    }\n",
              "\n",
              "    .dataframe thead th {\n",
              "        text-align: right;\n",
              "    }\n",
              "</style>\n",
              "<table border=\"1\" class=\"dataframe\">\n",
              "  <thead>\n",
              "    <tr style=\"text-align: right;\">\n",
              "      <th></th>\n",
              "      <th>Postal Code</th>\n",
              "      <th>Latitude</th>\n",
              "      <th>Longitude</th>\n",
              "    </tr>\n",
              "  </thead>\n",
              "  <tbody>\n",
              "    <tr>\n",
              "      <th>0</th>\n",
              "      <td>M1B</td>\n",
              "      <td>43.806686</td>\n",
              "      <td>-79.194353</td>\n",
              "    </tr>\n",
              "    <tr>\n",
              "      <th>1</th>\n",
              "      <td>M1C</td>\n",
              "      <td>43.784535</td>\n",
              "      <td>-79.160497</td>\n",
              "    </tr>\n",
              "    <tr>\n",
              "      <th>2</th>\n",
              "      <td>M1E</td>\n",
              "      <td>43.763573</td>\n",
              "      <td>-79.188711</td>\n",
              "    </tr>\n",
              "    <tr>\n",
              "      <th>3</th>\n",
              "      <td>M1G</td>\n",
              "      <td>43.770992</td>\n",
              "      <td>-79.216917</td>\n",
              "    </tr>\n",
              "    <tr>\n",
              "      <th>4</th>\n",
              "      <td>M1H</td>\n",
              "      <td>43.773136</td>\n",
              "      <td>-79.239476</td>\n",
              "    </tr>\n",
              "  </tbody>\n",
              "</table>\n",
              "</div>"
            ],
            "text/plain": [
              "  Postal Code   Latitude  Longitude\n",
              "0         M1B  43.806686 -79.194353\n",
              "1         M1C  43.784535 -79.160497\n",
              "2         M1E  43.763573 -79.188711\n",
              "3         M1G  43.770992 -79.216917\n",
              "4         M1H  43.773136 -79.239476"
            ]
          },
          "metadata": {
            "tags": []
          },
          "execution_count": 6
        }
      ]
    },
    {
      "cell_type": "code",
      "metadata": {
        "colab": {
          "base_uri": "https://localhost:8080/",
          "height": 206
        },
        "id": "0Gye12kZKc0U",
        "outputId": "d0d36293-d5f0-4085-9a7f-b6137cbbe4cd"
      },
      "source": [
        "# Merge Latitude and Longitude using PostalCode\r\n",
        "df_toronto = pd.merge(df, df_geo_coor, how='left', left_on = 'PostalCode', right_on = 'Postal Code')\r\n",
        "\r\n",
        "# delete the PostalCode column\r\n",
        "df_toronto.drop(\"Postal Code\", axis=1, inplace=True)\r\n",
        "df_toronto.head()"
      ],
      "execution_count": 7,
      "outputs": [
        {
          "output_type": "execute_result",
          "data": {
            "text/html": [
              "<div>\n",
              "<style scoped>\n",
              "    .dataframe tbody tr th:only-of-type {\n",
              "        vertical-align: middle;\n",
              "    }\n",
              "\n",
              "    .dataframe tbody tr th {\n",
              "        vertical-align: top;\n",
              "    }\n",
              "\n",
              "    .dataframe thead th {\n",
              "        text-align: right;\n",
              "    }\n",
              "</style>\n",
              "<table border=\"1\" class=\"dataframe\">\n",
              "  <thead>\n",
              "    <tr style=\"text-align: right;\">\n",
              "      <th></th>\n",
              "      <th>PostalCode</th>\n",
              "      <th>Borough</th>\n",
              "      <th>Neighbourhood</th>\n",
              "      <th>Latitude</th>\n",
              "      <th>Longitude</th>\n",
              "    </tr>\n",
              "  </thead>\n",
              "  <tbody>\n",
              "    <tr>\n",
              "      <th>0</th>\n",
              "      <td>M1B</td>\n",
              "      <td>Scarborough</td>\n",
              "      <td>Malvern, Rouge</td>\n",
              "      <td>43.806686</td>\n",
              "      <td>-79.194353</td>\n",
              "    </tr>\n",
              "    <tr>\n",
              "      <th>1</th>\n",
              "      <td>M1C</td>\n",
              "      <td>Scarborough</td>\n",
              "      <td>Rouge Hill, Port Union, Highland Creek</td>\n",
              "      <td>43.784535</td>\n",
              "      <td>-79.160497</td>\n",
              "    </tr>\n",
              "    <tr>\n",
              "      <th>2</th>\n",
              "      <td>M1E</td>\n",
              "      <td>Scarborough</td>\n",
              "      <td>Guildwood, Morningside, West Hill</td>\n",
              "      <td>43.763573</td>\n",
              "      <td>-79.188711</td>\n",
              "    </tr>\n",
              "    <tr>\n",
              "      <th>3</th>\n",
              "      <td>M1G</td>\n",
              "      <td>Scarborough</td>\n",
              "      <td>Woburn</td>\n",
              "      <td>43.770992</td>\n",
              "      <td>-79.216917</td>\n",
              "    </tr>\n",
              "    <tr>\n",
              "      <th>4</th>\n",
              "      <td>M1H</td>\n",
              "      <td>Scarborough</td>\n",
              "      <td>Cedarbrae</td>\n",
              "      <td>43.773136</td>\n",
              "      <td>-79.239476</td>\n",
              "    </tr>\n",
              "  </tbody>\n",
              "</table>\n",
              "</div>"
            ],
            "text/plain": [
              "  PostalCode      Borough  ...   Latitude  Longitude\n",
              "0        M1B  Scarborough  ...  43.806686 -79.194353\n",
              "1        M1C  Scarborough  ...  43.784535 -79.160497\n",
              "2        M1E  Scarborough  ...  43.763573 -79.188711\n",
              "3        M1G  Scarborough  ...  43.770992 -79.216917\n",
              "4        M1H  Scarborough  ...  43.773136 -79.239476\n",
              "\n",
              "[5 rows x 5 columns]"
            ]
          },
          "metadata": {
            "tags": []
          },
          "execution_count": 7
        }
      ]
    },
    {
      "cell_type": "markdown",
      "metadata": {
        "id": "zshAdh_QL9g5"
      },
      "source": [
        "**How many neighbourhoods in each borough**"
      ]
    },
    {
      "cell_type": "code",
      "metadata": {
        "colab": {
          "base_uri": "https://localhost:8080/"
        },
        "id": "mC0t4sztL0Nn",
        "outputId": "af0b0290-2f8d-4b2b-d165-3c22e0071e0e"
      },
      "source": [
        "df_toronto.groupby('Borough').count()['Neighbourhood']"
      ],
      "execution_count": 8,
      "outputs": [
        {
          "output_type": "execute_result",
          "data": {
            "text/plain": [
              "Borough\n",
              "Central Toronto      9\n",
              "Downtown Toronto    19\n",
              "East Toronto         5\n",
              "East York            5\n",
              "Etobicoke           12\n",
              "Mississauga          1\n",
              "North York          24\n",
              "Scarborough         17\n",
              "West Toronto         6\n",
              "York                 5\n",
              "Name: Neighbourhood, dtype: int64"
            ]
          },
          "metadata": {
            "tags": []
          },
          "execution_count": 8
        }
      ]
    },
    {
      "cell_type": "markdown",
      "metadata": {
        "id": "PXthjao8PPmg"
      },
      "source": [
        "**Obtain the coordinates from the dataset itself, just averaging Latitude/Longitude**"
      ]
    },
    {
      "cell_type": "code",
      "metadata": {
        "colab": {
          "base_uri": "https://localhost:8080/"
        },
        "id": "ue_vgs84PMBI",
        "outputId": "455e9756-e322-429a-96a2-99b63e4b176f"
      },
      "source": [
        "lat_toronto = df_toronto['Latitude'].mean()\r\n",
        "lon_toronto = df_toronto['Longitude'].mean()\r\n",
        "print('The geographical coordinates of Toronto are {}, {}'.format(lat_toronto, lon_toronto))"
      ],
      "execution_count": 9,
      "outputs": [
        {
          "output_type": "stream",
          "text": [
            "The geographical coordinates of Toronto are 43.70460773398059, -79.39715291165048\n"
          ],
          "name": "stdout"
        }
      ]
    },
    {
      "cell_type": "markdown",
      "metadata": {
        "id": "daQCVTQhLXqi"
      },
      "source": [
        "# **Practice Week 3 - Part 3**"
      ]
    },
    {
      "cell_type": "markdown",
      "metadata": {
        "id": "39tRrRWmMZvG"
      },
      "source": [
        "## Loading libraries - Part 3"
      ]
    },
    {
      "cell_type": "code",
      "metadata": {
        "id": "hgRSlAVqMI1b"
      },
      "source": [
        "from pandas.io.json import json_normalize  # tranform JSON file into a pandas dataframe\r\n",
        "import folium # map rendering library\r\n",
        "\r\n",
        "# import k-means from clustering stage\r\n",
        "from sklearn.cluster import KMeans\r\n",
        "\r\n",
        "# Matplotlib and associated plotting modules\r\n",
        "import matplotlib.cm as cm\r\n",
        "import matplotlib.colors as colors\r\n",
        "import matplotlib.pyplot as plt\r\n",
        "import matplotlib.cm as cm\r\n",
        "import matplotlib.colors as colors\r\n",
        "%matplotlib inline\r\n",
        "import lxml"
      ],
      "execution_count": 10,
      "outputs": []
    },
    {
      "cell_type": "markdown",
      "metadata": {
        "id": "89QSRQCo277z"
      },
      "source": [
        "**Get the latitude and longitude of Toronto**"
      ]
    },
    {
      "cell_type": "code",
      "metadata": {
        "colab": {
          "base_uri": "https://localhost:8080/"
        },
        "id": "tjumDeV42aTj",
        "outputId": "d2a3b55a-a4a7-4810-90b6-d900dc6e3869"
      },
      "source": [
        "address = \"Toronto, ON\"\r\n",
        "\r\n",
        "geolocator = Nominatim(user_agent=\"toronto_explorer\")\r\n",
        "location = geolocator.geocode(address)\r\n",
        "latitude = location.latitude\r\n",
        "longitude = location.longitude\r\n",
        "print('The geograpical coordinate of Toronto city are {}, {}.'.format(latitude, longitude))"
      ],
      "execution_count": 11,
      "outputs": [
        {
          "output_type": "stream",
          "text": [
            "The geograpical coordinate of Toronto city are 43.6534817, -79.3839347.\n"
          ],
          "name": "stdout"
        }
      ]
    },
    {
      "cell_type": "markdown",
      "metadata": {
        "id": "Jn2eOLI33PVl"
      },
      "source": [
        "**Create a map of the whole Toronto City with neighborhoods superimposed on top**"
      ]
    },
    {
      "cell_type": "code",
      "metadata": {
        "colab": {
          "base_uri": "https://localhost:8080/",
          "height": 589
        },
        "id": "qHkaYzuw3UaN",
        "outputId": "9c4928b3-4502-4c8d-87e6-1caa499b7ec3"
      },
      "source": [
        "map_toronto = folium.Map(location=[latitude, longitude], zoom_start=10)\r\n",
        "map_toronto"
      ],
      "execution_count": 25,
      "outputs": [
        {
          "output_type": "execute_result",
          "data": {
            "text/html": [
              "<div style=\"width:100%;\"><div style=\"position:relative;width:100%;height:0;padding-bottom:60%;\"><span style=\"color:#565656\">Make this Notebook Trusted to load map: File -> Trust Notebook</span><iframe src=\"about:blank\" style=\"position:absolute;width:100%;height:100%;left:0;top:0;border:none !important;\" data-html=PCFET0NUWVBFIGh0bWw+CjxoZWFkPiAgICAKICAgIDxtZXRhIGh0dHAtZXF1aXY9ImNvbnRlbnQtdHlwZSIgY29udGVudD0idGV4dC9odG1sOyBjaGFyc2V0PVVURi04IiAvPgogICAgPHNjcmlwdD5MX1BSRUZFUl9DQU5WQVM9ZmFsc2U7IExfTk9fVE9VQ0g9ZmFsc2U7IExfRElTQUJMRV8zRD1mYWxzZTs8L3NjcmlwdD4KICAgIDxzY3JpcHQgc3JjPSJodHRwczovL2Nkbi5qc2RlbGl2ci5uZXQvbnBtL2xlYWZsZXRAMS40LjAvZGlzdC9sZWFmbGV0LmpzIj48L3NjcmlwdD4KICAgIDxzY3JpcHQgc3JjPSJodHRwczovL2NvZGUuanF1ZXJ5LmNvbS9qcXVlcnktMS4xMi40Lm1pbi5qcyI+PC9zY3JpcHQ+CiAgICA8c2NyaXB0IHNyYz0iaHR0cHM6Ly9tYXhjZG4uYm9vdHN0cmFwY2RuLmNvbS9ib290c3RyYXAvMy4yLjAvanMvYm9vdHN0cmFwLm1pbi5qcyI+PC9zY3JpcHQ+CiAgICA8c2NyaXB0IHNyYz0iaHR0cHM6Ly9jZG5qcy5jbG91ZGZsYXJlLmNvbS9hamF4L2xpYnMvTGVhZmxldC5hd2Vzb21lLW1hcmtlcnMvMi4wLjIvbGVhZmxldC5hd2Vzb21lLW1hcmtlcnMuanMiPjwvc2NyaXB0PgogICAgPGxpbmsgcmVsPSJzdHlsZXNoZWV0IiBocmVmPSJodHRwczovL2Nkbi5qc2RlbGl2ci5uZXQvbnBtL2xlYWZsZXRAMS40LjAvZGlzdC9sZWFmbGV0LmNzcyIvPgogICAgPGxpbmsgcmVsPSJzdHlsZXNoZWV0IiBocmVmPSJodHRwczovL21heGNkbi5ib290c3RyYXBjZG4uY29tL2Jvb3RzdHJhcC8zLjIuMC9jc3MvYm9vdHN0cmFwLm1pbi5jc3MiLz4KICAgIDxsaW5rIHJlbD0ic3R5bGVzaGVldCIgaHJlZj0iaHR0cHM6Ly9tYXhjZG4uYm9vdHN0cmFwY2RuLmNvbS9ib290c3RyYXAvMy4yLjAvY3NzL2Jvb3RzdHJhcC10aGVtZS5taW4uY3NzIi8+CiAgICA8bGluayByZWw9InN0eWxlc2hlZXQiIGhyZWY9Imh0dHBzOi8vbWF4Y2RuLmJvb3RzdHJhcGNkbi5jb20vZm9udC1hd2Vzb21lLzQuNi4zL2Nzcy9mb250LWF3ZXNvbWUubWluLmNzcyIvPgogICAgPGxpbmsgcmVsPSJzdHlsZXNoZWV0IiBocmVmPSJodHRwczovL2NkbmpzLmNsb3VkZmxhcmUuY29tL2FqYXgvbGlicy9MZWFmbGV0LmF3ZXNvbWUtbWFya2Vycy8yLjAuMi9sZWFmbGV0LmF3ZXNvbWUtbWFya2Vycy5jc3MiLz4KICAgIDxsaW5rIHJlbD0ic3R5bGVzaGVldCIgaHJlZj0iaHR0cHM6Ly9yYXdjZG4uZ2l0aGFjay5jb20vcHl0aG9uLXZpc3VhbGl6YXRpb24vZm9saXVtL21hc3Rlci9mb2xpdW0vdGVtcGxhdGVzL2xlYWZsZXQuYXdlc29tZS5yb3RhdGUuY3NzIi8+CiAgICA8c3R5bGU+aHRtbCwgYm9keSB7d2lkdGg6IDEwMCU7aGVpZ2h0OiAxMDAlO21hcmdpbjogMDtwYWRkaW5nOiAwO308L3N0eWxlPgogICAgPHN0eWxlPiNtYXAge3Bvc2l0aW9uOmFic29sdXRlO3RvcDowO2JvdHRvbTowO3JpZ2h0OjA7bGVmdDowO308L3N0eWxlPgogICAgCiAgICA8bWV0YSBuYW1lPSJ2aWV3cG9ydCIgY29udGVudD0id2lkdGg9ZGV2aWNlLXdpZHRoLAogICAgICAgIGluaXRpYWwtc2NhbGU9MS4wLCBtYXhpbXVtLXNjYWxlPTEuMCwgdXNlci1zY2FsYWJsZT1ubyIgLz4KICAgIDxzdHlsZT4jbWFwX2RiYjAxZWMwNGFhZDQwZjU4ZTViZGU0NmJkODA0ZTNmIHsKICAgICAgICBwb3NpdGlvbjogcmVsYXRpdmU7CiAgICAgICAgd2lkdGg6IDEwMC4wJTsKICAgICAgICBoZWlnaHQ6IDEwMC4wJTsKICAgICAgICBsZWZ0OiAwLjAlOwogICAgICAgIHRvcDogMC4wJTsKICAgICAgICB9CiAgICA8L3N0eWxlPgo8L2hlYWQ+Cjxib2R5PiAgICAKICAgIAogICAgPGRpdiBjbGFzcz0iZm9saXVtLW1hcCIgaWQ9Im1hcF9kYmIwMWVjMDRhYWQ0MGY1OGU1YmRlNDZiZDgwNGUzZiIgPjwvZGl2Pgo8L2JvZHk+CjxzY3JpcHQ+ICAgIAogICAgCiAgICAKICAgICAgICB2YXIgYm91bmRzID0gbnVsbDsKICAgIAoKICAgIHZhciBtYXBfZGJiMDFlYzA0YWFkNDBmNThlNWJkZTQ2YmQ4MDRlM2YgPSBMLm1hcCgKICAgICAgICAnbWFwX2RiYjAxZWMwNGFhZDQwZjU4ZTViZGU0NmJkODA0ZTNmJywgewogICAgICAgIGNlbnRlcjogWzQzLjY1MzQ4MTcsIC03OS4zODM5MzQ3XSwKICAgICAgICB6b29tOiAxMCwKICAgICAgICBtYXhCb3VuZHM6IGJvdW5kcywKICAgICAgICBsYXllcnM6IFtdLAogICAgICAgIHdvcmxkQ29weUp1bXA6IGZhbHNlLAogICAgICAgIGNyczogTC5DUlMuRVBTRzM4NTcsCiAgICAgICAgem9vbUNvbnRyb2w6IHRydWUsCiAgICAgICAgfSk7CgoKICAgIAogICAgdmFyIHRpbGVfbGF5ZXJfOTNmZDUyNjE5NDU0NDcwZDhlYjNiNGQ3NTNmZGQ2ZjEgPSBMLnRpbGVMYXllcigKICAgICAgICAnaHR0cHM6Ly97c30udGlsZS5vcGVuc3RyZWV0bWFwLm9yZy97en0ve3h9L3t5fS5wbmcnLAogICAgICAgIHsKICAgICAgICAiYXR0cmlidXRpb24iOiBudWxsLAogICAgICAgICJkZXRlY3RSZXRpbmEiOiBmYWxzZSwKICAgICAgICAibWF4TmF0aXZlWm9vbSI6IDE4LAogICAgICAgICJtYXhab29tIjogMTgsCiAgICAgICAgIm1pblpvb20iOiAwLAogICAgICAgICJub1dyYXAiOiBmYWxzZSwKICAgICAgICAib3BhY2l0eSI6IDEsCiAgICAgICAgInN1YmRvbWFpbnMiOiAiYWJjIiwKICAgICAgICAidG1zIjogZmFsc2UKfSkuYWRkVG8obWFwX2RiYjAxZWMwNGFhZDQwZjU4ZTViZGU0NmJkODA0ZTNmKTsKPC9zY3JpcHQ+ onload=\"this.contentDocument.open();this.contentDocument.write(atob(this.getAttribute('data-html')));this.contentDocument.close();\" allowfullscreen webkitallowfullscreen mozallowfullscreen></iframe></div></div>"
            ],
            "text/plain": [
              "<folium.folium.Map at 0x7f9a0b3bf518>"
            ]
          },
          "metadata": {
            "tags": []
          },
          "execution_count": 25
        }
      ]
    },
    {
      "cell_type": "markdown",
      "metadata": {
        "id": "s5PbL3hFIeXF"
      },
      "source": [
        "**This will color categorize each borough by colors**"
      ]
    },
    {
      "cell_type": "code",
      "metadata": {
        "id": "x0ioH3ZpIbIu"
      },
      "source": [
        "boroughs = df_toronto['Borough'].unique().tolist()\r\n",
        "borough_color = {}\r\n",
        "for borough in boroughs:\r\n",
        "    borough_color[borough]= '#%02X%02X%02X' % tuple(np.random.choice(range(256), size=3)) #Random color"
      ],
      "execution_count": 26,
      "outputs": []
    },
    {
      "cell_type": "markdown",
      "metadata": {
        "id": "fcElpQsmDATf"
      },
      "source": [
        "Add markers to **map**"
      ]
    },
    {
      "cell_type": "code",
      "metadata": {
        "colab": {
          "base_uri": "https://localhost:8080/",
          "height": 589
        },
        "id": "Qdl9oF2F3j2u",
        "outputId": "298939f1-e094-4a49-f83c-a7df1875e9a3"
      },
      "source": [
        "for lat, lng, borough, neighbourhood in zip(\r\n",
        "        df_toronto['Latitude'], \r\n",
        "        df_toronto['Longitude'], \r\n",
        "        df_toronto['Borough'], \r\n",
        "        df_toronto['Neighbourhood']):\r\n",
        "    label = '{}, {}'.format(neighbourhood, borough)\r\n",
        "    label = folium.Popup(label, parse_html=True)\r\n",
        "    folium.CircleMarker(\r\n",
        "        [lat, lng],\r\n",
        "        radius=5,\r\n",
        "        popup=label,\r\n",
        "        color=borough_color[borough],\r\n",
        "        fill=True,\r\n",
        "        fill_color=borough_color[borough],\r\n",
        "        fill_opacity=0.7,\r\n",
        "        parse_html=False).add_to(map_toronto)  \r\n",
        "\r\n",
        "map_toronto"
      ],
      "execution_count": 27,
      "outputs": [
        {
          "output_type": "execute_result",
          "data": {
            "text/html": [
              "<div style=\"width:100%;\"><div style=\"position:relative;width:100%;height:0;padding-bottom:60%;\"><span style=\"color:#565656\">Make this Notebook Trusted to load map: File -> Trust Notebook</span><iframe src=\"about:blank\" style=\"position:absolute;width:100%;height:100%;left:0;top:0;border:none !important;\" data-html=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 onload=\"this.contentDocument.open();this.contentDocument.write(atob(this.getAttribute('data-html')));this.contentDocument.close();\" allowfullscreen webkitallowfullscreen mozallowfullscreen></iframe></div></div>"
            ],
            "text/plain": [
              "<folium.folium.Map at 0x7f9a0b3bf518>"
            ]
          },
          "metadata": {
            "tags": []
          },
          "execution_count": 27
        }
      ]
    },
    {
      "cell_type": "markdown",
      "metadata": {
        "id": "ChXRi9Lk6xG_"
      },
      "source": [
        "**Map of a part of Toronto City - We will work with boroughs that contain the word Toronto**"
      ]
    },
    {
      "cell_type": "code",
      "metadata": {
        "colab": {
          "base_uri": "https://localhost:8080/",
          "height": 225
        },
        "id": "qVnSVT2X6wal",
        "outputId": "691fdcf4-9c1f-4840-c745-a43120fe14c9"
      },
      "source": [
        "df_toronto = df_toronto[df_toronto['Borough'].str.contains(\"Toronto\")].reset_index(drop=True)\r\n",
        "print(df_toronto.shape)\r\n",
        "df_toronto.head()"
      ],
      "execution_count": 82,
      "outputs": [
        {
          "output_type": "stream",
          "text": [
            "(39, 5)\n"
          ],
          "name": "stdout"
        },
        {
          "output_type": "execute_result",
          "data": {
            "text/html": [
              "<div>\n",
              "<style scoped>\n",
              "    .dataframe tbody tr th:only-of-type {\n",
              "        vertical-align: middle;\n",
              "    }\n",
              "\n",
              "    .dataframe tbody tr th {\n",
              "        vertical-align: top;\n",
              "    }\n",
              "\n",
              "    .dataframe thead th {\n",
              "        text-align: right;\n",
              "    }\n",
              "</style>\n",
              "<table border=\"1\" class=\"dataframe\">\n",
              "  <thead>\n",
              "    <tr style=\"text-align: right;\">\n",
              "      <th></th>\n",
              "      <th>PostalCode</th>\n",
              "      <th>Borough</th>\n",
              "      <th>Neighbourhood</th>\n",
              "      <th>Latitude</th>\n",
              "      <th>Longitude</th>\n",
              "    </tr>\n",
              "  </thead>\n",
              "  <tbody>\n",
              "    <tr>\n",
              "      <th>0</th>\n",
              "      <td>M4E</td>\n",
              "      <td>East Toronto</td>\n",
              "      <td>The Beaches</td>\n",
              "      <td>43.676357</td>\n",
              "      <td>-79.293031</td>\n",
              "    </tr>\n",
              "    <tr>\n",
              "      <th>1</th>\n",
              "      <td>M4K</td>\n",
              "      <td>East Toronto</td>\n",
              "      <td>The Danforth West, Riverdale</td>\n",
              "      <td>43.679557</td>\n",
              "      <td>-79.352188</td>\n",
              "    </tr>\n",
              "    <tr>\n",
              "      <th>2</th>\n",
              "      <td>M4L</td>\n",
              "      <td>East Toronto</td>\n",
              "      <td>India Bazaar, The Beaches West</td>\n",
              "      <td>43.668999</td>\n",
              "      <td>-79.315572</td>\n",
              "    </tr>\n",
              "    <tr>\n",
              "      <th>3</th>\n",
              "      <td>M4M</td>\n",
              "      <td>East Toronto</td>\n",
              "      <td>Studio District</td>\n",
              "      <td>43.659526</td>\n",
              "      <td>-79.340923</td>\n",
              "    </tr>\n",
              "    <tr>\n",
              "      <th>4</th>\n",
              "      <td>M4N</td>\n",
              "      <td>Central Toronto</td>\n",
              "      <td>Lawrence Park</td>\n",
              "      <td>43.728020</td>\n",
              "      <td>-79.388790</td>\n",
              "    </tr>\n",
              "  </tbody>\n",
              "</table>\n",
              "</div>"
            ],
            "text/plain": [
              "  PostalCode          Borough  ...   Latitude  Longitude\n",
              "0        M4E     East Toronto  ...  43.676357 -79.293031\n",
              "1        M4K     East Toronto  ...  43.679557 -79.352188\n",
              "2        M4L     East Toronto  ...  43.668999 -79.315572\n",
              "3        M4M     East Toronto  ...  43.659526 -79.340923\n",
              "4        M4N  Central Toronto  ...  43.728020 -79.388790\n",
              "\n",
              "[5 rows x 5 columns]"
            ]
          },
          "metadata": {
            "tags": []
          },
          "execution_count": 82
        }
      ]
    },
    {
      "cell_type": "markdown",
      "metadata": {
        "id": "DEdq3b7dBD8r"
      },
      "source": [
        "**Definition foursqueare Credentials**"
      ]
    },
    {
      "cell_type": "code",
      "metadata": {
        "colab": {
          "base_uri": "https://localhost:8080/"
        },
        "id": "dh1dJBiT7zee",
        "outputId": "781a8e05-9166-4d2f-9496-de42577e3a46"
      },
      "source": [
        "CLIENT_ID = 'G1MSH1RPBTL4V3BKNUMQN0EDUBL2YEXLHTLKDF13JVW0CFFG' #  Foursquare ID\r\n",
        "CLIENT_SECRET = '4RVAIXX4XSSLUZFUXELJW2XH4DUZCL5NKNOZKQBHMAIDY120' #  Foursquare Secret\r\n",
        "VERSION = '20180605' # Foursquare API version\r\n",
        "\r\n",
        "print('My credentails:')\r\n",
        "print('CLIENT_ID: ' + CLIENT_ID)\r\n",
        "print('CLIENT_SECRET:' + CLIENT_SECRET)"
      ],
      "execution_count": 83,
      "outputs": [
        {
          "output_type": "stream",
          "text": [
            "My credentails:\n",
            "CLIENT_ID: G1MSH1RPBTL4V3BKNUMQN0EDUBL2YEXLHTLKDF13JVW0CFFG\n",
            "CLIENT_SECRET:4RVAIXX4XSSLUZFUXELJW2XH4DUZCL5NKNOZKQBHMAIDY120\n"
          ],
          "name": "stdout"
        }
      ]
    },
    {
      "cell_type": "code",
      "metadata": {
        "id": "rzVbSLi38GFc"
      },
      "source": [
        "def geo_location(address):\r\n",
        "    # get geo location of address\r\n",
        "    geolocator = Nominatim(user_agent=\"toronto_explorer\")\r\n",
        "    location = geolocator.geocode(address)\r\n",
        "    latitude = location.latitude\r\n",
        "    longitude = location.longitude\r\n",
        "    return latitude,longitude"
      ],
      "execution_count": 84,
      "outputs": []
    },
    {
      "cell_type": "markdown",
      "metadata": {
        "id": "BlfbogjAkNSa"
      },
      "source": [
        "**Create the GET function venues**"
      ]
    },
    {
      "cell_type": "code",
      "metadata": {
        "id": "n6kx4fWIJW7d"
      },
      "source": [
        "def get_venues(lat,lng):\r\n",
        "    \r\n",
        "    #set variables\r\n",
        "    radius=1000\r\n",
        "    LIMIT=100\r\n",
        "   \r\n",
        "    \r\n",
        "    #url to fetch data from foursquare api\r\n",
        "    url = 'https://api.foursquare.com/v2/venues/explore?&client_id={}&client_secret={}&v={}&ll={},{}&radius={}&limit={}'.format(\r\n",
        "            CLIENT_ID, \r\n",
        "            CLIENT_SECRET, \r\n",
        "            VERSION, \r\n",
        "            lat, \r\n",
        "            lng, \r\n",
        "            radius, \r\n",
        "            LIMIT)\r\n",
        "    \r\n",
        "    # get all the data\r\n",
        "    results = requests.get(url).json()\r\n",
        "    venue_data=results[\"response\"]['groups'][0]['items']\r\n",
        "    venue_details=[]\r\n",
        "    for row in venue_data:\r\n",
        "        try:\r\n",
        "            venue_id=row['venue']['id']\r\n",
        "            venue_name=row['venue']['name']\r\n",
        "            venue_category=row['venue']['categories'][0]['name']\r\n",
        "            venue_details.append([venue_id,venue_name,venue_category])\r\n",
        "        except KeyError:\r\n",
        "            pass\r\n",
        "        \r\n",
        "    column_names=['ID','Name','Category']\r\n",
        "    df = pd.DataFrame(venue_details,columns=column_names)\r\n",
        "    return df"
      ],
      "execution_count": 85,
      "outputs": []
    },
    {
      "cell_type": "markdown",
      "metadata": {
        "id": "zKFY2fkUkjol"
      },
      "source": [
        "**Create the GET function for venue details**"
      ]
    },
    {
      "cell_type": "code",
      "metadata": {
        "id": "W-UpE63sJp72"
      },
      "source": [
        "def get_venue_details(venue_id):\r\n",
        "   \r\n",
        "    \r\n",
        "    #url to fetch data from foursquare api\r\n",
        "    url = 'https://api.foursquare.com/v2/venues/{}?&client_id={}&client_secret={}&v={}'.format(\r\n",
        "            venue_id,\r\n",
        "            CLIENT_ID, \r\n",
        "            CLIENT_SECRET, \r\n",
        "            VERSION)\r\n",
        "    \r\n",
        "    # get all the data\r\n",
        "    results = requests.get(url).json()\r\n",
        "    venue_data=results['response']['venue']\r\n",
        "    venue_details=[]\r\n",
        "    try:\r\n",
        "        venue_id=venue_data['id']\r\n",
        "        venue_name=venue_data['name']\r\n",
        "        venue_likes=venue_data['likes']['count']\r\n",
        "        venue_rating=venue_data['rating']\r\n",
        "        venue_tips=venue_data['tips']['count']\r\n",
        "        venue_details.append([venue_id,venue_name,venue_likes,venue_rating,venue_tips])\r\n",
        "    except KeyError:\r\n",
        "        pass\r\n",
        "        \r\n",
        "    column_names=['ID','Name','Likes','Rating','Tips']\r\n",
        "    df = pd.DataFrame(venue_details,columns=column_names)\r\n",
        "    return df "
      ],
      "execution_count": 86,
      "outputs": []
    },
    {
      "cell_type": "markdown",
      "metadata": {
        "id": "2c6gOu60k4UR"
      },
      "source": [
        "**List of Comic Shop's in Toronto**"
      ]
    },
    {
      "cell_type": "code",
      "metadata": {
        "colab": {
          "base_uri": "https://localhost:8080/",
          "height": 363
        },
        "id": "nrRhK_APJ8C-",
        "outputId": "d6b88772-45dd-4793-f2b9-8f299f0ec0d0"
      },
      "source": [
        "# Prepare neighborhood list that contains Comic Shop\r\n",
        "column_names=['Borough', 'Neighborhood', 'ID','Name']\r\n",
        "comic_shop_df=pd.DataFrame(columns=column_names)\r\n",
        "\r\n",
        "for row in toronto_data.values.tolist():\r\n",
        "    Borough, Neighborhood, Latitude, Longitude=row\r\n",
        "    venues = get_venues(Latitude,Longitude)\r\n",
        "    comic_shop=venues[venues['Category']=='Comic Shop']   \r\n",
        "    for comic_shop_detail in comic_shop.values.tolist():\r\n",
        "        id, name , category=comic_shop_detail\r\n",
        "        comic_shop_df = comic_shop_df.append({'Borough': Borough,\r\n",
        "                                                'Neighborhood': Neighborhood, \r\n",
        "                                                'ID': id,\r\n",
        "                                                'Name' : name\r\n",
        "                                               }, ignore_index=True)\r\n",
        "\r\n",
        "comic_shop_df.head(10)"
      ],
      "execution_count": 87,
      "outputs": [
        {
          "output_type": "execute_result",
          "data": {
            "text/html": [
              "<div>\n",
              "<style scoped>\n",
              "    .dataframe tbody tr th:only-of-type {\n",
              "        vertical-align: middle;\n",
              "    }\n",
              "\n",
              "    .dataframe tbody tr th {\n",
              "        vertical-align: top;\n",
              "    }\n",
              "\n",
              "    .dataframe thead th {\n",
              "        text-align: right;\n",
              "    }\n",
              "</style>\n",
              "<table border=\"1\" class=\"dataframe\">\n",
              "  <thead>\n",
              "    <tr style=\"text-align: right;\">\n",
              "      <th></th>\n",
              "      <th>Borough</th>\n",
              "      <th>Neighborhood</th>\n",
              "      <th>ID</th>\n",
              "      <th>Name</th>\n",
              "    </tr>\n",
              "  </thead>\n",
              "  <tbody>\n",
              "    <tr>\n",
              "      <th>0</th>\n",
              "      <td>East Toronto</td>\n",
              "      <td>India Bazaar, The Beaches West</td>\n",
              "      <td>55667a68498e74fae3631f5e</td>\n",
              "      <td>The Sidekick</td>\n",
              "    </tr>\n",
              "    <tr>\n",
              "      <th>1</th>\n",
              "      <td>Downtown Toronto</td>\n",
              "      <td>Church and Wellesley</td>\n",
              "      <td>55007fd7498ed027fd04b664</td>\n",
              "      <td>Page &amp; Panel: The TCAF Shop</td>\n",
              "    </tr>\n",
              "    <tr>\n",
              "      <th>2</th>\n",
              "      <td>Downtown Toronto</td>\n",
              "      <td>Garden District, Ryerson</td>\n",
              "      <td>4ad4c062f964a5200bf820e3</td>\n",
              "      <td>Silver Snail Comics</td>\n",
              "    </tr>\n",
              "    <tr>\n",
              "      <th>3</th>\n",
              "      <td>Downtown Toronto</td>\n",
              "      <td>St. James Town</td>\n",
              "      <td>4ad4c062f964a5200bf820e3</td>\n",
              "      <td>Silver Snail Comics</td>\n",
              "    </tr>\n",
              "    <tr>\n",
              "      <th>4</th>\n",
              "      <td>Downtown Toronto</td>\n",
              "      <td>Central Bay Street</td>\n",
              "      <td>4ad4c062f964a5200bf820e3</td>\n",
              "      <td>Silver Snail Comics</td>\n",
              "    </tr>\n",
              "    <tr>\n",
              "      <th>5</th>\n",
              "      <td>Downtown Toronto</td>\n",
              "      <td>Richmond, Adelaide, King</td>\n",
              "      <td>4ad4c062f964a5200bf820e3</td>\n",
              "      <td>Silver Snail Comics</td>\n",
              "    </tr>\n",
              "    <tr>\n",
              "      <th>6</th>\n",
              "      <td>Downtown Toronto</td>\n",
              "      <td>University of Toronto, Harbord</td>\n",
              "      <td>4e4564e0d4c065cb6b90d289</td>\n",
              "      <td>Little Island Comics</td>\n",
              "    </tr>\n",
              "    <tr>\n",
              "      <th>7</th>\n",
              "      <td>Downtown Toronto</td>\n",
              "      <td>Kensington Market, Chinatown, Grange Park</td>\n",
              "      <td>4e4564e0d4c065cb6b90d289</td>\n",
              "      <td>Little Island Comics</td>\n",
              "    </tr>\n",
              "    <tr>\n",
              "      <th>8</th>\n",
              "      <td>Downtown Toronto</td>\n",
              "      <td>Queen's Park, Ontario Provincial Government</td>\n",
              "      <td>4ad4c062f964a5200bf820e3</td>\n",
              "      <td>Silver Snail Comics</td>\n",
              "    </tr>\n",
              "    <tr>\n",
              "      <th>9</th>\n",
              "      <td>East Toronto</td>\n",
              "      <td>Business reply mail Processing Centre, South C...</td>\n",
              "      <td>55667a68498e74fae3631f5e</td>\n",
              "      <td>The Sidekick</td>\n",
              "    </tr>\n",
              "  </tbody>\n",
              "</table>\n",
              "</div>"
            ],
            "text/plain": [
              "            Borough  ...                         Name\n",
              "0      East Toronto  ...                 The Sidekick\n",
              "1  Downtown Toronto  ...  Page & Panel: The TCAF Shop\n",
              "2  Downtown Toronto  ...          Silver Snail Comics\n",
              "3  Downtown Toronto  ...          Silver Snail Comics\n",
              "4  Downtown Toronto  ...          Silver Snail Comics\n",
              "5  Downtown Toronto  ...          Silver Snail Comics\n",
              "6  Downtown Toronto  ...         Little Island Comics\n",
              "7  Downtown Toronto  ...         Little Island Comics\n",
              "8  Downtown Toronto  ...          Silver Snail Comics\n",
              "9      East Toronto  ...                 The Sidekick\n",
              "\n",
              "[10 rows x 4 columns]"
            ]
          },
          "metadata": {
            "tags": []
          },
          "execution_count": 87
        }
      ]
    },
    {
      "cell_type": "markdown",
      "metadata": {
        "id": "y8U-vkWTllk9"
      },
      "source": [
        "**Now we got all the Comic Shop's in the Toronto**"
      ]
    },
    {
      "cell_type": "code",
      "metadata": {
        "colab": {
          "base_uri": "https://localhost:8080/"
        },
        "id": "5Ae2B9g4Lwnu",
        "outputId": "ba978f07-d3b6-4067-9aa8-b68ef4a501db"
      },
      "source": [
        "comic_shop_df.shape"
      ],
      "execution_count": 101,
      "outputs": [
        {
          "output_type": "stream",
          "text": [
            "(10, 4)\n"
          ],
          "name": "stdout"
        }
      ]
    },
    {
      "cell_type": "markdown",
      "metadata": {
        "id": "S428xpwul_Ze"
      },
      "source": [
        "\r\n",
        "\r\n",
        "We got 10 Comic Shop'2 across Toronto\r\n"
      ]
    },
    {
      "cell_type": "code",
      "metadata": {
        "colab": {
          "base_uri": "https://localhost:8080/",
          "height": 601
        },
        "id": "kn6dHJbyNT12",
        "outputId": "14001c4a-e4c8-4b42-c004-09fee21e9bc6"
      },
      "source": [
        "plt.figure(figsize=(9,5), dpi = 100)\r\n",
        "# title\r\n",
        "plt.title('Number of Comic Shop for each Borough in Toronto City')\r\n",
        "#On x-axis\r\n",
        "plt.xlabel('Borough', fontsize = 15)\r\n",
        "#On y-axis\r\n",
        "plt.ylabel('No.of Comic Shops', fontsize=15)\r\n",
        "#giving a bar plot\r\n",
        "comic_shop_df.groupby('Borough')['ID'].count().plot(kind='bar')\r\n",
        "#legend\r\n",
        "plt.legend()\r\n",
        "#displays the plot\r\n",
        "plt.show()"
      ],
      "execution_count": 89,
      "outputs": [
        {
          "output_type": "display_data",
          "data": {
            "image/png": "[encoded data removed]",
            "text/plain": [
              "<Figure size 900x500 with 1 Axes>"
            ]
          },
          "metadata": {
            "tags": [],
            "needs_background": "light"
          }
        }
      ]
    },
    {
      "cell_type": "markdown",
      "metadata": {
        "id": "9BUPkPuNgtHJ"
      },
      "source": [
        "**It is noted that Downtown Toronto has the highest number of Comic Shop's.**\r\n"
      ]
    },
    {
      "cell_type": "code",
      "metadata": {
        "colab": {
          "base_uri": "https://localhost:8080/",
          "height": 300
        },
        "id": "ejuGBiPygP4T",
        "outputId": "9e9e2515-cec1-49b5-b7f3-1521aa1fda75"
      },
      "source": [
        "comic_shop_df[comic_shop_df['Borough']=='Downtown Toronto']"
      ],
      "execution_count": 96,
      "outputs": [
        {
          "output_type": "execute_result",
          "data": {
            "text/html": [
              "<div>\n",
              "<style scoped>\n",
              "    .dataframe tbody tr th:only-of-type {\n",
              "        vertical-align: middle;\n",
              "    }\n",
              "\n",
              "    .dataframe tbody tr th {\n",
              "        vertical-align: top;\n",
              "    }\n",
              "\n",
              "    .dataframe thead th {\n",
              "        text-align: right;\n",
              "    }\n",
              "</style>\n",
              "<table border=\"1\" class=\"dataframe\">\n",
              "  <thead>\n",
              "    <tr style=\"text-align: right;\">\n",
              "      <th></th>\n",
              "      <th>Borough</th>\n",
              "      <th>Neighborhood</th>\n",
              "      <th>ID</th>\n",
              "      <th>Name</th>\n",
              "    </tr>\n",
              "  </thead>\n",
              "  <tbody>\n",
              "    <tr>\n",
              "      <th>1</th>\n",
              "      <td>Downtown Toronto</td>\n",
              "      <td>Church and Wellesley</td>\n",
              "      <td>55007fd7498ed027fd04b664</td>\n",
              "      <td>Page &amp; Panel: The TCAF Shop</td>\n",
              "    </tr>\n",
              "    <tr>\n",
              "      <th>2</th>\n",
              "      <td>Downtown Toronto</td>\n",
              "      <td>Garden District, Ryerson</td>\n",
              "      <td>4ad4c062f964a5200bf820e3</td>\n",
              "      <td>Silver Snail Comics</td>\n",
              "    </tr>\n",
              "    <tr>\n",
              "      <th>3</th>\n",
              "      <td>Downtown Toronto</td>\n",
              "      <td>St. James Town</td>\n",
              "      <td>4ad4c062f964a5200bf820e3</td>\n",
              "      <td>Silver Snail Comics</td>\n",
              "    </tr>\n",
              "    <tr>\n",
              "      <th>4</th>\n",
              "      <td>Downtown Toronto</td>\n",
              "      <td>Central Bay Street</td>\n",
              "      <td>4ad4c062f964a5200bf820e3</td>\n",
              "      <td>Silver Snail Comics</td>\n",
              "    </tr>\n",
              "    <tr>\n",
              "      <th>5</th>\n",
              "      <td>Downtown Toronto</td>\n",
              "      <td>Richmond, Adelaide, King</td>\n",
              "      <td>4ad4c062f964a5200bf820e3</td>\n",
              "      <td>Silver Snail Comics</td>\n",
              "    </tr>\n",
              "    <tr>\n",
              "      <th>6</th>\n",
              "      <td>Downtown Toronto</td>\n",
              "      <td>University of Toronto, Harbord</td>\n",
              "      <td>4e4564e0d4c065cb6b90d289</td>\n",
              "      <td>Little Island Comics</td>\n",
              "    </tr>\n",
              "    <tr>\n",
              "      <th>7</th>\n",
              "      <td>Downtown Toronto</td>\n",
              "      <td>Kensington Market, Chinatown, Grange Park</td>\n",
              "      <td>4e4564e0d4c065cb6b90d289</td>\n",
              "      <td>Little Island Comics</td>\n",
              "    </tr>\n",
              "    <tr>\n",
              "      <th>8</th>\n",
              "      <td>Downtown Toronto</td>\n",
              "      <td>Queen's Park, Ontario Provincial Government</td>\n",
              "      <td>4ad4c062f964a5200bf820e3</td>\n",
              "      <td>Silver Snail Comics</td>\n",
              "    </tr>\n",
              "  </tbody>\n",
              "</table>\n",
              "</div>"
            ],
            "text/plain": [
              "            Borough  ...                         Name\n",
              "1  Downtown Toronto  ...  Page & Panel: The TCAF Shop\n",
              "2  Downtown Toronto  ...          Silver Snail Comics\n",
              "3  Downtown Toronto  ...          Silver Snail Comics\n",
              "4  Downtown Toronto  ...          Silver Snail Comics\n",
              "5  Downtown Toronto  ...          Silver Snail Comics\n",
              "6  Downtown Toronto  ...         Little Island Comics\n",
              "7  Downtown Toronto  ...         Little Island Comics\n",
              "8  Downtown Toronto  ...          Silver Snail Comics\n",
              "\n",
              "[8 rows x 4 columns]"
            ]
          },
          "metadata": {
            "tags": []
          },
          "execution_count": 96
        }
      ]
    },
    {
      "cell_type": "code",
      "metadata": {
        "colab": {
          "base_uri": "https://localhost:8080/",
          "height": 1000
        },
        "id": "qTBCz8leN4_D",
        "outputId": "008186bb-a2f4-409e-ee13-8372c926a77a"
      },
      "source": [
        "plt.figure(figsize=(10,5), dpi = 100)\r\n",
        "# title\r\n",
        "plt.title('Number of Comic Shop for each Neighborhood in Toronto City')\r\n",
        "#On x-axis\r\n",
        "plt.xlabel('Neighborhood', fontsize = 15)\r\n",
        "#On y-axis\r\n",
        "plt.ylabel('No.of Comic Shop', fontsize=15)\r\n",
        "#giving a bar plot\r\n",
        "comic_shop_df.groupby('Neighborhood')['ID'].count().nlargest(10).plot(kind='bar')\r\n",
        "#legend\r\n",
        "plt.legend()\r\n",
        "#displays the plot\r\n",
        "plt.show()"
      ],
      "execution_count": 90,
      "outputs": [
        {
          "output_type": "display_data",
          "data": {
            "image/png": "[encoded data removed]",
            "text/plain": [
              "<Figure size 1000x500 with 1 Axes>"
            ]
          },
          "metadata": {
            "tags": [],
            "needs_background": "light"
          }
        }
      ]
    },
    {
      "cell_type": "markdown",
      "metadata": {
        "id": "asasTdKom78N"
      },
      "source": [
        "**Now we will get the ranking of each Comic Shop for further analysis.**"
      ]
    },
    {
      "cell_type": "code",
      "metadata": {
        "colab": {
          "base_uri": "https://localhost:8080/",
          "height": 382
        },
        "id": "-JnKzG0sZaUr",
        "outputId": "210e7122-5a45-4084-db16-1aeb979126ee"
      },
      "source": [
        "#prepare neighborhood list that contains Comic Shops\r\n",
        "column_names=['Borough', 'Neighborhood', 'ID','Name','Likes','Rating','Tips']\r\n",
        "comic_shop_stats_df=pd.DataFrame(columns=column_names)\r\n",
        "count=1\r\n",
        "\r\n",
        "\r\n",
        "for row in comic_shop_df.values.tolist():\r\n",
        "    Borough,Neighborhood,ID,Name=row\r\n",
        "    try:\r\n",
        "        venue_details=get_venue_details(ID)\r\n",
        "        print(venue_details)\r\n",
        "        id,name,likes,rating,tips=venue_details.values.tolist()[0]\r\n",
        "    except IndexError:\r\n",
        "        print('No data available for id=',ID)\r\n",
        "        # we will assign 0 value for these resturants as they may have been \r\n",
        "        #recently opened or details does not exist in FourSquare Database\r\n",
        "        id,name,likes,rating,tips=[0]*5\r\n",
        "    print('(',count,'/',len(indian_rest_to),')','processed')\r\n",
        "    comic_shop_stats_df = comic_shop_stats_df.append({'Borough': Borough,\r\n",
        "                                                'Neighborhood': Neighborhood, \r\n",
        "                                                'ID': id,\r\n",
        "                                                'Name' : name,\r\n",
        "                                                'Likes' : likes,\r\n",
        "                                                'Rating' : rating,\r\n",
        "                                                'Tips' : tips\r\n",
        "                                               }, ignore_index=True)\r\n",
        "    count+=1\r\n",
        "\r\n"
      ],
      "execution_count": 97,
      "outputs": [
        {
          "output_type": "error",
          "ename": "KeyError",
          "evalue": "ignored",
          "traceback": [
            "\u001b[0;31m---------------------------------------------------------------------------\u001b[0m",
            "\u001b[0;31mKeyError\u001b[0m                                  Traceback (most recent call last)",
            "\u001b[0;32m<ipython-input-97-0fd983ada79c>\u001b[0m in \u001b[0;36m<module>\u001b[0;34m()\u001b[0m\n\u001b[1;32m      8\u001b[0m     \u001b[0mBorough\u001b[0m\u001b[0;34m,\u001b[0m\u001b[0mNeighborhood\u001b[0m\u001b[0;34m,\u001b[0m\u001b[0mID\u001b[0m\u001b[0;34m,\u001b[0m\u001b[0mName\u001b[0m\u001b[0;34m=\u001b[0m\u001b[0mrow\u001b[0m\u001b[0;34m\u001b[0m\u001b[0;34m\u001b[0m\u001b[0m\n\u001b[1;32m      9\u001b[0m     \u001b[0;32mtry\u001b[0m\u001b[0;34m:\u001b[0m\u001b[0;34m\u001b[0m\u001b[0;34m\u001b[0m\u001b[0m\n\u001b[0;32m---> 10\u001b[0;31m         \u001b[0mvenue_details\u001b[0m\u001b[0;34m=\u001b[0m\u001b[0mget_venue_details\u001b[0m\u001b[0;34m(\u001b[0m\u001b[0mID\u001b[0m\u001b[0;34m)\u001b[0m\u001b[0;34m\u001b[0m\u001b[0;34m\u001b[0m\u001b[0m\n\u001b[0m\u001b[1;32m     11\u001b[0m         \u001b[0mprint\u001b[0m\u001b[0;34m(\u001b[0m\u001b[0mvenue_details\u001b[0m\u001b[0;34m)\u001b[0m\u001b[0;34m\u001b[0m\u001b[0;34m\u001b[0m\u001b[0m\n\u001b[1;32m     12\u001b[0m         \u001b[0mid\u001b[0m\u001b[0;34m,\u001b[0m\u001b[0mname\u001b[0m\u001b[0;34m,\u001b[0m\u001b[0mlikes\u001b[0m\u001b[0;34m,\u001b[0m\u001b[0mrating\u001b[0m\u001b[0;34m,\u001b[0m\u001b[0mtips\u001b[0m\u001b[0;34m=\u001b[0m\u001b[0mvenue_details\u001b[0m\u001b[0;34m.\u001b[0m\u001b[0mvalues\u001b[0m\u001b[0;34m.\u001b[0m\u001b[0mtolist\u001b[0m\u001b[0;34m(\u001b[0m\u001b[0;34m)\u001b[0m\u001b[0;34m[\u001b[0m\u001b[0;36m0\u001b[0m\u001b[0;34m]\u001b[0m\u001b[0;34m\u001b[0m\u001b[0;34m\u001b[0m\u001b[0m\n",
            "\u001b[0;32m<ipython-input-86-0391415815db>\u001b[0m in \u001b[0;36mget_venue_details\u001b[0;34m(venue_id)\u001b[0m\n\u001b[1;32m     11\u001b[0m     \u001b[0;31m# get all the data\u001b[0m\u001b[0;34m\u001b[0m\u001b[0;34m\u001b[0m\u001b[0;34m\u001b[0m\u001b[0m\n\u001b[1;32m     12\u001b[0m     \u001b[0mresults\u001b[0m \u001b[0;34m=\u001b[0m \u001b[0mrequests\u001b[0m\u001b[0;34m.\u001b[0m\u001b[0mget\u001b[0m\u001b[0;34m(\u001b[0m\u001b[0murl\u001b[0m\u001b[0;34m)\u001b[0m\u001b[0;34m.\u001b[0m\u001b[0mjson\u001b[0m\u001b[0;34m(\u001b[0m\u001b[0;34m)\u001b[0m\u001b[0;34m\u001b[0m\u001b[0;34m\u001b[0m\u001b[0m\n\u001b[0;32m---> 13\u001b[0;31m     \u001b[0mvenue_data\u001b[0m\u001b[0;34m=\u001b[0m\u001b[0mresults\u001b[0m\u001b[0;34m[\u001b[0m\u001b[0;34m'response'\u001b[0m\u001b[0;34m]\u001b[0m\u001b[0;34m[\u001b[0m\u001b[0;34m'venue'\u001b[0m\u001b[0;34m]\u001b[0m\u001b[0;34m\u001b[0m\u001b[0;34m\u001b[0m\u001b[0m\n\u001b[0m\u001b[1;32m     14\u001b[0m     \u001b[0mvenue_details\u001b[0m\u001b[0;34m=\u001b[0m\u001b[0;34m[\u001b[0m\u001b[0;34m]\u001b[0m\u001b[0;34m\u001b[0m\u001b[0;34m\u001b[0m\u001b[0m\n\u001b[1;32m     15\u001b[0m     \u001b[0;32mtry\u001b[0m\u001b[0;34m:\u001b[0m\u001b[0;34m\u001b[0m\u001b[0;34m\u001b[0m\u001b[0m\n",
            "\u001b[0;31mKeyError\u001b[0m: 'venue'"
          ]
        }
      ]
    },
    {
      "cell_type": "markdown",
      "metadata": {
        "id": "lBMk3ubGnTKe"
      },
      "source": [
        "**We need to convert Likes, Tips into float values for further analysis.**\r\n"
      ]
    },
    {
      "cell_type": "code",
      "metadata": {
        "colab": {
          "base_uri": "https://localhost:8080/"
        },
        "id": "LQrJ09PTVYBG",
        "outputId": "47b6697b-c0c8-4999-9063-04f640fe84a9"
      },
      "source": [
        "comic_shop_stats_df.info()"
      ],
      "execution_count": 61,
      "outputs": [
        {
          "output_type": "stream",
          "text": [
            "<class 'pandas.core.frame.DataFrame'>\n",
            "RangeIndex: 10 entries, 0 to 9\n",
            "Data columns (total 7 columns):\n",
            " #   Column        Non-Null Count  Dtype  \n",
            "---  ------        --------------  -----  \n",
            " 0   Borough       10 non-null     object \n",
            " 1   Neighborhood  10 non-null     object \n",
            " 2   ID            10 non-null     object \n",
            " 3   Name          10 non-null     object \n",
            " 4   Likes         10 non-null     object \n",
            " 5   Rating        10 non-null     float64\n",
            " 6   Tips          10 non-null     object \n",
            "dtypes: float64(1), object(6)\n",
            "memory usage: 688.0+ bytes\n"
          ],
          "name": "stdout"
        }
      ]
    },
    {
      "cell_type": "code",
      "metadata": {
        "colab": {
          "base_uri": "https://localhost:8080/"
        },
        "id": "GJ4kepLuVhkI",
        "outputId": "ae80d7a2-576d-4d17-c336-a0dc622ba6b4"
      },
      "source": [
        "comic_shop_stats_df[['Likes','Tips']]=comic_shop_stats_df[['Likes','Tips']].astype('float64')\r\n",
        "comic_shop_stats_df.info()"
      ],
      "execution_count": 63,
      "outputs": [
        {
          "output_type": "stream",
          "text": [
            "<class 'pandas.core.frame.DataFrame'>\n",
            "RangeIndex: 10 entries, 0 to 9\n",
            "Data columns (total 7 columns):\n",
            " #   Column        Non-Null Count  Dtype  \n",
            "---  ------        --------------  -----  \n",
            " 0   Borough       10 non-null     object \n",
            " 1   Neighborhood  10 non-null     object \n",
            " 2   ID            10 non-null     object \n",
            " 3   Name          10 non-null     object \n",
            " 4   Likes         10 non-null     float64\n",
            " 5   Rating        10 non-null     float64\n",
            " 6   Tips          10 non-null     float64\n",
            "dtypes: float64(3), object(4)\n",
            "memory usage: 688.0+ bytes\n"
          ],
          "name": "stdout"
        }
      ]
    },
    {
      "cell_type": "code",
      "metadata": {
        "id": "Eo78-PtLbAZ4"
      },
      "source": [
        "# Comic Shop's with maximum Likes\r\n",
        "comic_shop_stats_df.iloc[comic_shop_stats_df['Likes'].idxmax()]"
      ],
      "execution_count": null,
      "outputs": []
    },
    {
      "cell_type": "code",
      "metadata": {
        "id": "4qTx81JQbesN"
      },
      "source": [
        "# Comic Shop's with maximum Rating\r\n",
        "comic_shop_stats_df.iloc[comic_shop_stats_df['Rating'].idxmax()]"
      ],
      "execution_count": null,
      "outputs": []
    },
    {
      "cell_type": "code",
      "metadata": {
        "id": "4vkPO1xzcCSA"
      },
      "source": [
        "# Comic Shop's with maximum Tips\r\n",
        "comic_shop_stats_df.iloc[comic_shop_stats_df['Tips'].idxmax()]"
      ],
      "execution_count": null,
      "outputs": []
    },
    {
      "cell_type": "markdown",
      "metadata": {
        "id": "tj8enTeon5QX"
      },
      "source": [
        "**Lets find out average rating of Comic Shops in the particular Neighborhood**"
      ]
    },
    {
      "cell_type": "code",
      "metadata": {
        "id": "4cvvjm_qV7zV"
      },
      "source": [
        "neighbourhood_stats=comic_shop_stats_df.groupby('Neighborhood',as_index=False).mean()[['Neighborhood','Rating']]\r\n",
        "neighbourhood_stats.columns=['Neighborhood','Average Rating']"
      ],
      "execution_count": null,
      "outputs": []
    },
    {
      "cell_type": "code",
      "metadata": {
        "id": "_O2zIq6pcTgi"
      },
      "source": [
        "neighborhood_stats.sort_values(['Average Rating'],ascending=False).head(10)"
      ],
      "execution_count": null,
      "outputs": []
    },
    {
      "cell_type": "markdown",
      "metadata": {
        "id": "oSQPabJjoK-D"
      },
      "source": [
        "**Similarly lets do it for Borough**\r\n"
      ]
    },
    {
      "cell_type": "code",
      "metadata": {
        "id": "tU2qy8F5cWI6"
      },
      "source": [
        "borough_stats=comic_shop_stats_df.groupby('Borough',as_index=False).mean()[['Borough','Rating']]\r\n",
        "borough_stats.columns=['Borough','Average Rating']"
      ],
      "execution_count": null,
      "outputs": []
    },
    {
      "cell_type": "markdown",
      "metadata": {
        "id": "YnlNbPyMohS-"
      },
      "source": [
        "**Sort them**"
      ]
    },
    {
      "cell_type": "code",
      "metadata": {
        "id": "YOHk66LTc0oo"
      },
      "source": [
        "borough_stats.sort_values(['Average Rating'],ascending=False).head()"
      ],
      "execution_count": null,
      "outputs": []
    },
    {
      "cell_type": "markdown",
      "metadata": {
        "id": "cgVV6TylovNN"
      },
      "source": [
        "**Lets visualize it.**"
      ]
    },
    {
      "cell_type": "code",
      "metadata": {
        "id": "5AeD4xjdc9Gd"
      },
      "source": [
        "plt.figure(figsize=(9,5), dpi = 100)\r\n",
        "# title\r\n",
        "plt.title(\"Average rating of Comic Shop's in each Borough\")\r\n",
        "#On x-axis\r\n",
        "plt.xlabel('Borough', fontsize = 15)\r\n",
        "#On y-axis\r\n",
        "plt.ylabel('Average Rating', fontsize=15)\r\n",
        "#giving a bar plot\r\n",
        "comic_shop_stats_df.groupby('Borough').mean()['Rating'].plot(kind='bar')\r\n",
        "#legend\r\n",
        "plt.legend()\r\n",
        "#displays the plot\r\n",
        "plt.show()"
      ],
      "execution_count": null,
      "outputs": []
    },
    {
      "cell_type": "code",
      "metadata": {
        "id": "vpwo9WT7dVb0"
      },
      "source": [
        "neighborhood_stats "
      ],
      "execution_count": null,
      "outputs": []
    },
    {
      "cell_type": "markdown",
      "metadata": {
        "id": "KJ8jpJAAo7vU"
      },
      "source": [
        "Now we will merge the toronto dataset to get Latitude and Longitude"
      ]
    },
    {
      "cell_type": "code",
      "metadata": {
        "id": "7tpIYnune1j0"
      },
      "source": [
        "neighborhood_stats=pd.merge(neighborhood_stats,toronto_data, on='Neighborhood')"
      ],
      "execution_count": null,
      "outputs": []
    },
    {
      "cell_type": "code",
      "metadata": {
        "id": "MbeLj30CiD84"
      },
      "source": [
        "neighborhood_stats=neighborhood_stats[['Borough','Neighborhood','Latitude','Longitude','Average Rating']]"
      ],
      "execution_count": null,
      "outputs": []
    },
    {
      "cell_type": "code",
      "metadata": {
        "id": "VQ1yIECYiKbS"
      },
      "source": [
        "neighborhood_stats.sort_values(['Average Rating'],ascending=False).head(10)"
      ],
      "execution_count": null,
      "outputs": []
    },
    {
      "cell_type": "code",
      "metadata": {
        "id": "oZ4MYPFyiVOX"
      },
      "source": [
        "# instantiate a feature group for the incidents in the dataframe\r\n",
        "incidents = folium.map.FeatureGroup()\r\n",
        "\r\n",
        "# loop through the 100 crimes and add each to the incidents feature group\r\n",
        "for lat, lng, in neighborhood_stats[['Latitude','Longitude']].values:\r\n",
        "    incidents.add_child(\r\n",
        "        folium.CircleMarker(\r\n",
        "            [lat, lng],\r\n",
        "            radius=10, # define how big you want the circle markers to be\r\n",
        "            color='yellow',\r\n",
        "            fill=True,\r\n",
        "            fill_color='blue',\r\n",
        "            fill_opacity=0.6\r\n",
        "        )\r\n",
        "    )"
      ],
      "execution_count": null,
      "outputs": []
    },
    {
      "cell_type": "code",
      "metadata": {
        "id": "rEZAh9_WjDCa"
      },
      "source": [
        "neighborhood_stats['Label']=neighborhood_stats['Neighborhood']+', '+neighborhood_stats['Borough']+'('+neighborhood_stats['Average Rating'].map(str)+')'"
      ],
      "execution_count": null,
      "outputs": []
    },
    {
      "cell_type": "code",
      "metadata": {
        "id": "anwgBFxyjYZk"
      },
      "source": [
        "# add pop-up text to each marker on the map\r\n",
        "for lat, lng, label in neighborhood_stats[['Latitude','Longitude','Label']].values:\r\n",
        "    folium.Marker([lat, lng], popup=label).add_to(map_toronto)        \r\n",
        "# add incidents to map\r\n",
        "map_toronto.add_child(incidents)"
      ],
      "execution_count": null,
      "outputs": []
    }
  ]
}